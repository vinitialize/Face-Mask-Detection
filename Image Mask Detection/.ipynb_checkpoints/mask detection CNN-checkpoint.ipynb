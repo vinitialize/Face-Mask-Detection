{
 "cells": [
  {
   "cell_type": "code",
   "execution_count": null,
   "metadata": {
    "colab_type": "text",
    "id": "LWZHjFlZo200"
   },
   "outputs": [],
   "source": [
    "# Training CNN model to predict Mask and No Mask  (Images)\n",
    "\n"
   ]
  },
  {
   "cell_type": "markdown",
   "metadata": {
    "colab_type": "text",
    "id": "NgP9otoVjQkc"
   },
   "source": [
    "# Install Packages"
   ]
  },
  {
   "cell_type": "code",
   "execution_count": 1,
   "metadata": {
    "colab": {
     "base_uri": "https://localhost:8080/",
     "height": 1000
    },
    "colab_type": "code",
    "executionInfo": {
     "elapsed": 9130,
     "status": "ok",
     "timestamp": 1600085323942,
     "user": {
      "displayName": "indian ai production-editor",
      "photoUrl": "",
      "userId": "05336710603640792650"
     },
     "user_tz": -330
    },
    "id": "G_U7uLqKjUCb",
    "outputId": "909d1362-ed3b-46e9-ea8e-2fdceb62d94a"
   },
   "outputs": [
    {
     "name": "stdout",
     "output_type": "stream",
     "text": [
      "Requirement already satisfied: tensorflow in c:\\users\\vinit\\anaconda3\\lib\\site-packages (2.4.0)\n",
      "Requirement already satisfied: absl-py~=0.10 in c:\\users\\vinit\\anaconda3\\lib\\site-packages (from tensorflow) (0.11.0)\n",
      "Requirement already satisfied: h5py~=2.10.0 in c:\\users\\vinit\\anaconda3\\lib\\site-packages (from tensorflow) (2.10.0)\n",
      "Requirement already satisfied: termcolor~=1.1.0 in c:\\users\\vinit\\anaconda3\\lib\\site-packages (from tensorflow) (1.1.0)\n",
      "Requirement already satisfied: wrapt~=1.12.1 in c:\\users\\vinit\\anaconda3\\lib\\site-packages (from tensorflow) (1.12.1)\n",
      "Requirement already satisfied: tensorflow-estimator<2.5.0,>=2.4.0rc0 in c:\\users\\vinit\\anaconda3\\lib\\site-packages (from tensorflow) (2.4.0)\n",
      "Requirement already satisfied: numpy~=1.19.2 in c:\\users\\vinit\\anaconda3\\lib\\site-packages (from tensorflow) (1.19.2)\n",
      "Requirement already satisfied: protobuf>=3.9.2 in c:\\users\\vinit\\anaconda3\\lib\\site-packages (from tensorflow) (3.14.0)\n",
      "Requirement already satisfied: six~=1.15.0 in c:\\users\\vinit\\anaconda3\\lib\\site-packages (from tensorflow) (1.15.0)\n",
      "Requirement already satisfied: google-pasta~=0.2 in c:\\users\\vinit\\anaconda3\\lib\\site-packages (from tensorflow) (0.2.0)\n",
      "Requirement already satisfied: typing-extensions~=3.7.4 in c:\\users\\vinit\\anaconda3\\lib\\site-packages (from tensorflow) (3.7.4.3)\n",
      "Requirement already satisfied: grpcio~=1.32.0 in c:\\users\\vinit\\anaconda3\\lib\\site-packages (from tensorflow) (1.32.0)\n",
      "Requirement already satisfied: astunparse~=1.6.3 in c:\\users\\vinit\\anaconda3\\lib\\site-packages (from tensorflow) (1.6.3)\n",
      "Requirement already satisfied: opt-einsum~=3.3.0 in c:\\users\\vinit\\anaconda3\\lib\\site-packages (from tensorflow) (3.3.0)\n",
      "Requirement already satisfied: wheel~=0.35 in c:\\users\\vinit\\anaconda3\\lib\\site-packages (from tensorflow) (0.35.1)\n",
      "Requirement already satisfied: tensorboard~=2.4 in c:\\users\\vinit\\anaconda3\\lib\\site-packages (from tensorflow) (2.4.0)\n",
      "Requirement already satisfied: keras-preprocessing~=1.1.2 in c:\\users\\vinit\\anaconda3\\lib\\site-packages (from tensorflow) (1.1.2)\n",
      "Requirement already satisfied: flatbuffers~=1.12.0 in c:\\users\\vinit\\anaconda3\\lib\\site-packages (from tensorflow) (1.12)\n",
      "Requirement already satisfied: gast==0.3.3 in c:\\users\\vinit\\anaconda3\\lib\\site-packages (from tensorflow) (0.3.3)\n",
      "Requirement already satisfied: google-auth-oauthlib<0.5,>=0.4.1 in c:\\users\\vinit\\anaconda3\\lib\\site-packages (from tensorboard~=2.4->tensorflow) (0.4.2)\n",
      "Requirement already satisfied: requests<3,>=2.21.0 in c:\\users\\vinit\\anaconda3\\lib\\site-packages (from tensorboard~=2.4->tensorflow) (2.24.0)\n",
      "Requirement already satisfied: werkzeug>=0.11.15 in c:\\users\\vinit\\anaconda3\\lib\\site-packages (from tensorboard~=2.4->tensorflow) (1.0.1)\n",
      "Requirement already satisfied: setuptools>=41.0.0 in c:\\users\\vinit\\anaconda3\\lib\\site-packages (from tensorboard~=2.4->tensorflow) (50.3.1.post20201107)\n",
      "Requirement already satisfied: tensorboard-plugin-wit>=1.6.0 in c:\\users\\vinit\\anaconda3\\lib\\site-packages (from tensorboard~=2.4->tensorflow) (1.7.0)\n",
      "Requirement already satisfied: markdown>=2.6.8 in c:\\users\\vinit\\anaconda3\\lib\\site-packages (from tensorboard~=2.4->tensorflow) (3.3.3)\n",
      "Requirement already satisfied: google-auth<2,>=1.6.3 in c:\\users\\vinit\\anaconda3\\lib\\site-packages (from tensorboard~=2.4->tensorflow) (1.24.0)\n",
      "Requirement already satisfied: requests-oauthlib>=0.7.0 in c:\\users\\vinit\\anaconda3\\lib\\site-packages (from google-auth-oauthlib<0.5,>=0.4.1->tensorboard~=2.4->tensorflow) (1.3.0)\n",
      "Requirement already satisfied: chardet<4,>=3.0.2 in c:\\users\\vinit\\anaconda3\\lib\\site-packages (from requests<3,>=2.21.0->tensorboard~=2.4->tensorflow) (3.0.4)\n",
      "Requirement already satisfied: idna<3,>=2.5 in c:\\users\\vinit\\anaconda3\\lib\\site-packages (from requests<3,>=2.21.0->tensorboard~=2.4->tensorflow) (2.10)\n",
      "Requirement already satisfied: urllib3!=1.25.0,!=1.25.1,<1.26,>=1.21.1 in c:\\users\\vinit\\anaconda3\\lib\\site-packages (from requests<3,>=2.21.0->tensorboard~=2.4->tensorflow) (1.25.11)\n",
      "Requirement already satisfied: certifi>=2017.4.17 in c:\\users\\vinit\\anaconda3\\lib\\site-packages (from requests<3,>=2.21.0->tensorboard~=2.4->tensorflow) (2020.6.20)\n",
      "Requirement already satisfied: rsa<5,>=3.1.4; python_version >= \"3.6\" in c:\\users\\vinit\\anaconda3\\lib\\site-packages (from google-auth<2,>=1.6.3->tensorboard~=2.4->tensorflow) (4.7)\n",
      "Requirement already satisfied: cachetools<5.0,>=2.0.0 in c:\\users\\vinit\\anaconda3\\lib\\site-packages (from google-auth<2,>=1.6.3->tensorboard~=2.4->tensorflow) (4.2.0)\n",
      "Requirement already satisfied: pyasn1-modules>=0.2.1 in c:\\users\\vinit\\anaconda3\\lib\\site-packages (from google-auth<2,>=1.6.3->tensorboard~=2.4->tensorflow) (0.2.8)\n",
      "Requirement already satisfied: oauthlib>=3.0.0 in c:\\users\\vinit\\anaconda3\\lib\\site-packages (from requests-oauthlib>=0.7.0->google-auth-oauthlib<0.5,>=0.4.1->tensorboard~=2.4->tensorflow) (3.1.0)\n",
      "Requirement already satisfied: pyasn1>=0.1.3 in c:\\users\\vinit\\anaconda3\\lib\\site-packages (from rsa<5,>=3.1.4; python_version >= \"3.6\"->google-auth<2,>=1.6.3->tensorboard~=2.4->tensorflow) (0.4.8)\n",
      "Note: you may need to restart the kernel to use updated packages.\n"
     ]
    }
   ],
   "source": [
    "pip install tensorflow"
   ]
  },
  {
   "cell_type": "code",
   "execution_count": 2,
   "metadata": {
    "colab": {
     "base_uri": "https://localhost:8080/",
     "height": 272
    },
    "colab_type": "code",
    "executionInfo": {
     "elapsed": 4980,
     "status": "ok",
     "timestamp": 1600085324011,
     "user": {
      "displayName": "indian ai production-editor",
      "photoUrl": "",
      "userId": "05336710603640792650"
     },
     "user_tz": -330
    },
    "id": "vu8pyTdHjYaz",
    "outputId": "e5331482-0b82-4b2f-b3bd-44d376c9e8c2"
   },
   "outputs": [
    {
     "name": "stdout",
     "output_type": "stream",
     "text": [
      "Collecting keras\n",
      "  Downloading Keras-2.4.3-py2.py3-none-any.whl (36 kB)\n",
      "Requirement already satisfied: scipy>=0.14 in c:\\users\\vinit\\anaconda3\\lib\\site-packages (from keras) (1.5.2)\n",
      "Requirement already satisfied: h5py in c:\\users\\vinit\\anaconda3\\lib\\site-packages (from keras) (2.10.0)\n",
      "Requirement already satisfied: pyyaml in c:\\users\\vinit\\anaconda3\\lib\\site-packages (from keras) (5.3.1)\n",
      "Requirement already satisfied: numpy>=1.9.1 in c:\\users\\vinit\\anaconda3\\lib\\site-packages (from keras) (1.19.2)\n",
      "Requirement already satisfied: six in c:\\users\\vinit\\anaconda3\\lib\\site-packages (from h5py->keras) (1.15.0)\n",
      "Installing collected packages: keras\n",
      "Successfully installed keras-2.4.3\n",
      "Note: you may need to restart the kernel to use updated packages.\n"
     ]
    }
   ],
   "source": [
    "pip install keras"
   ]
  },
  {
   "cell_type": "markdown",
   "metadata": {
    "colab_type": "text",
    "id": "96RauCHa6z_e"
   },
   "source": [
    "# Training model"
   ]
  },
  {
   "cell_type": "code",
   "execution_count": 1,
   "metadata": {
    "colab": {
     "base_uri": "https://localhost:8080/",
     "height": 68
    },
    "colab_type": "code",
    "executionInfo": {
     "elapsed": 4605,
     "status": "ok",
     "timestamp": 1600085324014,
     "user": {
      "displayName": "indian ai production-editor",
      "photoUrl": "",
      "userId": "05336710603640792650"
     },
     "user_tz": -330
    },
    "id": "JAMxe1fx6zXn",
    "outputId": "c37b77d5-46ee-48b0-95a0-2119717a2094"
   },
   "outputs": [
    {
     "name": "stdout",
     "output_type": "stream",
     "text": [
      "2.4.3\n",
      "2.4.0\n"
     ]
    }
   ],
   "source": [
    "#import libraries\n",
    "import keras\n",
    "from keras.preprocessing.image import ImageDataGenerator\n",
    "from keras.optimizers import Adam\n",
    "from keras.callbacks import ModelCheckpoint\n",
    "\n",
    "# for accuracy and loss graph\n",
    "import matplotlib.pyplot as plt\n",
    "\n",
    "import tensorflow\n",
    "\n",
    "print(keras.__version__)\n",
    "print(tensorflow.__version__)"
   ]
  },
  {
   "cell_type": "code",
   "execution_count": 4,
   "metadata": {
    "colab": {},
    "colab_type": "code",
    "executionInfo": {
     "elapsed": 4401,
     "status": "ok",
     "timestamp": 1600085324018,
     "user": {
      "displayName": "indian ai production-editor",
      "photoUrl": "",
      "userId": "05336710603640792650"
     },
     "user_tz": -330
    },
    "id": "reeI1GoP65k9"
   },
   "outputs": [],
   "source": [
    "train_data_path = \"/content/drive/My Drive/My ML Project /DL Project/CNN/mask detection/dataset/train\"\n",
    "validation_data_path = \"/content/drive/My Drive/My ML Project /DL Project/CNN/mask detection/dataset/valid\""
   ]
  },
  {
   "cell_type": "code",
   "execution_count": 5,
   "metadata": {
    "colab": {},
    "colab_type": "code",
    "executionInfo": {
     "elapsed": 4312,
     "status": "ok",
     "timestamp": 1600085324020,
     "user": {
      "displayName": "indian ai production-editor",
      "photoUrl": "",
      "userId": "05336710603640792650"
     },
     "user_tz": -330
    },
    "id": "aH1YHaEL67y1"
   },
   "outputs": [],
   "source": [
    "# show augmented images\n",
    "def plotImages(images_arr):\n",
    "    fig, axes = plt.subplots(1, 5, figsize=(20, 20))\n",
    "    axes = axes.flatten()\n",
    "    for img, ax in zip(images_arr, axes):\n",
    "        ax.imshow(img)\n",
    "    plt.tight_layout()\n",
    "    plt.show()"
   ]
  },
  {
   "cell_type": "code",
   "execution_count": 6,
   "metadata": {
    "colab": {
     "base_uri": "https://localhost:8080/",
     "height": 34
    },
    "colab_type": "code",
    "executionInfo": {
     "elapsed": 4086,
     "status": "ok",
     "timestamp": 1600085324021,
     "user": {
      "displayName": "indian ai production-editor",
      "photoUrl": "",
      "userId": "05336710603640792650"
     },
     "user_tz": -330
    },
    "id": "AHrVEbJn69HN",
    "outputId": "c3fa7864-8f37-4a93-baf6-3317688cc6e8"
   },
   "outputs": [
    {
     "name": "stdout",
     "output_type": "stream",
     "text": [
      "Found 3649 images belonging to 2 classes.\n"
     ]
    }
   ],
   "source": [
    "# this is the augmentation configuration we will use for training\n",
    "# It generate more images using below parameters\n",
    "training_datagen = ImageDataGenerator(rescale=1./255,\n",
    "                                      rotation_range=40,\n",
    "                                      width_shift_range=0.2,\n",
    "                                      height_shift_range=0.2,\n",
    "                                      shear_range=0.2,\n",
    "                                      zoom_range=0.2,\n",
    "                                      horizontal_flip=True,\n",
    "                                      fill_mode='nearest')\n",
    "\n",
    "# this is a generator that will read pictures found in\n",
    "# at train_data_path, and indefinitely generate\n",
    "# batches of augmented image data\n",
    "training_data = training_datagen.flow_from_directory(train_data_path, # this is the target directory\n",
    "                                      target_size=(200, 200), # all images will be resized to 150x150\n",
    "                                      batch_size=128,\n",
    "                                      class_mode='binary')  # since we use binary_crossentropy loss, we need binary labels"
   ]
  },
  {
   "cell_type": "code",
   "execution_count": 7,
   "metadata": {
    "colab": {
     "base_uri": "https://localhost:8080/",
     "height": 34
    },
    "colab_type": "code",
    "executionInfo": {
     "elapsed": 3871,
     "status": "ok",
     "timestamp": 1600085324023,
     "user": {
      "displayName": "indian ai production-editor",
      "photoUrl": "",
      "userId": "05336710603640792650"
     },
     "user_tz": -330
    },
    "id": "isv9uPGv6_JU",
    "outputId": "10a96fed-472b-4d05-81a0-60d084a9a9d2"
   },
   "outputs": [
    {
     "data": {
      "text/plain": [
       "{'with_mask': 0, 'without_mask': 1}"
      ]
     },
     "execution_count": 7,
     "metadata": {
      "tags": []
     },
     "output_type": "execute_result"
    }
   ],
   "source": [
    "training_data.class_indices"
   ]
  },
  {
   "cell_type": "code",
   "execution_count": 8,
   "metadata": {
    "colab": {
     "base_uri": "https://localhost:8080/",
     "height": 34
    },
    "colab_type": "code",
    "executionInfo": {
     "elapsed": 3545,
     "status": "ok",
     "timestamp": 1600085324025,
     "user": {
      "displayName": "indian ai production-editor",
      "photoUrl": "",
      "userId": "05336710603640792650"
     },
     "user_tz": -330
    },
    "id": "v5xiQa6Z7Imt",
    "outputId": "b7fbfe62-9524-48d9-fecc-cd88bee306c1"
   },
   "outputs": [
    {
     "name": "stdout",
     "output_type": "stream",
     "text": [
      "Found 806 images belonging to 2 classes.\n"
     ]
    }
   ],
   "source": [
    "# this is the augmentation configuration we will use for validation:\n",
    "# only rescaling\n",
    "valid_datagen = ImageDataGenerator(rescale=1./255)\n",
    "\n",
    "# this is a similar generator, for validation data\n",
    "valid_data = valid_datagen.flow_from_directory(validation_data_path,\n",
    "                                  target_size=(200,200),\n",
    "                                  batch_size=128,\n",
    "                                  class_mode='binary')"
   ]
  },
  {
   "cell_type": "code",
   "execution_count": 9,
   "metadata": {
    "colab": {
     "base_uri": "https://localhost:8080/",
     "height": 263
    },
    "colab_type": "code",
    "executionInfo": {
     "elapsed": 3353,
     "status": "ok",
     "timestamp": 1600085324035,
     "user": {
      "displayName": "indian ai production-editor",
      "photoUrl": "",
      "userId": "05336710603640792650"
     },
     "user_tz": -330
    },
    "id": "Qz6PKdcT7K82",
    "outputId": "1be07451-2297-4400-8089-3f4e573752a7"
   },
   "outputs": [
    {
     "data": {
      "image/png": "[encoded data removed]",
      "text/plain": [
       "<Figure size 1440x1440 with 5 Axes>"
      ]
     },
     "metadata": {
      "needs_background": "light",
      "tags": []
     },
     "output_type": "display_data"
    }
   ],
   "source": [
    "# showing augmented images\n",
    "images = [training_data[0][0][0] for i in range(5)]\n",
    "plotImages(images)"
   ]
  },
  {
   "cell_type": "code",
   "execution_count": 10,
   "metadata": {
    "colab": {},
    "colab_type": "code",
    "executionInfo": {
     "elapsed": 3055,
     "status": "ok",
     "timestamp": 1600085324038,
     "user": {
      "displayName": "indian ai production-editor",
      "photoUrl": "",
      "userId": "05336710603640792650"
     },
     "user_tz": -330
    },
    "id": "0ejpGs277MXU"
   },
   "outputs": [],
   "source": [
    "# save best model using vall accuracy\n",
    "model_path = '/content/drive/My Drive/My ML Project /DL Project/CNN/mask detection/model/model.h5'\n",
    "checkpoint = ModelCheckpoint(model_path, monitor='val_accuracy', verbose=1, save_best_only=True, mode='max')\n",
    "callbacks_list = [checkpoint]"
   ]
  },
  {
   "cell_type": "code",
   "execution_count": 11,
   "metadata": {
    "colab": {},
    "colab_type": "code",
    "executionInfo": {
     "elapsed": 2959,
     "status": "ok",
     "timestamp": 1600085324040,
     "user": {
      "displayName": "indian ai production-editor",
      "photoUrl": "",
      "userId": "05336710603640792650"
     },
     "user_tz": -330
    },
    "id": "soK5ko9Q7dQ0"
   },
   "outputs": [],
   "source": [
    "\n",
    "#Building cnn model\n",
    "cnn_model = keras.models.Sequential([\n",
    "                                    keras.layers.Conv2D(filters=32, kernel_size=5, input_shape=[200, 200, 3]),\n",
    "                                    keras.layers.MaxPooling2D(pool_size=(4,4)),\n",
    "                                    keras.layers.Conv2D(filters=64, kernel_size=4),\n",
    "                                    keras.layers.MaxPooling2D(pool_size=(3,3)),\n",
    "                                    keras.layers.Conv2D(filters=128, kernel_size=3),\n",
    "                                    keras.layers.MaxPooling2D(pool_size=(2,2)),                                    \n",
    "                                    keras.layers.Conv2D(filters=256, kernel_size=2),\n",
    "                                    keras.layers.MaxPooling2D(pool_size=(2,2)),\n",
    "\n",
    "                                    keras.layers.Dropout(0.5),                                                                        \n",
    "                                    keras.layers.Flatten(), # neural network beulding\n",
    "                                    keras.layers.Dense(units=128, activation='relu'), # input layers\n",
    "                                    keras.layers.Dropout(0.1),                                    \n",
    "                                    keras.layers.Dense(units=256, activation='relu'),                                    \n",
    "                                    keras.layers.Dropout(0.25),                                    \n",
    "                                    keras.layers.Dense(units=2, activation='softmax') # output layer\n",
    "])\n",
    "\n",
    "\n",
    "# compile cnn model\n",
    "cnn_model.compile(optimizer = Adam(lr=0.001), loss='sparse_categorical_crossentropy', metrics=['accuracy'])\n",
    "#cnn_model.compile(optimizer = Adam(lr=0.0001), loss='categorical_crossentropy', metrics=['accuracy'])\n"
   ]
  },
  {
   "cell_type": "code",
   "execution_count": 12,
   "metadata": {
    "colab": {
     "base_uri": "https://localhost:8080/",
     "height": 1000
    },
    "colab_type": "code",
    "executionInfo": {
     "elapsed": 140758,
     "status": "ok",
     "timestamp": 1600085462037,
     "user": {
      "displayName": "indian ai production-editor",
      "photoUrl": "",
      "userId": "05336710603640792650"
     },
     "user_tz": -330
    },
    "id": "9I62IbSl7fzV",
    "outputId": "53a7fbad-21b6-404e-96c4-a2351251fe9e"
   },
   "outputs": [
    {
     "name": "stdout",
     "output_type": "stream",
     "text": [
      "Epoch 1/50\n"
     ]
    },
    {
     "name": "stderr",
     "output_type": "stream",
     "text": [
      "/usr/local/lib/python3.6/dist-packages/keras/utils/data_utils.py:616: UserWarning: The input 27 could not be retrieved. It could be because a worker has died.\n",
      "  UserWarning)\n"
     ]
    },
    {
     "name": "stdout",
     "output_type": "stream",
     "text": [
      "\r",
      " 1/29 [>.............................] - ETA: 29:42 - loss: 0.7271 - accuracy: 0.5000"
     ]
    },
    {
     "name": "stderr",
     "output_type": "stream",
     "text": [
      "/usr/local/lib/python3.6/dist-packages/keras/utils/data_utils.py:616: UserWarning: The input 22 could not be retrieved. It could be because a worker has died.\n",
      "  UserWarning)\n",
      "/usr/local/lib/python3.6/dist-packages/PIL/Image.py:932: UserWarning: Palette images with Transparency expressed in bytes should be converted to RGBA images\n",
      "  \"Palette images with Transparency expressed in bytes should be \"\n"
     ]
    },
    {
     "name": "stdout",
     "output_type": "stream",
     "text": [
      "\b\b\b\b\b\b\b\b\b\b\b\b\b\b\b\b\b\b\b\b\b\b\b\b\b\b\b\b\b\b\b\b\b\b\b\b\b\b\b\b\b\b\b\b\b\b\b\b\b\b\b\b\b\b\b\b\b\b\b\b\b\b\b\b\b\b\b\b\b\b\b\b\b\b\b\b\b\b\b\b\b\b\b\b\b\r",
      " 2/29 [=>............................] - ETA: 25:25 - loss: 0.7239 - accuracy: 0.5312"
     ]
    },
    {
     "name": "stderr",
     "output_type": "stream",
     "text": [
      "/usr/local/lib/python3.6/dist-packages/keras/utils/data_utils.py:616: UserWarning: The input 14 could not be retrieved. It could be because a worker has died.\n",
      "  UserWarning)\n"
     ]
    },
    {
     "name": "stdout",
     "output_type": "stream",
     "text": [
      "\b\b\b\b\b\b\b\b\b\b\b\b\b\b\b\b\b\b\b\b\b\b\b\b\b\b\b\b\b\b\b\b\b\b\b\b\b\b\b\b\b\b\b\b\b\b\b\b\b\b\b\b\b\b\b\b\b\b\b\b\b\b\b\b\b\b\b\b\b\b\b\b\b\b\b\b\b\b\b\b\b\b\b\b\b\r",
      " 3/29 [==>...........................] - ETA: 24:22 - loss: 0.7107 - accuracy: 0.5469"
     ]
    },
    {
     "name": "stderr",
     "output_type": "stream",
     "text": [
      "/usr/local/lib/python3.6/dist-packages/keras/utils/data_utils.py:616: UserWarning: The input 10 could not be retrieved. It could be because a worker has died.\n",
      "  UserWarning)\n"
     ]
    },
    {
     "name": "stdout",
     "output_type": "stream",
     "text": [
      " 5/29 [====>.........................] - ETA: 18:18 - loss: 0.6939 - accuracy: 0.5688"
     ]
    },
    {
     "name": "stderr",
     "output_type": "stream",
     "text": [
      "/usr/local/lib/python3.6/dist-packages/keras/utils/data_utils.py:616: UserWarning: The input 18 could not be retrieved. It could be because a worker has died.\n",
      "  UserWarning)\n"
     ]
    },
    {
     "name": "stdout",
     "output_type": "stream",
     "text": [
      "\b\b\b\b\b\b\b\b\b\b\b\b\b\b\b\b\b\b\b\b\b\b\b\b\b\b\b\b\b\b\b\b\b\b\b\b\b\b\b\b\b\b\b\b\b\b\b\b\b\b\b\b\b\b\b\b\b\b\b\b\b\b\b\b\b\b\b\b\b\b\b\b\b\b\b\b\b\b\b\b\b\b\b\b\b\r",
      " 6/29 [=====>........................] - ETA: 18:18 - loss: 0.6902 - accuracy: 0.5664"
     ]
    },
    {
     "name": "stderr",
     "output_type": "stream",
     "text": [
      "/usr/local/lib/python3.6/dist-packages/keras/utils/data_utils.py:616: UserWarning: The input 4 could not be retrieved. It could be because a worker has died.\n",
      "  UserWarning)\n"
     ]
    },
    {
     "name": "stdout",
     "output_type": "stream",
     "text": [
      "\b\b\b\b\b\b\b\b\b\b\b\b\b\b\b\b\b\b\b\b\b\b\b\b\b\b\b\b\b\b\b\b\b\b\b\b\b\b\b\b\b\b\b\b\b\b\b\b\b\b\b\b\b\b\b\b\b\b\b\b\b\b\b\b\b\b\b\b\b\b\b\b\b\b\b\b\b\b\b\b\b\b\b\b\b\r",
      " 7/29 [======>.......................] - ETA: 18:11 - loss: 0.6836 - accuracy: 0.5804"
     ]
    },
    {
     "name": "stderr",
     "output_type": "stream",
     "text": [
      "/usr/local/lib/python3.6/dist-packages/keras/utils/data_utils.py:616: UserWarning: The input 6 could not be retrieved. It could be because a worker has died.\n",
      "  UserWarning)\n"
     ]
    },
    {
     "name": "stdout",
     "output_type": "stream",
     "text": [
      "\b\b\b\b\b\b\b\b\b\b\b\b\b\b\b\b\b\b\b\b\b\b\b\b\b\b\b\b\b\b\b\b\b\b\b\b\b\b\b\b\b\b\b\b\b\b\b\b\b\b\b\b\b\b\b\b\b\b\b\b\b\b\b\b\b\b\b\b\b\b\b\b\b\b\b\b\b\b\b\b\b\b\b\b\b\r",
      " 8/29 [=======>......................] - ETA: 17:46 - loss: 0.6759 - accuracy: 0.5967"
     ]
    },
    {
     "name": "stderr",
     "output_type": "stream",
     "text": [
      "/usr/local/lib/python3.6/dist-packages/keras/utils/data_utils.py:616: UserWarning: The input 26 could not be retrieved. It could be because a worker has died.\n",
      "  UserWarning)\n"
     ]
    },
    {
     "name": "stdout",
     "output_type": "stream",
     "text": [
      "\b\b\b\b\b\b\b\b\b\b\b\b\b\b\b\b\b\b\b\b\b\b\b\b\b\b\b\b\b\b\b\b\b\b\b\b\b\b\b\b\b\b\b\b\b\b\b\b\b\b\b\b\b\b\b\b\b\b\b\b\b\b\b\b\b\b\b\b\b\b\b\b\b\b\b\b\b\b\b\b\b\b\b\b\b\r",
      " 9/29 [========>.....................] - ETA: 17:19 - loss: 0.6766 - accuracy: 0.5981"
     ]
    },
    {
     "name": "stderr",
     "output_type": "stream",
     "text": [
      "/usr/local/lib/python3.6/dist-packages/keras/utils/data_utils.py:616: UserWarning: The input 2 could not be retrieved. It could be because a worker has died.\n",
      "  UserWarning)\n"
     ]
    },
    {
     "name": "stdout",
     "output_type": "stream",
     "text": [
      "\b\b\b\b\b\b\b\b\b\b\b\b\b\b\b\b\b\b\b\b\b\b\b\b\b\b\b\b\b\b\b\b\b\b\b\b\b\b\b\b\b\b\b\b\b\b\b\b\b\b\b\b\b\b\b\b\b\b\b\b\b\b\b\b\b\b\b\b\b\b\b\b\b\b\b\b\b\b\b\b\b\b\b\b\b\r",
      "10/29 [=========>....................] - ETA: 16:46 - loss: 0.6690 - accuracy: 0.6055"
     ]
    },
    {
     "name": "stderr",
     "output_type": "stream",
     "text": [
      "/usr/local/lib/python3.6/dist-packages/keras/utils/data_utils.py:616: UserWarning: The input 16 could not be retrieved. It could be because a worker has died.\n",
      "  UserWarning)\n"
     ]
    },
    {
     "name": "stdout",
     "output_type": "stream",
     "text": [
      "\b\b\b\b\b\b\b\b\b\b\b\b\b\b\b\b\b\b\b\b\b\b\b\b\b\b\b\b\b\b\b\b\b\b\b\b\b\b\b\b\b\b\b\b\b\b\b\b\b\b\b\b\b\b\b\b\b\b\b\b\b\b\b\b\b\b\b\b\b\b\b\b\b\b\b\b\b\b\b\b\b\b\b\b\b\r",
      "11/29 [==========>...................] - ETA: 16:00 - loss: 0.6646 - accuracy: 0.6087"
     ]
    },
    {
     "name": "stderr",
     "output_type": "stream",
     "text": [
      "/usr/local/lib/python3.6/dist-packages/keras/utils/data_utils.py:616: UserWarning: The input 21 could not be retrieved. It could be because a worker has died.\n",
      "  UserWarning)\n"
     ]
    },
    {
     "name": "stdout",
     "output_type": "stream",
     "text": [
      "\b\b\b\b\b\b\b\b\b\b\b\b\b\b\b\b\b\b\b\b\b\b\b\b\b\b\b\b\b\b\b\b\b\b\b\b\b\b\b\b\b\b\b\b\b\b\b\b\b\b\b\b\b\b\b\b\b\b\b\b\b\b\b\b\b\b\b\b\b\b\b\b\b\b\b\b\b\b\b\b\b\b\b\b\b\r",
      "12/29 [===========>..................] - ETA: 15:13 - loss: 0.6569 - accuracy: 0.6198"
     ]
    },
    {
     "name": "stderr",
     "output_type": "stream",
     "text": [
      "/usr/local/lib/python3.6/dist-packages/keras/utils/data_utils.py:616: UserWarning: The input 20 could not be retrieved. It could be because a worker has died.\n",
      "  UserWarning)\n"
     ]
    },
    {
     "name": "stdout",
     "output_type": "stream",
     "text": [
      "\b\b\b\b\b\b\b\b\b\b\b\b\b\b\b\b\b\b\b\b\b\b\b\b\b\b\b\b\b\b\b\b\b\b\b\b\b\b\b\b\b\b\b\b\b\b\b\b\b\b\b\b\b\b\b\b\b\b\b\b\b\b\b\b\b\b\b\b\b\b\b\b\b\b\b\b\b\b\b\b\b\b\b\b\b\r",
      "13/29 [============>.................] - ETA: 14:20 - loss: 0.6466 - accuracy: 0.6280"
     ]
    },
    {
     "name": "stderr",
     "output_type": "stream",
     "text": [
      "/usr/local/lib/python3.6/dist-packages/keras/utils/data_utils.py:616: UserWarning: The input 13 could not be retrieved. It could be because a worker has died.\n",
      "  UserWarning)\n"
     ]
    },
    {
     "name": "stdout",
     "output_type": "stream",
     "text": [
      "\b\b\b\b\b\b\b\b\b\b\b\b\b\b\b\b\b\b\b\b\b\b\b\b\b\b\b\b\b\b\b\b\b\b\b\b\b\b\b\b\b\b\b\b\b\b\b\b\b\b\b\b\b\b\b\b\b\b\b\b\b\b\b\b\b\b\b\b\b\b\b\b\b\b\b\b\b\b\b\b\b\b\b\b\b\r",
      "14/29 [=============>................] - ETA: 13:30 - loss: 0.6374 - accuracy: 0.6345"
     ]
    },
    {
     "name": "stderr",
     "output_type": "stream",
     "text": [
      "/usr/local/lib/python3.6/dist-packages/keras/utils/data_utils.py:616: UserWarning: The input 17 could not be retrieved. It could be because a worker has died.\n",
      "  UserWarning)\n"
     ]
    },
    {
     "name": "stdout",
     "output_type": "stream",
     "text": [
      "\b\b\b\b\b\b\b\b\b\b\b\b\b\b\b\b\b\b\b\b\b\b\b\b\b\b\b\b\b\b\b\b\b\b\b\b\b\b\b\b\b\b\b\b\b\b\b\b\b\b\b\b\b\b\b\b\b\b\b\b\b\b\b\b\b\b\b\b\b\b\b\b\b\b\b\b\b\b\b\b\b\b\b\b\b\r",
      "15/29 [==============>...............] - ETA: 12:39 - loss: 0.6239 - accuracy: 0.6479"
     ]
    },
    {
     "name": "stderr",
     "output_type": "stream",
     "text": [
      "/usr/local/lib/python3.6/dist-packages/keras/utils/data_utils.py:616: UserWarning: The input 5 could not be retrieved. It could be because a worker has died.\n",
      "  UserWarning)\n"
     ]
    },
    {
     "name": "stdout",
     "output_type": "stream",
     "text": [
      "\b\b\b\b\b\b\b\b\b\b\b\b\b\b\b\b\b\b\b\b\b\b\b\b\b\b\b\b\b\b\b\b\b\b\b\b\b\b\b\b\b\b\b\b\b\b\b\b\b\b\b\b\b\b\b\b\b\b\b\b\b\b\b\b\b\b\b\b\b\b\b\b\b\b\b\b\b\b\b\b\b\b\b\b\b\r",
      "16/29 [===============>..............] - ETA: 11:44 - loss: 0.6157 - accuracy: 0.6577"
     ]
    },
    {
     "name": "stderr",
     "output_type": "stream",
     "text": [
      "/usr/local/lib/python3.6/dist-packages/keras/utils/data_utils.py:616: UserWarning: The input 23 could not be retrieved. It could be because a worker has died.\n",
      "  UserWarning)\n"
     ]
    },
    {
     "name": "stdout",
     "output_type": "stream",
     "text": [
      "\b\b\b\b\b\b\b\b\b\b\b\b\b\b\b\b\b\b\b\b\b\b\b\b\b\b\b\b\b\b\b\b\b\b\b\b\b\b\b\b\b\b\b\b\b\b\b\b\b\b\b\b\b\b\b\b\b\b\b\b\b\b\b\b\b\b\b\b\b\b\b\b\b\b\b\b\b\b\b\b\b\b\b\b\b\r",
      "17/29 [================>.............] - ETA: 10:53 - loss: 0.6036 - accuracy: 0.6668"
     ]
    },
    {
     "name": "stderr",
     "output_type": "stream",
     "text": [
      "/usr/local/lib/python3.6/dist-packages/keras/utils/data_utils.py:616: UserWarning: The input 24 could not be retrieved. It could be because a worker has died.\n",
      "  UserWarning)\n"
     ]
    },
    {
     "name": "stdout",
     "output_type": "stream",
     "text": [
      "\b\b\b\b\b\b\b\b\b\b\b\b\b\b\b\b\b\b\b\b\b\b\b\b\b\b\b\b\b\b\b\b\b\b\b\b\b\b\b\b\b\b\b\b\b\b\b\b\b\b\b\b\b\b\b\b\b\b\b\b\b\b\b\b\b\b\b\b\b\b\b\b\b\b\b\b\b\b\b\b\b\b\b\b\b\r",
      "18/29 [=================>............] - ETA: 10:00 - loss: 0.5949 - accuracy: 0.6727"
     ]
    },
    {
     "name": "stderr",
     "output_type": "stream",
     "text": [
      "/usr/local/lib/python3.6/dist-packages/keras/utils/data_utils.py:616: UserWarning: The input 12 could not be retrieved. It could be because a worker has died.\n",
      "  UserWarning)\n"
     ]
    },
    {
     "name": "stdout",
     "output_type": "stream",
     "text": [
      "\b\b\b\b\b\b\b\b\b\b\b\b\b\b\b\b\b\b\b\b\b\b\b\b\b\b\b\b\b\b\b\b\b\b\b\b\b\b\b\b\b\b\b\b\b\b\b\b\b\b\b\b\b\b\b\b\b\b\b\b\b\b\b\b\b\b\b\b\b\b\b\b\b\b\b\b\b\b\b\b\b\b\b\b\b\r",
      "19/29 [==================>...........] - ETA: 9:06 - loss: 0.5834 - accuracy: 0.6817 "
     ]
    },
    {
     "name": "stderr",
     "output_type": "stream",
     "text": [
      "/usr/local/lib/python3.6/dist-packages/keras/utils/data_utils.py:616: UserWarning: The input 11 could not be retrieved. It could be because a worker has died.\n",
      "  UserWarning)\n"
     ]
    },
    {
     "name": "stdout",
     "output_type": "stream",
     "text": [
      "\b\b\b\b\b\b\b\b\b\b\b\b\b\b\b\b\b\b\b\b\b\b\b\b\b\b\b\b\b\b\b\b\b\b\b\b\b\b\b\b\b\b\b\b\b\b\b\b\b\b\b\b\b\b\b\b\b\b\b\b\b\b\b\b\b\b\b\b\b\b\b\b\b\b\b\b\b\b\b\b\b\b\b\b\r",
      "20/29 [===================>..........] - ETA: 8:13 - loss: 0.5708 - accuracy: 0.6902"
     ]
    },
    {
     "name": "stderr",
     "output_type": "stream",
     "text": [
      "/usr/local/lib/python3.6/dist-packages/keras/utils/data_utils.py:616: UserWarning: The input 25 could not be retrieved. It could be because a worker has died.\n",
      "  UserWarning)\n"
     ]
    },
    {
     "name": "stdout",
     "output_type": "stream",
     "text": [
      "\b\b\b\b\b\b\b\b\b\b\b\b\b\b\b\b\b\b\b\b\b\b\b\b\b\b\b\b\b\b\b\b\b\b\b\b\b\b\b\b\b\b\b\b\b\b\b\b\b\b\b\b\b\b\b\b\b\b\b\b\b\b\b\b\b\b\b\b\b\b\b\b\b\b\b\b\b\b\b\b\b\b\b\b\r",
      "21/29 [====================>.........] - ETA: 7:18 - loss: 0.5610 - accuracy: 0.6972"
     ]
    },
    {
     "name": "stderr",
     "output_type": "stream",
     "text": [
      "/usr/local/lib/python3.6/dist-packages/keras/utils/data_utils.py:616: UserWarning: The input 9 could not be retrieved. It could be because a worker has died.\n",
      "  UserWarning)\n"
     ]
    },
    {
     "name": "stdout",
     "output_type": "stream",
     "text": [
      "\b\b\b\b\b\b\b\b\b\b\b\b\b\b\b\b\b\b\b\b\b\b\b\b\b\b\b\b\b\b\b\b\b\b\b\b\b\b\b\b\b\b\b\b\b\b\b\b\b\b\b\b\b\b\b\b\b\b\b\b\b\b\b\b\b\b\b\b\b\b\b\b\b\b\b\b\b\b\b\b\b\b\b\b\r",
      "22/29 [=====================>........] - ETA: 6:26 - loss: 0.5551 - accuracy: 0.7024"
     ]
    },
    {
     "name": "stderr",
     "output_type": "stream",
     "text": [
      "/usr/local/lib/python3.6/dist-packages/keras/utils/data_utils.py:616: UserWarning: The input 7 could not be retrieved. It could be because a worker has died.\n",
      "  UserWarning)\n"
     ]
    },
    {
     "name": "stdout",
     "output_type": "stream",
     "text": [
      "\b\b\b\b\b\b\b\b\b\b\b\b\b\b\b\b\b\b\b\b\b\b\b\b\b\b\b\b\b\b\b\b\b\b\b\b\b\b\b\b\b\b\b\b\b\b\b\b\b\b\b\b\b\b\b\b\b\b\b\b\b\b\b\b\b\b\b\b\b\b\b\b\b\b\b\b\b\b\b\b\b\b\b\b\r",
      "23/29 [======================>.......] - ETA: 5:31 - loss: 0.5454 - accuracy: 0.7086"
     ]
    },
    {
     "name": "stderr",
     "output_type": "stream",
     "text": [
      "/usr/local/lib/python3.6/dist-packages/keras/utils/data_utils.py:616: UserWarning: The input 15 could not be retrieved. It could be because a worker has died.\n",
      "  UserWarning)\n"
     ]
    },
    {
     "name": "stdout",
     "output_type": "stream",
     "text": [
      "\b\b\b\b\b\b\b\b\b\b\b\b\b\b\b\b\b\b\b\b\b\b\b\b\b\b\b\b\b\b\b\b\b\b\b\b\b\b\b\b\b\b\b\b\b\b\b\b\b\b\b\b\b\b\b\b\b\b\b\b\b\b\b\b\b\b\b\b\b\b\b\b\b\b\b\b\b\b\b\b\b\b\b\b\r",
      "24/29 [=======================>......] - ETA: 4:36 - loss: 0.5350 - accuracy: 0.7155"
     ]
    },
    {
     "name": "stderr",
     "output_type": "stream",
     "text": [
      "/usr/local/lib/python3.6/dist-packages/keras/utils/data_utils.py:616: UserWarning: The input 8 could not be retrieved. It could be because a worker has died.\n",
      "  UserWarning)\n"
     ]
    },
    {
     "name": "stdout",
     "output_type": "stream",
     "text": [
      "\b\b\b\b\b\b\b\b\b\b\b\b\b\b\b\b\b\b\b\b\b\b\b\b\b\b\b\b\b\b\b\b\b\b\b\b\b\b\b\b\b\b\b\b\b\b\b\b\b\b\b\b\b\b\b\b\b\b\b\b\b\b\b\b\b\b\b\b\b\b\b\b\b\b\b\b\b\b\b\b\b\b\b\b\r",
      "25/29 [========================>.....] - ETA: 3:42 - loss: 0.5343 - accuracy: 0.7197"
     ]
    },
    {
     "name": "stderr",
     "output_type": "stream",
     "text": [
      "/usr/local/lib/python3.6/dist-packages/keras/utils/data_utils.py:616: UserWarning: The input 28 could not be retrieved. It could be because a worker has died.\n",
      "  UserWarning)\n"
     ]
    },
    {
     "name": "stdout",
     "output_type": "stream",
     "text": [
      "\b\b\b\b\b\b\b\b\b\b\b\b\b\b\b\b\b\b\b\b\b\b\b\b\b\b\b\b\b\b\b\b\b\b\b\b\b\b\b\b\b\b\b\b\b\b\b\b\b\b\b\b\b\b\b\b\b\b\b\b\b\b\b\b\b\b\b\b\b\b\b\b\b\b\b\b\b\b\b\b\b\b\b\b\r",
      "26/29 [=========================>....] - ETA: 2:44 - loss: 0.5257 - accuracy: 0.7225"
     ]
    },
    {
     "name": "stderr",
     "output_type": "stream",
     "text": [
      "/usr/local/lib/python3.6/dist-packages/keras/utils/data_utils.py:616: UserWarning: The input 19 could not be retrieved. It could be because a worker has died.\n",
      "  UserWarning)\n"
     ]
    },
    {
     "name": "stdout",
     "output_type": "stream",
     "text": [
      "\b\b\b\b\b\b\b\b\b\b\b\b\b\b\b\b\b\b\b\b\b\b\b\b\b\b\b\b\b\b\b\b\b\b\b\b\b\b\b\b\b\b\b\b\b\b\b\b\b\b\b\b\b\b\b\b\b\b\b\b\b\b\b\b\b\b\b\b\b\b\b\b\b\b\b\b\b\b\b\b\b\b\b\b\r",
      "27/29 [==========================>...] - ETA: 1:49 - loss: 0.5176 - accuracy: 0.7289"
     ]
    },
    {
     "name": "stderr",
     "output_type": "stream",
     "text": [
      "/usr/local/lib/python3.6/dist-packages/keras/utils/data_utils.py:616: UserWarning: The input 1 could not be retrieved. It could be because a worker has died.\n",
      "  UserWarning)\n"
     ]
    },
    {
     "name": "stdout",
     "output_type": "stream",
     "text": [
      "\b\b\b\b\b\b\b\b\b\b\b\b\b\b\b\b\b\b\b\b\b\b\b\b\b\b\b\b\b\b\b\b\b\b\b\b\b\b\b\b\b\b\b\b\b\b\b\b\b\b\b\b\b\b\b\b\b\b\b\b\b\b\b\b\b\b\b\b\b\b\b\b\b\b\b\b\b\b\b\b\b\b\b\b\r",
      "28/29 [===========================>..] - ETA: 55s - loss: 0.5125 - accuracy: 0.7327 "
     ]
    },
    {
     "name": "stderr",
     "output_type": "stream",
     "text": [
      "/usr/local/lib/python3.6/dist-packages/keras/utils/data_utils.py:616: UserWarning: The input 3 could not be retrieved. It could be because a worker has died.\n",
      "  UserWarning)\n"
     ]
    },
    {
     "name": "stdout",
     "output_type": "stream",
     "text": [
      "\b\b\b\b\b\b\b\b\b\b\b\b\b\b\b\b\b\b\b\b\b\b\b\b\b\b\b\b\b\b\b\b\b\b\b\b\b\b\b\b\b\b\b\b\b\b\b\b\b\b\b\b\b\b\b\b\b\b\b\b\b\b\b\b\b\b\b\b\b\b\b\b\b\b\b\b\b\b\b\b\b\b\b\r",
      "29/29 [==============================] - 1602s 55s/step - loss: 0.5050 - accuracy: 0.7377 - val_loss: 0.1890 - val_accuracy: 0.8970\n",
      "\n",
      "Epoch 00001: val_accuracy improved from -inf to 0.89702, saving model to /content/drive/My Drive/My ML Project /DL Project/CNN/mask detection/model/model.h5\n",
      "Epoch 2/50\n",
      "29/29 [==============================] - 48s 2s/step - loss: 0.3289 - accuracy: 0.8844 - val_loss: 0.1861 - val_accuracy: 0.9429\n",
      "\n",
      "Epoch 00002: val_accuracy improved from 0.89702 to 0.94293, saving model to /content/drive/My Drive/My ML Project /DL Project/CNN/mask detection/model/model.h5\n",
      "Epoch 3/50\n",
      "29/29 [==============================] - 47s 2s/step - loss: 0.2854 - accuracy: 0.8950 - val_loss: 0.1195 - val_accuracy: 0.9057\n",
      "\n",
      "Epoch 00003: val_accuracy did not improve from 0.94293\n",
      "Epoch 4/50\n",
      "29/29 [==============================] - 46s 2s/step - loss: 0.2751 - accuracy: 0.8983 - val_loss: 0.1171 - val_accuracy: 0.9479\n",
      "\n",
      "Epoch 00004: val_accuracy improved from 0.94293 to 0.94789, saving model to /content/drive/My Drive/My ML Project /DL Project/CNN/mask detection/model/model.h5\n",
      "Epoch 5/50\n",
      "29/29 [==============================] - 46s 2s/step - loss: 0.2751 - accuracy: 0.9002 - val_loss: 0.2534 - val_accuracy: 0.9491\n",
      "\n",
      "Epoch 00005: val_accuracy improved from 0.94789 to 0.94913, saving model to /content/drive/My Drive/My ML Project /DL Project/CNN/mask detection/model/model.h5\n",
      "Epoch 6/50\n",
      "29/29 [==============================] - 46s 2s/step - loss: 0.2618 - accuracy: 0.9068 - val_loss: 0.0644 - val_accuracy: 0.9566\n",
      "\n",
      "Epoch 00006: val_accuracy improved from 0.94913 to 0.95658, saving model to /content/drive/My Drive/My ML Project /DL Project/CNN/mask detection/model/model.h5\n",
      "Epoch 7/50\n",
      "29/29 [==============================] - 45s 2s/step - loss: 0.2381 - accuracy: 0.9153 - val_loss: 0.1400 - val_accuracy: 0.9504\n",
      "\n",
      "Epoch 00007: val_accuracy did not improve from 0.95658\n",
      "Epoch 8/50\n",
      "29/29 [==============================] - 45s 2s/step - loss: 0.2346 - accuracy: 0.9148 - val_loss: 0.0932 - val_accuracy: 0.9628\n",
      "\n",
      "Epoch 00008: val_accuracy improved from 0.95658 to 0.96278, saving model to /content/drive/My Drive/My ML Project /DL Project/CNN/mask detection/model/model.h5\n",
      "Epoch 9/50\n",
      "29/29 [==============================] - 48s 2s/step - loss: 0.2205 - accuracy: 0.9235 - val_loss: 0.0709 - val_accuracy: 0.9516\n",
      "\n",
      "Epoch 00009: val_accuracy did not improve from 0.96278\n",
      "Epoch 10/50\n",
      "29/29 [==============================] - 47s 2s/step - loss: 0.2116 - accuracy: 0.9230 - val_loss: 0.0991 - val_accuracy: 0.9516\n",
      "\n",
      "Epoch 00010: val_accuracy did not improve from 0.96278\n",
      "Epoch 11/50\n",
      "29/29 [==============================] - 45s 2s/step - loss: 0.2374 - accuracy: 0.9118 - val_loss: 0.1961 - val_accuracy: 0.9578\n",
      "\n",
      "Epoch 00011: val_accuracy did not improve from 0.96278\n",
      "Epoch 12/50\n",
      "29/29 [==============================] - 45s 2s/step - loss: 0.2214 - accuracy: 0.9205 - val_loss: 0.0624 - val_accuracy: 0.9404\n",
      "\n",
      "Epoch 00012: val_accuracy did not improve from 0.96278\n",
      "Epoch 13/50\n",
      "29/29 [==============================] - 46s 2s/step - loss: 0.1991 - accuracy: 0.9252 - val_loss: 0.2864 - val_accuracy: 0.9640\n",
      "\n",
      "Epoch 00013: val_accuracy improved from 0.96278 to 0.96402, saving model to /content/drive/My Drive/My ML Project /DL Project/CNN/mask detection/model/model.h5\n",
      "Epoch 14/50\n",
      "29/29 [==============================] - 45s 2s/step - loss: 0.1976 - accuracy: 0.9298 - val_loss: 0.0555 - val_accuracy: 0.9715\n",
      "\n",
      "Epoch 00014: val_accuracy improved from 0.96402 to 0.97146, saving model to /content/drive/My Drive/My ML Project /DL Project/CNN/mask detection/model/model.h5\n",
      "Epoch 15/50\n",
      "29/29 [==============================] - 45s 2s/step - loss: 0.2071 - accuracy: 0.9211 - val_loss: 0.1094 - val_accuracy: 0.9591\n",
      "\n",
      "Epoch 00015: val_accuracy did not improve from 0.97146\n",
      "Epoch 16/50\n",
      "29/29 [==============================] - 46s 2s/step - loss: 0.1877 - accuracy: 0.9323 - val_loss: 0.1912 - val_accuracy: 0.9628\n",
      "\n",
      "Epoch 00016: val_accuracy did not improve from 0.97146\n",
      "Epoch 17/50\n",
      "29/29 [==============================] - 46s 2s/step - loss: 0.1813 - accuracy: 0.9304 - val_loss: 0.0817 - val_accuracy: 0.9727\n",
      "\n",
      "Epoch 00017: val_accuracy improved from 0.97146 to 0.97270, saving model to /content/drive/My Drive/My ML Project /DL Project/CNN/mask detection/model/model.h5\n",
      "Epoch 18/50\n",
      "29/29 [==============================] - 46s 2s/step - loss: 0.1722 - accuracy: 0.9318 - val_loss: 0.1566 - val_accuracy: 0.9727\n",
      "\n",
      "Epoch 00018: val_accuracy did not improve from 0.97270\n",
      "Epoch 19/50\n",
      "29/29 [==============================] - 46s 2s/step - loss: 0.1688 - accuracy: 0.9375 - val_loss: 0.2664 - val_accuracy: 0.9715\n",
      "\n",
      "Epoch 00019: val_accuracy did not improve from 0.97270\n",
      "Epoch 20/50\n",
      "29/29 [==============================] - 45s 2s/step - loss: 0.1839 - accuracy: 0.9293 - val_loss: 0.0388 - val_accuracy: 0.9777\n",
      "\n",
      "Epoch 00020: val_accuracy improved from 0.97270 to 0.97767, saving model to /content/drive/My Drive/My ML Project /DL Project/CNN/mask detection/model/model.h5\n",
      "Epoch 21/50\n",
      "29/29 [==============================] - 44s 2s/step - loss: 0.1671 - accuracy: 0.9389 - val_loss: 0.1401 - val_accuracy: 0.9739\n",
      "\n",
      "Epoch 00021: val_accuracy did not improve from 0.97767\n",
      "Epoch 22/50\n",
      "29/29 [==============================] - 45s 2s/step - loss: 0.1605 - accuracy: 0.9419 - val_loss: 0.0261 - val_accuracy: 0.9739\n",
      "\n",
      "Epoch 00022: val_accuracy did not improve from 0.97767\n",
      "Epoch 23/50\n",
      "29/29 [==============================] - 44s 2s/step - loss: 0.1656 - accuracy: 0.9397 - val_loss: 0.0528 - val_accuracy: 0.9615\n",
      "\n",
      "Epoch 00023: val_accuracy did not improve from 0.97767\n",
      "Epoch 24/50\n",
      "29/29 [==============================] - 44s 2s/step - loss: 0.1598 - accuracy: 0.9359 - val_loss: 0.1400 - val_accuracy: 0.9739\n",
      "\n",
      "Epoch 00024: val_accuracy did not improve from 0.97767\n",
      "Epoch 25/50\n",
      "29/29 [==============================] - 45s 2s/step - loss: 0.1410 - accuracy: 0.9479 - val_loss: 0.0395 - val_accuracy: 0.9727\n",
      "\n",
      "Epoch 00025: val_accuracy did not improve from 0.97767\n",
      "Epoch 26/50\n",
      "29/29 [==============================] - 44s 2s/step - loss: 0.1440 - accuracy: 0.9457 - val_loss: 0.0483 - val_accuracy: 0.9789\n",
      "\n",
      "Epoch 00026: val_accuracy improved from 0.97767 to 0.97891, saving model to /content/drive/My Drive/My ML Project /DL Project/CNN/mask detection/model/model.h5\n",
      "Epoch 27/50\n",
      "29/29 [==============================] - 45s 2s/step - loss: 0.1437 - accuracy: 0.9449 - val_loss: 0.0761 - val_accuracy: 0.9417\n",
      "\n",
      "Epoch 00027: val_accuracy did not improve from 0.97891\n",
      "Epoch 28/50\n",
      "29/29 [==============================] - 45s 2s/step - loss: 0.1492 - accuracy: 0.9463 - val_loss: 0.0576 - val_accuracy: 0.9752\n",
      "\n",
      "Epoch 00028: val_accuracy did not improve from 0.97891\n",
      "Epoch 29/50\n",
      "29/29 [==============================] - 45s 2s/step - loss: 0.1443 - accuracy: 0.9430 - val_loss: 0.1312 - val_accuracy: 0.9640\n",
      "\n",
      "Epoch 00029: val_accuracy did not improve from 0.97891\n",
      "Epoch 30/50\n",
      "29/29 [==============================] - 44s 2s/step - loss: 0.1594 - accuracy: 0.9408 - val_loss: 0.1868 - val_accuracy: 0.9764\n",
      "\n",
      "Epoch 00030: val_accuracy did not improve from 0.97891\n",
      "Epoch 31/50\n",
      "29/29 [==============================] - 44s 2s/step - loss: 0.1669 - accuracy: 0.9400 - val_loss: 0.0137 - val_accuracy: 0.9764\n",
      "\n",
      "Epoch 00031: val_accuracy did not improve from 0.97891\n",
      "Epoch 32/50\n",
      "29/29 [==============================] - 44s 2s/step - loss: 0.1270 - accuracy: 0.9583 - val_loss: 0.0788 - val_accuracy: 0.9752\n",
      "\n",
      "Epoch 00032: val_accuracy did not improve from 0.97891\n",
      "Epoch 33/50\n",
      "29/29 [==============================] - 44s 2s/step - loss: 0.1444 - accuracy: 0.9466 - val_loss: 0.0541 - val_accuracy: 0.9777\n",
      "\n",
      "Epoch 00033: val_accuracy did not improve from 0.97891\n",
      "Epoch 34/50\n",
      "29/29 [==============================] - 45s 2s/step - loss: 0.1240 - accuracy: 0.9553 - val_loss: 0.0655 - val_accuracy: 0.9529\n",
      "\n",
      "Epoch 00034: val_accuracy did not improve from 0.97891\n",
      "Epoch 35/50\n",
      "29/29 [==============================] - 44s 2s/step - loss: 0.1361 - accuracy: 0.9518 - val_loss: 0.0245 - val_accuracy: 0.9752\n",
      "\n",
      "Epoch 00035: val_accuracy did not improve from 0.97891\n",
      "Epoch 36/50\n",
      "29/29 [==============================] - 44s 2s/step - loss: 0.1400 - accuracy: 0.9488 - val_loss: 0.1113 - val_accuracy: 0.9715\n",
      "\n",
      "Epoch 00036: val_accuracy did not improve from 0.97891\n",
      "Epoch 37/50\n",
      "29/29 [==============================] - 44s 2s/step - loss: 0.1359 - accuracy: 0.9523 - val_loss: 0.0237 - val_accuracy: 0.9777\n",
      "\n",
      "Epoch 00037: val_accuracy did not improve from 0.97891\n",
      "Epoch 38/50\n",
      "29/29 [==============================] - 44s 2s/step - loss: 0.1236 - accuracy: 0.9534 - val_loss: 0.1456 - val_accuracy: 0.9814\n",
      "\n",
      "Epoch 00038: val_accuracy improved from 0.97891 to 0.98139, saving model to /content/drive/My Drive/My ML Project /DL Project/CNN/mask detection/model/model.h5\n",
      "Epoch 39/50\n",
      "29/29 [==============================] - 44s 2s/step - loss: 0.1283 - accuracy: 0.9537 - val_loss: 0.3000 - val_accuracy: 0.9739\n",
      "\n",
      "Epoch 00039: val_accuracy did not improve from 0.98139\n",
      "Epoch 40/50\n",
      "29/29 [==============================] - 44s 2s/step - loss: 0.1238 - accuracy: 0.9567 - val_loss: 0.0794 - val_accuracy: 0.9839\n",
      "\n",
      "Epoch 00040: val_accuracy improved from 0.98139 to 0.98387, saving model to /content/drive/My Drive/My ML Project /DL Project/CNN/mask detection/model/model.h5\n",
      "Epoch 41/50\n",
      "29/29 [==============================] - 45s 2s/step - loss: 0.1292 - accuracy: 0.9507 - val_loss: 0.0182 - val_accuracy: 0.9801\n",
      "\n",
      "Epoch 00041: val_accuracy did not improve from 0.98387\n",
      "Epoch 42/50\n",
      "29/29 [==============================] - 44s 2s/step - loss: 0.1227 - accuracy: 0.9589 - val_loss: 0.0110 - val_accuracy: 0.9864\n",
      "\n",
      "Epoch 00042: val_accuracy improved from 0.98387 to 0.98635, saving model to /content/drive/My Drive/My ML Project /DL Project/CNN/mask detection/model/model.h5\n",
      "Epoch 43/50\n",
      "29/29 [==============================] - 44s 2s/step - loss: 0.1120 - accuracy: 0.9583 - val_loss: 0.0949 - val_accuracy: 0.9826\n",
      "\n",
      "Epoch 00043: val_accuracy did not improve from 0.98635\n",
      "Epoch 44/50\n",
      "29/29 [==============================] - 44s 2s/step - loss: 0.1040 - accuracy: 0.9614 - val_loss: 0.0320 - val_accuracy: 0.9764\n",
      "\n",
      "Epoch 00044: val_accuracy did not improve from 0.98635\n",
      "Epoch 45/50\n",
      "29/29 [==============================] - 44s 2s/step - loss: 0.1347 - accuracy: 0.9498 - val_loss: 0.1316 - val_accuracy: 0.9801\n",
      "\n",
      "Epoch 00045: val_accuracy did not improve from 0.98635\n",
      "Epoch 46/50\n",
      "29/29 [==============================] - 44s 2s/step - loss: 0.1267 - accuracy: 0.9559 - val_loss: 0.0934 - val_accuracy: 0.9814\n",
      "\n",
      "Epoch 00046: val_accuracy did not improve from 0.98635\n",
      "Epoch 47/50\n",
      "29/29 [==============================] - 45s 2s/step - loss: 0.1206 - accuracy: 0.9564 - val_loss: 0.0031 - val_accuracy: 0.9851\n",
      "\n",
      "Epoch 00047: val_accuracy did not improve from 0.98635\n",
      "Epoch 48/50\n",
      "29/29 [==============================] - 44s 2s/step - loss: 0.1226 - accuracy: 0.9572 - val_loss: 0.0052 - val_accuracy: 0.9801\n",
      "\n",
      "Epoch 00048: val_accuracy did not improve from 0.98635\n",
      "Epoch 49/50\n",
      "29/29 [==============================] - 44s 2s/step - loss: 0.1379 - accuracy: 0.9471 - val_loss: 0.0618 - val_accuracy: 0.9628\n",
      "\n",
      "Epoch 00049: val_accuracy did not improve from 0.98635\n",
      "Epoch 50/50\n",
      "29/29 [==============================] - 44s 2s/step - loss: 0.1165 - accuracy: 0.9562 - val_loss: 0.0597 - val_accuracy: 0.9851\n",
      "\n",
      "Epoch 00050: val_accuracy did not improve from 0.98635\n"
     ]
    }
   ],
   "source": [
    "# train cnn model\n",
    "history = cnn_model.fit(training_data, \n",
    "                          epochs=50, \n",
    "                          verbose=1, \n",
    "                          validation_data= valid_data,\n",
    "                          callbacks=callbacks_list) # time start 14.25"
   ]
  },
  {
   "cell_type": "code",
   "execution_count": 13,
   "metadata": {
    "colab": {},
    "colab_type": "code",
    "executionInfo": {
     "elapsed": 137,
     "status": "ok",
     "timestamp": 1600085462042,
     "user": {
      "displayName": "indian ai production-editor",
      "photoUrl": "",
      "userId": "05336710603640792650"
     },
     "user_tz": -330
    },
    "id": "V0GGNaip7qq8"
   },
   "outputs": [],
   "source": [
    "cnn_model.save('/content/drive/My Drive/My ML Project /DL Project/CNN/mask detection/model/model_last.h5')"
   ]
  },
  {
   "cell_type": "code",
   "execution_count": 15,
   "metadata": {
    "colab": {
     "base_uri": "https://localhost:8080/",
     "height": 1000
    },
    "colab_type": "code",
    "executionInfo": {
     "elapsed": 976998,
     "status": "ok",
     "timestamp": 1600087891727,
     "user": {
      "displayName": "indian ai production-editor",
      "photoUrl": "",
      "userId": "05336710603640792650"
     },
     "user_tz": -330
    },
    "id": "XlmL-D7aiYVc",
    "outputId": "a817e46b-c20d-4426-fe4b-8501a69d613d"
   },
   "outputs": [
    {
     "name": "stdout",
     "output_type": "stream",
     "text": [
      "Epoch 1/50\n",
      " 6/29 [=====>........................] - ETA: 45s - loss: 0.1112 - accuracy: 0.9596"
     ]
    },
    {
     "name": "stderr",
     "output_type": "stream",
     "text": [
      "/usr/local/lib/python3.6/dist-packages/PIL/Image.py:932: UserWarning: Palette images with Transparency expressed in bytes should be converted to RGBA images\n",
      "  \"Palette images with Transparency expressed in bytes should be \"\n"
     ]
    },
    {
     "name": "stdout",
     "output_type": "stream",
     "text": [
      "29/29 [==============================] - 45s 2s/step - loss: 0.1241 - accuracy: 0.9572 - val_loss: 0.0348 - val_accuracy: 0.9777\n",
      "\n",
      "Epoch 00001: val_accuracy did not improve from 0.98635\n",
      "Epoch 2/50\n",
      "29/29 [==============================] - 44s 2s/step - loss: 0.1092 - accuracy: 0.9583 - val_loss: 0.0748 - val_accuracy: 0.9826\n",
      "\n",
      "Epoch 00002: val_accuracy did not improve from 0.98635\n",
      "Epoch 3/50\n",
      "29/29 [==============================] - 44s 2s/step - loss: 0.1098 - accuracy: 0.9638 - val_loss: 0.0358 - val_accuracy: 0.9814\n",
      "\n",
      "Epoch 00003: val_accuracy did not improve from 0.98635\n",
      "Epoch 4/50\n",
      "29/29 [==============================] - 44s 2s/step - loss: 0.1106 - accuracy: 0.9597 - val_loss: 0.0420 - val_accuracy: 0.9826\n",
      "\n",
      "Epoch 00004: val_accuracy did not improve from 0.98635\n",
      "Epoch 5/50\n",
      "29/29 [==============================] - 44s 2s/step - loss: 0.1436 - accuracy: 0.9449 - val_loss: 0.0478 - val_accuracy: 0.9839\n",
      "\n",
      "Epoch 00005: val_accuracy did not improve from 0.98635\n",
      "Epoch 6/50\n",
      "29/29 [==============================] - 44s 2s/step - loss: 0.1217 - accuracy: 0.9603 - val_loss: 0.0298 - val_accuracy: 0.9801\n",
      "\n",
      "Epoch 00006: val_accuracy did not improve from 0.98635\n",
      "Epoch 7/50\n",
      "29/29 [==============================] - 44s 2s/step - loss: 0.1182 - accuracy: 0.9597 - val_loss: 0.0984 - val_accuracy: 0.9839\n",
      "\n",
      "Epoch 00007: val_accuracy did not improve from 0.98635\n",
      "Epoch 8/50\n",
      "29/29 [==============================] - 44s 2s/step - loss: 0.1168 - accuracy: 0.9572 - val_loss: 0.0455 - val_accuracy: 0.9851\n",
      "\n",
      "Epoch 00008: val_accuracy did not improve from 0.98635\n",
      "Epoch 9/50\n",
      "29/29 [==============================] - 44s 2s/step - loss: 0.1074 - accuracy: 0.9633 - val_loss: 0.0347 - val_accuracy: 0.9702\n",
      "\n",
      "Epoch 00009: val_accuracy did not improve from 0.98635\n",
      "Epoch 10/50\n",
      "29/29 [==============================] - 44s 2s/step - loss: 0.1047 - accuracy: 0.9603 - val_loss: 0.0936 - val_accuracy: 0.9826\n",
      "\n",
      "Epoch 00010: val_accuracy did not improve from 0.98635\n",
      "Epoch 11/50\n",
      "29/29 [==============================] - 44s 2s/step - loss: 0.0984 - accuracy: 0.9622 - val_loss: 0.0432 - val_accuracy: 0.9826\n",
      "\n",
      "Epoch 00011: val_accuracy did not improve from 0.98635\n",
      "Epoch 12/50\n",
      "29/29 [==============================] - 44s 2s/step - loss: 0.0896 - accuracy: 0.9660 - val_loss: 0.0118 - val_accuracy: 0.9826\n",
      "\n",
      "Epoch 00012: val_accuracy did not improve from 0.98635\n",
      "Epoch 13/50\n",
      "29/29 [==============================] - 44s 2s/step - loss: 0.0982 - accuracy: 0.9677 - val_loss: 0.0222 - val_accuracy: 0.9814\n",
      "\n",
      "Epoch 00013: val_accuracy did not improve from 0.98635\n",
      "Epoch 14/50\n",
      "29/29 [==============================] - 45s 2s/step - loss: 0.1102 - accuracy: 0.9622 - val_loss: 0.0050 - val_accuracy: 0.9826\n",
      "\n",
      "Epoch 00014: val_accuracy did not improve from 0.98635\n",
      "Epoch 15/50\n",
      "29/29 [==============================] - 45s 2s/step - loss: 0.1033 - accuracy: 0.9614 - val_loss: 0.0124 - val_accuracy: 0.9864\n",
      "\n",
      "Epoch 00015: val_accuracy did not improve from 0.98635\n",
      "Epoch 16/50\n",
      "29/29 [==============================] - 45s 2s/step - loss: 0.1040 - accuracy: 0.9668 - val_loss: 0.0661 - val_accuracy: 0.9839\n",
      "\n",
      "Epoch 00016: val_accuracy did not improve from 0.98635\n",
      "Epoch 17/50\n",
      "29/29 [==============================] - 45s 2s/step - loss: 0.0873 - accuracy: 0.9688 - val_loss: 0.0058 - val_accuracy: 0.9901\n",
      "\n",
      "Epoch 00017: val_accuracy improved from 0.98635 to 0.99007, saving model to /content/drive/My Drive/My ML Project /DL Project/CNN/mask detection/model/model.h5\n",
      "Epoch 18/50\n",
      "29/29 [==============================] - 44s 2s/step - loss: 0.0838 - accuracy: 0.9710 - val_loss: 0.0736 - val_accuracy: 0.9851\n",
      "\n",
      "Epoch 00018: val_accuracy did not improve from 0.99007\n",
      "Epoch 19/50\n",
      "29/29 [==============================] - 44s 2s/step - loss: 0.0993 - accuracy: 0.9666 - val_loss: 0.0121 - val_accuracy: 0.9864\n",
      "\n",
      "Epoch 00019: val_accuracy did not improve from 0.99007\n",
      "Epoch 20/50\n",
      "29/29 [==============================] - 44s 2s/step - loss: 0.0827 - accuracy: 0.9712 - val_loss: 0.0158 - val_accuracy: 0.9839\n",
      "\n",
      "Epoch 00020: val_accuracy did not improve from 0.99007\n",
      "Epoch 21/50\n",
      "29/29 [==============================] - 45s 2s/step - loss: 0.0913 - accuracy: 0.9671 - val_loss: 0.0315 - val_accuracy: 0.9888\n",
      "\n",
      "Epoch 00021: val_accuracy did not improve from 0.99007\n",
      "Epoch 22/50\n",
      "29/29 [==============================] - 44s 2s/step - loss: 0.0995 - accuracy: 0.9652 - val_loss: 0.0117 - val_accuracy: 0.9864\n",
      "\n",
      "Epoch 00022: val_accuracy did not improve from 0.99007\n",
      "Epoch 23/50\n",
      "29/29 [==============================] - 44s 2s/step - loss: 0.0946 - accuracy: 0.9657 - val_loss: 0.0850 - val_accuracy: 0.9826\n",
      "\n",
      "Epoch 00023: val_accuracy did not improve from 0.99007\n",
      "Epoch 24/50\n",
      "29/29 [==============================] - 44s 2s/step - loss: 0.1222 - accuracy: 0.9578 - val_loss: 0.0495 - val_accuracy: 0.9851\n",
      "\n",
      "Epoch 00024: val_accuracy did not improve from 0.99007\n",
      "Epoch 25/50\n",
      "29/29 [==============================] - 45s 2s/step - loss: 0.1108 - accuracy: 0.9627 - val_loss: 0.0714 - val_accuracy: 0.9640\n",
      "\n",
      "Epoch 00025: val_accuracy did not improve from 0.99007\n",
      "Epoch 26/50\n",
      "29/29 [==============================] - 46s 2s/step - loss: 0.0966 - accuracy: 0.9627 - val_loss: 0.0065 - val_accuracy: 0.9851\n",
      "\n",
      "Epoch 00026: val_accuracy did not improve from 0.99007\n",
      "Epoch 27/50\n",
      "29/29 [==============================] - 46s 2s/step - loss: 0.0789 - accuracy: 0.9699 - val_loss: 0.0527 - val_accuracy: 0.9901\n",
      "\n",
      "Epoch 00027: val_accuracy did not improve from 0.99007\n",
      "Epoch 28/50\n",
      "29/29 [==============================] - 47s 2s/step - loss: 0.1116 - accuracy: 0.9578 - val_loss: 0.0436 - val_accuracy: 0.9826\n",
      "\n",
      "Epoch 00028: val_accuracy did not improve from 0.99007\n",
      "Epoch 29/50\n",
      "29/29 [==============================] - 46s 2s/step - loss: 0.0779 - accuracy: 0.9723 - val_loss: 0.2910 - val_accuracy: 0.9876\n",
      "\n",
      "Epoch 00029: val_accuracy did not improve from 0.99007\n",
      "Epoch 30/50\n",
      "29/29 [==============================] - 46s 2s/step - loss: 0.0862 - accuracy: 0.9677 - val_loss: 0.0481 - val_accuracy: 0.9814\n",
      "\n",
      "Epoch 00030: val_accuracy did not improve from 0.99007\n",
      "Epoch 31/50\n",
      "29/29 [==============================] - 47s 2s/step - loss: 0.1044 - accuracy: 0.9630 - val_loss: 0.0070 - val_accuracy: 0.9876\n",
      "\n",
      "Epoch 00031: val_accuracy did not improve from 0.99007\n",
      "Epoch 32/50\n",
      "29/29 [==============================] - 45s 2s/step - loss: 0.0961 - accuracy: 0.9649 - val_loss: 0.0726 - val_accuracy: 0.9888\n",
      "\n",
      "Epoch 00032: val_accuracy did not improve from 0.99007\n",
      "Epoch 33/50\n",
      "29/29 [==============================] - 45s 2s/step - loss: 0.0986 - accuracy: 0.9657 - val_loss: 0.0076 - val_accuracy: 0.9876\n",
      "\n",
      "Epoch 00033: val_accuracy did not improve from 0.99007\n",
      "Epoch 34/50\n",
      "29/29 [==============================] - 44s 2s/step - loss: 0.0886 - accuracy: 0.9699 - val_loss: 0.0162 - val_accuracy: 0.9739\n",
      "\n",
      "Epoch 00034: val_accuracy did not improve from 0.99007\n",
      "Epoch 35/50\n",
      "29/29 [==============================] - 45s 2s/step - loss: 0.0963 - accuracy: 0.9657 - val_loss: 0.0966 - val_accuracy: 0.9826\n",
      "\n",
      "Epoch 00035: val_accuracy did not improve from 0.99007\n",
      "Epoch 36/50\n",
      "29/29 [==============================] - 44s 2s/step - loss: 0.0980 - accuracy: 0.9641 - val_loss: 0.0574 - val_accuracy: 0.9839\n",
      "\n",
      "Epoch 00036: val_accuracy did not improve from 0.99007\n",
      "Epoch 37/50\n",
      "29/29 [==============================] - 44s 2s/step - loss: 0.0884 - accuracy: 0.9668 - val_loss: 0.0064 - val_accuracy: 0.9901\n",
      "\n",
      "Epoch 00037: val_accuracy did not improve from 0.99007\n",
      "Epoch 38/50\n",
      "29/29 [==============================] - 44s 2s/step - loss: 0.0807 - accuracy: 0.9723 - val_loss: 0.0146 - val_accuracy: 0.9864\n",
      "\n",
      "Epoch 00038: val_accuracy did not improve from 0.99007\n",
      "Epoch 39/50\n",
      "29/29 [==============================] - 45s 2s/step - loss: 0.0709 - accuracy: 0.9737 - val_loss: 0.0010 - val_accuracy: 0.9864\n",
      "\n",
      "Epoch 00039: val_accuracy did not improve from 0.99007\n",
      "Epoch 40/50\n",
      "29/29 [==============================] - 44s 2s/step - loss: 0.0865 - accuracy: 0.9701 - val_loss: 0.0340 - val_accuracy: 0.9876\n",
      "\n",
      "Epoch 00040: val_accuracy did not improve from 0.99007\n",
      "Epoch 41/50\n",
      "29/29 [==============================] - 44s 2s/step - loss: 0.0743 - accuracy: 0.9748 - val_loss: 0.2143 - val_accuracy: 0.9913\n",
      "\n",
      "Epoch 00041: val_accuracy improved from 0.99007 to 0.99132, saving model to /content/drive/My Drive/My ML Project /DL Project/CNN/mask detection/model/model.h5\n",
      "Epoch 42/50\n",
      "29/29 [==============================] - 45s 2s/step - loss: 0.0814 - accuracy: 0.9737 - val_loss: 0.1095 - val_accuracy: 0.9888\n",
      "\n",
      "Epoch 00042: val_accuracy did not improve from 0.99132\n",
      "Epoch 43/50\n",
      "29/29 [==============================] - 44s 2s/step - loss: 0.0806 - accuracy: 0.9729 - val_loss: 0.0027 - val_accuracy: 0.9876\n",
      "\n",
      "Epoch 00043: val_accuracy did not improve from 0.99132\n",
      "Epoch 44/50\n",
      "29/29 [==============================] - 44s 2s/step - loss: 0.0730 - accuracy: 0.9745 - val_loss: 0.0541 - val_accuracy: 0.9901\n",
      "\n",
      "Epoch 00044: val_accuracy did not improve from 0.99132\n",
      "Epoch 45/50\n",
      "29/29 [==============================] - 44s 2s/step - loss: 0.0889 - accuracy: 0.9710 - val_loss: 0.0476 - val_accuracy: 0.9826\n",
      "\n",
      "Epoch 00045: val_accuracy did not improve from 0.99132\n",
      "Epoch 46/50\n",
      "29/29 [==============================] - 44s 2s/step - loss: 0.0817 - accuracy: 0.9729 - val_loss: 0.0098 - val_accuracy: 0.9926\n",
      "\n",
      "Epoch 00046: val_accuracy improved from 0.99132 to 0.99256, saving model to /content/drive/My Drive/My ML Project /DL Project/CNN/mask detection/model/model.h5\n",
      "Epoch 47/50\n",
      "29/29 [==============================] - 44s 2s/step - loss: 0.0758 - accuracy: 0.9753 - val_loss: 0.0067 - val_accuracy: 0.9839\n",
      "\n",
      "Epoch 00047: val_accuracy did not improve from 0.99256\n",
      "Epoch 48/50\n",
      "29/29 [==============================] - 44s 2s/step - loss: 0.0684 - accuracy: 0.9751 - val_loss: 0.1263 - val_accuracy: 0.9851\n",
      "\n",
      "Epoch 00048: val_accuracy did not improve from 0.99256\n",
      "Epoch 49/50\n",
      "29/29 [==============================] - 44s 2s/step - loss: 0.1162 - accuracy: 0.9600 - val_loss: 0.0489 - val_accuracy: 0.9901\n",
      "\n",
      "Epoch 00049: val_accuracy did not improve from 0.99256\n",
      "Epoch 50/50\n",
      "29/29 [==============================] - 44s 2s/step - loss: 0.0870 - accuracy: 0.9699 - val_loss: 0.0571 - val_accuracy: 0.9901\n",
      "\n",
      "Epoch 00050: val_accuracy did not improve from 0.99256\n"
     ]
    }
   ],
   "source": [
    "# train cnn model\n",
    "history = cnn_model.fit(training_data, \n",
    "                          epochs=50, \n",
    "                          verbose=1, \n",
    "                          validation_data= valid_data,\n",
    "                          callbacks=callbacks_list) # time start 14.25"
   ]
  },
  {
   "cell_type": "code",
   "execution_count": null,
   "metadata": {
    "colab": {},
    "colab_type": "code",
    "id": "tXD2uqPyieiv"
   },
   "outputs": [],
   "source": [
    "cnn_model.save('/content/drive/My Drive/My ML Project /DL Project/CNN/mask detection/model/model_last.h5')"
   ]
  },
  {
   "cell_type": "code",
   "execution_count": 14,
   "metadata": {
    "colab": {
     "base_uri": "https://localhost:8080/",
     "height": 231
    },
    "colab_type": "code",
    "executionInfo": {
     "elapsed": 4980,
     "status": "error",
     "timestamp": 1600085466946,
     "user": {
      "displayName": "indian ai production-editor",
      "photoUrl": "",
      "userId": "05336710603640792650"
     },
     "user_tz": -330
    },
    "id": "h4qG5aVGU7zc",
    "outputId": "bd2bb093-974d-40e9-ad8c-0de521a4ff7b"
   },
   "outputs": [
    {
     "ename": "TypeError",
     "evalue": "ignored",
     "output_type": "error",
     "traceback": [
      "\u001b[0;31m---------------------------------------------------------------------------\u001b[0m",
      "\u001b[0;31mTypeError\u001b[0m                                 Traceback (most recent call last)",
      "\u001b[0;32m<ipython-input-14-175a2b4463d5>\u001b[0m in \u001b[0;36m<module>\u001b[0;34m()\u001b[0m\n\u001b[1;32m      1\u001b[0m \u001b[0;32mimport\u001b[0m \u001b[0mmatplotlib\u001b[0m\u001b[0;34m.\u001b[0m\u001b[0mpyplot\u001b[0m \u001b[0;32mas\u001b[0m \u001b[0mplt\u001b[0m\u001b[0;34m\u001b[0m\u001b[0;34m\u001b[0m\u001b[0m\n\u001b[1;32m      2\u001b[0m \u001b[0;31m# plot the loss\u001b[0m\u001b[0;34m\u001b[0m\u001b[0;34m\u001b[0m\u001b[0;34m\u001b[0m\u001b[0m\n\u001b[0;32m----> 3\u001b[0;31m \u001b[0mplt\u001b[0m\u001b[0;34m.\u001b[0m\u001b[0mplot\u001b[0m\u001b[0;34m(\u001b[0m\u001b[0mcnn_model\u001b[0m\u001b[0;34m.\u001b[0m\u001b[0mhistory\u001b[0m\u001b[0;34m[\u001b[0m\u001b[0;34m'loss'\u001b[0m\u001b[0;34m]\u001b[0m\u001b[0;34m,\u001b[0m \u001b[0mlabel\u001b[0m\u001b[0;34m=\u001b[0m\u001b[0;34m'train loss'\u001b[0m\u001b[0;34m)\u001b[0m\u001b[0;34m\u001b[0m\u001b[0;34m\u001b[0m\u001b[0m\n\u001b[0m\u001b[1;32m      4\u001b[0m \u001b[0mplt\u001b[0m\u001b[0;34m.\u001b[0m\u001b[0mplot\u001b[0m\u001b[0;34m(\u001b[0m\u001b[0mcnn_model\u001b[0m\u001b[0;34m.\u001b[0m\u001b[0mhistory\u001b[0m\u001b[0;34m[\u001b[0m\u001b[0;34m'val_loss'\u001b[0m\u001b[0;34m]\u001b[0m\u001b[0;34m,\u001b[0m \u001b[0mlabel\u001b[0m\u001b[0;34m=\u001b[0m\u001b[0;34m'val loss'\u001b[0m\u001b[0;34m)\u001b[0m\u001b[0;34m\u001b[0m\u001b[0;34m\u001b[0m\u001b[0m\n\u001b[1;32m      5\u001b[0m \u001b[0mplt\u001b[0m\u001b[0;34m.\u001b[0m\u001b[0mlegend\u001b[0m\u001b[0;34m(\u001b[0m\u001b[0;34m)\u001b[0m\u001b[0;34m\u001b[0m\u001b[0;34m\u001b[0m\u001b[0m\n",
      "\u001b[0;31mTypeError\u001b[0m: 'History' object is not subscriptable"
     ]
    }
   ],
   "source": [
    "import matplotlib.pyplot as plt\n",
    "# plot the loss\n",
    "plt.plot(cnn_model.history['loss'], label='train loss')\n",
    "plt.plot(cnn_model.history['val_loss'], label='val loss')\n",
    "plt.legend()\n",
    "plt.show()\n",
    "plt.savefig('LossVal_loss')\n",
    "\n",
    "# plot the accuracy\n",
    "plt.plot(cnn_model.history['accuracy'], label='train acc')\n",
    "plt.plot(cnn_model.history['val_accuracy'], label='val acc')\n",
    "plt.legend()\n",
    "plt.show()\n",
    "plt.savefig('AccVal_acc')"
   ]
  },
  {
   "cell_type": "code",
   "execution_count": null,
   "metadata": {
    "colab": {},
    "colab_type": "code",
    "executionInfo": {
     "elapsed": 2640,
     "status": "aborted",
     "timestamp": 1600085466955,
     "user": {
      "displayName": "indian ai production-editor",
      "photoUrl": "",
      "userId": "05336710603640792650"
     },
     "user_tz": -330
    },
    "id": "7V7eFFbLVZHo"
   },
   "outputs": [],
   "source": []
  },
  {
   "cell_type": "code",
   "execution_count": null,
   "metadata": {
    "colab": {},
    "colab_type": "code",
    "executionInfo": {
     "elapsed": 2633,
     "status": "aborted",
     "timestamp": 1600085466975,
     "user": {
      "displayName": "indian ai production-editor",
      "photoUrl": "",
      "userId": "05336710603640792650"
     },
     "user_tz": -330
    },
    "id": "diJMTP8qVnwX"
   },
   "outputs": [],
   "source": []
  },
  {
   "cell_type": "code",
   "execution_count": null,
   "metadata": {
    "colab": {},
    "colab_type": "code",
    "executionInfo": {
     "elapsed": 2627,
     "status": "aborted",
     "timestamp": 1600085466976,
     "user": {
      "displayName": "indian ai production-editor",
      "photoUrl": "",
      "userId": "05336710603640792650"
     },
     "user_tz": -330
    },
    "id": "VDLB4hWJV2aH"
   },
   "outputs": [],
   "source": []
  },
  {
   "cell_type": "code",
   "execution_count": null,
   "metadata": {
    "colab": {},
    "colab_type": "code",
    "executionInfo": {
     "elapsed": 2628,
     "status": "aborted",
     "timestamp": 1600085466985,
     "user": {
      "displayName": "indian ai production-editor",
      "photoUrl": "",
      "userId": "05336710603640792650"
     },
     "user_tz": -330
    },
    "id": "NEHzL2eHWFEE"
   },
   "outputs": [],
   "source": []
  },
  {
   "cell_type": "code",
   "execution_count": null,
   "metadata": {
    "colab": {},
    "colab_type": "code",
    "executionInfo": {
     "elapsed": 2625,
     "status": "aborted",
     "timestamp": 1600085466989,
     "user": {
      "displayName": "indian ai production-editor",
      "photoUrl": "",
      "userId": "05336710603640792650"
     },
     "user_tz": -330
    },
    "id": "Cl0wC88lWTsg"
   },
   "outputs": [],
   "source": []
  },
  {
   "cell_type": "code",
   "execution_count": null,
   "metadata": {
    "colab": {},
    "colab_type": "code",
    "executionInfo": {
     "elapsed": 2621,
     "status": "aborted",
     "timestamp": 1600085466991,
     "user": {
      "displayName": "indian ai production-editor",
      "photoUrl": "",
      "userId": "05336710603640792650"
     },
     "user_tz": -330
    },
    "id": "gfo37GCRWiWP"
   },
   "outputs": [],
   "source": []
  },
  {
   "cell_type": "code",
   "execution_count": null,
   "metadata": {
    "colab": {},
    "colab_type": "code",
    "executionInfo": {
     "elapsed": 2612,
     "status": "aborted",
     "timestamp": 1600085466993,
     "user": {
      "displayName": "indian ai production-editor",
      "photoUrl": "",
      "userId": "05336710603640792650"
     },
     "user_tz": -330
    },
    "id": "9LNDTgMvWw_8"
   },
   "outputs": [],
   "source": []
  },
  {
   "cell_type": "code",
   "execution_count": null,
   "metadata": {
    "colab": {},
    "colab_type": "code",
    "executionInfo": {
     "elapsed": 2608,
     "status": "aborted",
     "timestamp": 1600085466994,
     "user": {
      "displayName": "indian ai production-editor",
      "photoUrl": "",
      "userId": "05336710603640792650"
     },
     "user_tz": -330
    },
    "id": "gCsaEaNYW_pC"
   },
   "outputs": [],
   "source": []
  },
  {
   "cell_type": "code",
   "execution_count": null,
   "metadata": {
    "colab": {},
    "colab_type": "code",
    "executionInfo": {
     "elapsed": 2600,
     "status": "aborted",
     "timestamp": 1600085466996,
     "user": {
      "displayName": "indian ai production-editor",
      "photoUrl": "",
      "userId": "05336710603640792650"
     },
     "user_tz": -330
    },
    "id": "nlneCWHCXOTF"
   },
   "outputs": [],
   "source": []
  },
  {
   "cell_type": "code",
   "execution_count": null,
   "metadata": {
    "colab": {},
    "colab_type": "code",
    "executionInfo": {
     "elapsed": 2598,
     "status": "aborted",
     "timestamp": 1600085467003,
     "user": {
      "displayName": "indian ai production-editor",
      "photoUrl": "",
      "userId": "05336710603640792650"
     },
     "user_tz": -330
    },
    "id": "4Bh0I217Xc8b"
   },
   "outputs": [],
   "source": []
  },
  {
   "cell_type": "code",
   "execution_count": null,
   "metadata": {
    "colab": {},
    "colab_type": "code",
    "executionInfo": {
     "elapsed": 2596,
     "status": "aborted",
     "timestamp": 1600085467006,
     "user": {
      "displayName": "indian ai production-editor",
      "photoUrl": "",
      "userId": "05336710603640792650"
     },
     "user_tz": -330
    },
    "id": "s_jRoK33XrmD"
   },
   "outputs": [],
   "source": []
  },
  {
   "cell_type": "code",
   "execution_count": null,
   "metadata": {
    "colab": {},
    "colab_type": "code",
    "executionInfo": {
     "elapsed": 2589,
     "status": "aborted",
     "timestamp": 1600085467008,
     "user": {
      "displayName": "indian ai production-editor",
      "photoUrl": "",
      "userId": "05336710603640792650"
     },
     "user_tz": -330
    },
    "id": "cq6mgYonX6P2"
   },
   "outputs": [],
   "source": []
  },
  {
   "cell_type": "code",
   "execution_count": null,
   "metadata": {
    "colab": {},
    "colab_type": "code",
    "executionInfo": {
     "elapsed": 2583,
     "status": "aborted",
     "timestamp": 1600085467009,
     "user": {
      "displayName": "indian ai production-editor",
      "photoUrl": "",
      "userId": "05336710603640792650"
     },
     "user_tz": -330
    },
    "id": "Yt0LyX5-YI5r"
   },
   "outputs": [],
   "source": []
  },
  {
   "cell_type": "code",
   "execution_count": null,
   "metadata": {
    "colab": {},
    "colab_type": "code",
    "executionInfo": {
     "elapsed": 2578,
     "status": "aborted",
     "timestamp": 1600085467010,
     "user": {
      "displayName": "indian ai production-editor",
      "photoUrl": "",
      "userId": "05336710603640792650"
     },
     "user_tz": -330
    },
    "id": "OQo_jTVvYXk4"
   },
   "outputs": [],
   "source": []
  },
  {
   "cell_type": "code",
   "execution_count": null,
   "metadata": {
    "colab": {},
    "colab_type": "code",
    "executionInfo": {
     "elapsed": 2575,
     "status": "aborted",
     "timestamp": 1600085467012,
     "user": {
      "displayName": "indian ai production-editor",
      "photoUrl": "",
      "userId": "05336710603640792650"
     },
     "user_tz": -330
    },
    "id": "LYIAFQT5YmLz"
   },
   "outputs": [],
   "source": []
  },
  {
   "cell_type": "code",
   "execution_count": null,
   "metadata": {
    "colab": {},
    "colab_type": "code",
    "executionInfo": {
     "elapsed": 2572,
     "status": "aborted",
     "timestamp": 1600085467014,
     "user": {
      "displayName": "indian ai production-editor",
      "photoUrl": "",
      "userId": "05336710603640792650"
     },
     "user_tz": -330
    },
    "id": "PDV-vsjgY01a"
   },
   "outputs": [],
   "source": []
  },
  {
   "cell_type": "code",
   "execution_count": null,
   "metadata": {
    "colab": {},
    "colab_type": "code",
    "executionInfo": {
     "elapsed": 2567,
     "status": "aborted",
     "timestamp": 1600085467015,
     "user": {
      "displayName": "indian ai production-editor",
      "photoUrl": "",
      "userId": "05336710603640792650"
     },
     "user_tz": -330
    },
    "id": "yKyW_emeZDe_"
   },
   "outputs": [],
   "source": []
  },
  {
   "cell_type": "code",
   "execution_count": null,
   "metadata": {
    "colab": {},
    "colab_type": "code",
    "executionInfo": {
     "elapsed": 2561,
     "status": "aborted",
     "timestamp": 1600085467016,
     "user": {
      "displayName": "indian ai production-editor",
      "photoUrl": "",
      "userId": "05336710603640792650"
     },
     "user_tz": -330
    },
    "id": "lP1W2dAFZSJF"
   },
   "outputs": [],
   "source": []
  },
  {
   "cell_type": "code",
   "execution_count": null,
   "metadata": {
    "colab": {},
    "colab_type": "code",
    "executionInfo": {
     "elapsed": 2555,
     "status": "aborted",
     "timestamp": 1600085467017,
     "user": {
      "displayName": "indian ai production-editor",
      "photoUrl": "",
      "userId": "05336710603640792650"
     },
     "user_tz": -330
    },
    "id": "12v_l9y9Zgxz"
   },
   "outputs": [],
   "source": []
  },
  {
   "cell_type": "code",
   "execution_count": null,
   "metadata": {
    "colab": {},
    "colab_type": "code",
    "executionInfo": {
     "elapsed": 2549,
     "status": "aborted",
     "timestamp": 1600085467018,
     "user": {
      "displayName": "indian ai production-editor",
      "photoUrl": "",
      "userId": "05336710603640792650"
     },
     "user_tz": -330
    },
    "id": "WISNUnRdZvb4"
   },
   "outputs": [],
   "source": []
  },
  {
   "cell_type": "code",
   "execution_count": null,
   "metadata": {
    "colab": {},
    "colab_type": "code",
    "executionInfo": {
     "elapsed": 2544,
     "status": "aborted",
     "timestamp": 1600085467019,
     "user": {
      "displayName": "indian ai production-editor",
      "photoUrl": "",
      "userId": "05336710603640792650"
     },
     "user_tz": -330
    },
    "id": "f-MD6CBWZ-FK"
   },
   "outputs": [],
   "source": []
  },
  {
   "cell_type": "code",
   "execution_count": null,
   "metadata": {
    "colab": {},
    "colab_type": "code",
    "executionInfo": {
     "elapsed": 2541,
     "status": "aborted",
     "timestamp": 1600085467021,
     "user": {
      "displayName": "indian ai production-editor",
      "photoUrl": "",
      "userId": "05336710603640792650"
     },
     "user_tz": -330
    },
    "id": "pjKZtKxsaMuG"
   },
   "outputs": [],
   "source": []
  },
  {
   "cell_type": "code",
   "execution_count": null,
   "metadata": {
    "colab": {},
    "colab_type": "code",
    "executionInfo": {
     "elapsed": 2538,
     "status": "aborted",
     "timestamp": 1600085467023,
     "user": {
      "displayName": "indian ai production-editor",
      "photoUrl": "",
      "userId": "05336710603640792650"
     },
     "user_tz": -330
    },
    "id": "JgZTeDS1abYW"
   },
   "outputs": [],
   "source": []
  },
  {
   "cell_type": "code",
   "execution_count": null,
   "metadata": {
    "colab": {},
    "colab_type": "code",
    "executionInfo": {
     "elapsed": 2534,
     "status": "aborted",
     "timestamp": 1600085467024,
     "user": {
      "displayName": "indian ai production-editor",
      "photoUrl": "",
      "userId": "05336710603640792650"
     },
     "user_tz": -330
    },
    "id": "UmpW5pUnaqC8"
   },
   "outputs": [],
   "source": []
  },
  {
   "cell_type": "code",
   "execution_count": null,
   "metadata": {
    "colab": {},
    "colab_type": "code",
    "executionInfo": {
     "elapsed": 2529,
     "status": "aborted",
     "timestamp": 1600085467025,
     "user": {
      "displayName": "indian ai production-editor",
      "photoUrl": "",
      "userId": "05336710603640792650"
     },
     "user_tz": -330
    },
    "id": "UWzEZxiGa4q7"
   },
   "outputs": [],
   "source": []
  },
  {
   "cell_type": "code",
   "execution_count": null,
   "metadata": {
    "colab": {},
    "colab_type": "code",
    "executionInfo": {
     "elapsed": 2522,
     "status": "aborted",
     "timestamp": 1600085467026,
     "user": {
      "displayName": "indian ai production-editor",
      "photoUrl": "",
      "userId": "05336710603640792650"
     },
     "user_tz": -330
    },
    "id": "eipyhfz7bHUq"
   },
   "outputs": [],
   "source": []
  },
  {
   "cell_type": "code",
   "execution_count": null,
   "metadata": {
    "colab": {},
    "colab_type": "code",
    "executionInfo": {
     "elapsed": 2518,
     "status": "aborted",
     "timestamp": 1600085467027,
     "user": {
      "displayName": "indian ai production-editor",
      "photoUrl": "",
      "userId": "05336710603640792650"
     },
     "user_tz": -330
    },
    "id": "EuA7AOsmbV9x"
   },
   "outputs": [],
   "source": []
  },
  {
   "cell_type": "code",
   "execution_count": null,
   "metadata": {
    "colab": {},
    "colab_type": "code",
    "executionInfo": {
     "elapsed": 2514,
     "status": "aborted",
     "timestamp": 1600085467029,
     "user": {
      "displayName": "indian ai production-editor",
      "photoUrl": "",
      "userId": "05336710603640792650"
     },
     "user_tz": -330
    },
    "id": "pXxHprdQbkoU"
   },
   "outputs": [],
   "source": []
  },
  {
   "cell_type": "code",
   "execution_count": null,
   "metadata": {
    "colab": {},
    "colab_type": "code",
    "executionInfo": {
     "elapsed": 2511,
     "status": "aborted",
     "timestamp": 1600085467030,
     "user": {
      "displayName": "indian ai production-editor",
      "photoUrl": "",
      "userId": "05336710603640792650"
     },
     "user_tz": -330
    },
    "id": "6RNSOdm5bzRO"
   },
   "outputs": [],
   "source": []
  },
  {
   "cell_type": "code",
   "execution_count": null,
   "metadata": {
    "colab": {},
    "colab_type": "code",
    "executionInfo": {
     "elapsed": 2505,
     "status": "aborted",
     "timestamp": 1600085467031,
     "user": {
      "displayName": "indian ai production-editor",
      "photoUrl": "",
      "userId": "05336710603640792650"
     },
     "user_tz": -330
    },
    "id": "U5Gu2aN6cB6e"
   },
   "outputs": [],
   "source": []
  },
  {
   "cell_type": "code",
   "execution_count": null,
   "metadata": {
    "colab": {},
    "colab_type": "code",
    "executionInfo": {
     "elapsed": 2499,
     "status": "aborted",
     "timestamp": 1600085467032,
     "user": {
      "displayName": "indian ai production-editor",
      "photoUrl": "",
      "userId": "05336710603640792650"
     },
     "user_tz": -330
    },
    "id": "RfYCKkm8cQj-"
   },
   "outputs": [],
   "source": []
  },
  {
   "cell_type": "code",
   "execution_count": null,
   "metadata": {
    "colab": {},
    "colab_type": "code",
    "executionInfo": {
     "elapsed": 2495,
     "status": "aborted",
     "timestamp": 1600085467034,
     "user": {
      "displayName": "indian ai production-editor",
      "photoUrl": "",
      "userId": "05336710603640792650"
     },
     "user_tz": -330
    },
    "id": "2_Wxp8_fcfNy"
   },
   "outputs": [],
   "source": []
  },
  {
   "cell_type": "code",
   "execution_count": null,
   "metadata": {
    "colab": {},
    "colab_type": "code",
    "executionInfo": {
     "elapsed": 2491,
     "status": "aborted",
     "timestamp": 1600085467035,
     "user": {
      "displayName": "indian ai production-editor",
      "photoUrl": "",
      "userId": "05336710603640792650"
     },
     "user_tz": -330
    },
    "id": "4iuaM3_mct2t"
   },
   "outputs": [],
   "source": []
  },
  {
   "cell_type": "code",
   "execution_count": null,
   "metadata": {
    "colab": {},
    "colab_type": "code",
    "executionInfo": {
     "elapsed": 2486,
     "status": "aborted",
     "timestamp": 1600085467036,
     "user": {
      "displayName": "indian ai production-editor",
      "photoUrl": "",
      "userId": "05336710603640792650"
     },
     "user_tz": -330
    },
    "id": "5yjxo7jZc8gv"
   },
   "outputs": [],
   "source": []
  },
  {
   "cell_type": "code",
   "execution_count": null,
   "metadata": {
    "colab": {},
    "colab_type": "code",
    "executionInfo": {
     "elapsed": 2482,
     "status": "aborted",
     "timestamp": 1600085467037,
     "user": {
      "displayName": "indian ai production-editor",
      "photoUrl": "",
      "userId": "05336710603640792650"
     },
     "user_tz": -330
    },
    "id": "K-JlXlvXdLKO"
   },
   "outputs": [],
   "source": []
  },
  {
   "cell_type": "code",
   "execution_count": null,
   "metadata": {
    "colab": {},
    "colab_type": "code",
    "executionInfo": {
     "elapsed": 2480,
     "status": "aborted",
     "timestamp": 1600085467040,
     "user": {
      "displayName": "indian ai production-editor",
      "photoUrl": "",
      "userId": "05336710603640792650"
     },
     "user_tz": -330
    },
    "id": "Q6RgiXzsdZzu"
   },
   "outputs": [],
   "source": []
  },
  {
   "cell_type": "code",
   "execution_count": null,
   "metadata": {
    "colab": {},
    "colab_type": "code",
    "executionInfo": {
     "elapsed": 2476,
     "status": "aborted",
     "timestamp": 1600085467041,
     "user": {
      "displayName": "indian ai production-editor",
      "photoUrl": "",
      "userId": "05336710603640792650"
     },
     "user_tz": -330
    },
    "id": "Cqr7ubLsdoc9"
   },
   "outputs": [],
   "source": []
  },
  {
   "cell_type": "code",
   "execution_count": null,
   "metadata": {
    "colab": {},
    "colab_type": "code",
    "executionInfo": {
     "elapsed": 2472,
     "status": "aborted",
     "timestamp": 1600085467042,
     "user": {
      "displayName": "indian ai production-editor",
      "photoUrl": "",
      "userId": "05336710603640792650"
     },
     "user_tz": -330
    },
    "id": "x9VbPuNKd3HY"
   },
   "outputs": [],
   "source": []
  },
  {
   "cell_type": "code",
   "execution_count": null,
   "metadata": {
    "colab": {},
    "colab_type": "code",
    "executionInfo": {
     "elapsed": 2465,
     "status": "aborted",
     "timestamp": 1600085467043,
     "user": {
      "displayName": "indian ai production-editor",
      "photoUrl": "",
      "userId": "05336710603640792650"
     },
     "user_tz": -330
    },
    "id": "IV_CiHkpeFv-"
   },
   "outputs": [],
   "source": []
  },
  {
   "cell_type": "code",
   "execution_count": null,
   "metadata": {
    "colab": {},
    "colab_type": "code",
    "executionInfo": {
     "elapsed": 2461,
     "status": "aborted",
     "timestamp": 1600085467045,
     "user": {
      "displayName": "indian ai production-editor",
      "photoUrl": "",
      "userId": "05336710603640792650"
     },
     "user_tz": -330
    },
    "id": "i3cf_eyneUaF"
   },
   "outputs": [],
   "source": []
  },
  {
   "cell_type": "code",
   "execution_count": null,
   "metadata": {
    "colab": {},
    "colab_type": "code",
    "executionInfo": {
     "elapsed": 2454,
     "status": "aborted",
     "timestamp": 1600085467046,
     "user": {
      "displayName": "indian ai production-editor",
      "photoUrl": "",
      "userId": "05336710603640792650"
     },
     "user_tz": -330
    },
    "id": "seEHb0tfejFP"
   },
   "outputs": [],
   "source": []
  },
  {
   "cell_type": "code",
   "execution_count": null,
   "metadata": {
    "colab": {},
    "colab_type": "code",
    "executionInfo": {
     "elapsed": 2450,
     "status": "aborted",
     "timestamp": 1600085467048,
     "user": {
      "displayName": "indian ai production-editor",
      "photoUrl": "",
      "userId": "05336710603640792650"
     },
     "user_tz": -330
    },
    "id": "eL9gdrx-exuN"
   },
   "outputs": [],
   "source": []
  },
  {
   "cell_type": "code",
   "execution_count": null,
   "metadata": {
    "colab": {},
    "colab_type": "code",
    "executionInfo": {
     "elapsed": 2445,
     "status": "aborted",
     "timestamp": 1600085467049,
     "user": {
      "displayName": "indian ai production-editor",
      "photoUrl": "",
      "userId": "05336710603640792650"
     },
     "user_tz": -330
    },
    "id": "OaIDJITPfAz_"
   },
   "outputs": [],
   "source": []
  },
  {
   "cell_type": "code",
   "execution_count": null,
   "metadata": {
    "colab": {},
    "colab_type": "code",
    "executionInfo": {
     "elapsed": 2440,
     "status": "aborted",
     "timestamp": 1600085467050,
     "user": {
      "displayName": "indian ai production-editor",
      "photoUrl": "",
      "userId": "05336710603640792650"
     },
     "user_tz": -330
    },
    "id": "QKc9C9TkfO__"
   },
   "outputs": [],
   "source": []
  },
  {
   "cell_type": "code",
   "execution_count": null,
   "metadata": {
    "colab": {},
    "colab_type": "code",
    "executionInfo": {
     "elapsed": 2436,
     "status": "aborted",
     "timestamp": 1600085467052,
     "user": {
      "displayName": "indian ai production-editor",
      "photoUrl": "",
      "userId": "05336710603640792650"
     },
     "user_tz": -330
    },
    "id": "bbkfOXzJfdox"
   },
   "outputs": [],
   "source": []
  },
  {
   "cell_type": "code",
   "execution_count": null,
   "metadata": {
    "colab": {},
    "colab_type": "code",
    "executionInfo": {
     "elapsed": 2433,
     "status": "aborted",
     "timestamp": 1600085467053,
     "user": {
      "displayName": "indian ai production-editor",
      "photoUrl": "",
      "userId": "05336710603640792650"
     },
     "user_tz": -330
    },
    "id": "uZ_9k_cGfsTB"
   },
   "outputs": [],
   "source": []
  },
  {
   "cell_type": "code",
   "execution_count": null,
   "metadata": {
    "colab": {},
    "colab_type": "code",
    "executionInfo": {
     "elapsed": 2427,
     "status": "aborted",
     "timestamp": 1600085467055,
     "user": {
      "displayName": "indian ai production-editor",
      "photoUrl": "",
      "userId": "05336710603640792650"
     },
     "user_tz": -330
    },
    "id": "eOd-oasrf691"
   },
   "outputs": [],
   "source": []
  },
  {
   "cell_type": "code",
   "execution_count": null,
   "metadata": {
    "colab": {},
    "colab_type": "code",
    "executionInfo": {
     "elapsed": 2422,
     "status": "aborted",
     "timestamp": 1600085467057,
     "user": {
      "displayName": "indian ai production-editor",
      "photoUrl": "",
      "userId": "05336710603640792650"
     },
     "user_tz": -330
    },
    "id": "6Cb95bUGgJmT"
   },
   "outputs": [],
   "source": []
  },
  {
   "cell_type": "code",
   "execution_count": null,
   "metadata": {
    "colab": {},
    "colab_type": "code",
    "executionInfo": {
     "elapsed": 2419,
     "status": "aborted",
     "timestamp": 1600085467061,
     "user": {
      "displayName": "indian ai production-editor",
      "photoUrl": "",
      "userId": "05336710603640792650"
     },
     "user_tz": -330
    },
    "id": "s7elRCpJgYO5"
   },
   "outputs": [],
   "source": []
  },
  {
   "cell_type": "code",
   "execution_count": null,
   "metadata": {
    "colab": {},
    "colab_type": "code",
    "executionInfo": {
     "elapsed": 2415,
     "status": "aborted",
     "timestamp": 1600085467064,
     "user": {
      "displayName": "indian ai production-editor",
      "photoUrl": "",
      "userId": "05336710603640792650"
     },
     "user_tz": -330
    },
    "id": "fon7gClmgm40"
   },
   "outputs": [],
   "source": []
  },
  {
   "cell_type": "code",
   "execution_count": null,
   "metadata": {
    "colab": {},
    "colab_type": "code",
    "executionInfo": {
     "elapsed": 2412,
     "status": "aborted",
     "timestamp": 1600085467065,
     "user": {
      "displayName": "indian ai production-editor",
      "photoUrl": "",
      "userId": "05336710603640792650"
     },
     "user_tz": -330
    },
    "id": "DOFsQNnkg1my"
   },
   "outputs": [],
   "source": []
  },
  {
   "cell_type": "code",
   "execution_count": null,
   "metadata": {
    "colab": {},
    "colab_type": "code",
    "executionInfo": {
     "elapsed": 2408,
     "status": "aborted",
     "timestamp": 1600085467067,
     "user": {
      "displayName": "indian ai production-editor",
      "photoUrl": "",
      "userId": "05336710603640792650"
     },
     "user_tz": -330
    },
    "id": "J33WtyvGhEL5"
   },
   "outputs": [],
   "source": []
  },
  {
   "cell_type": "code",
   "execution_count": null,
   "metadata": {
    "colab": {},
    "colab_type": "code",
    "executionInfo": {
     "elapsed": 2405,
     "status": "aborted",
     "timestamp": 1600085467069,
     "user": {
      "displayName": "indian ai production-editor",
      "photoUrl": "",
      "userId": "05336710603640792650"
     },
     "user_tz": -330
    },
    "id": "iePzrTWHhS1y"
   },
   "outputs": [],
   "source": []
  },
  {
   "cell_type": "code",
   "execution_count": null,
   "metadata": {
    "colab": {},
    "colab_type": "code",
    "executionInfo": {
     "elapsed": 2402,
     "status": "aborted",
     "timestamp": 1600085467071,
     "user": {
      "displayName": "indian ai production-editor",
      "photoUrl": "",
      "userId": "05336710603640792650"
     },
     "user_tz": -330
    },
    "id": "_jsfQnjGhhf4"
   },
   "outputs": [],
   "source": []
  },
  {
   "cell_type": "code",
   "execution_count": null,
   "metadata": {
    "colab": {},
    "colab_type": "code",
    "executionInfo": {
     "elapsed": 2398,
     "status": "aborted",
     "timestamp": 1600085467073,
     "user": {
      "displayName": "indian ai production-editor",
      "photoUrl": "",
      "userId": "05336710603640792650"
     },
     "user_tz": -330
    },
    "id": "JDkpDojehwIy"
   },
   "outputs": [],
   "source": []
  },
  {
   "cell_type": "code",
   "execution_count": null,
   "metadata": {
    "colab": {},
    "colab_type": "code",
    "executionInfo": {
     "elapsed": 2394,
     "status": "aborted",
     "timestamp": 1600085467074,
     "user": {
      "displayName": "indian ai production-editor",
      "photoUrl": "",
      "userId": "05336710603640792650"
     },
     "user_tz": -330
    },
    "id": "ZhqvH6koh-y7"
   },
   "outputs": [],
   "source": []
  },
  {
   "cell_type": "code",
   "execution_count": null,
   "metadata": {
    "colab": {},
    "colab_type": "code",
    "executionInfo": {
     "elapsed": 2390,
     "status": "aborted",
     "timestamp": 1600085467076,
     "user": {
      "displayName": "indian ai production-editor",
      "photoUrl": "",
      "userId": "05336710603640792650"
     },
     "user_tz": -330
    },
    "id": "gAhWptThiNct"
   },
   "outputs": [],
   "source": []
  },
  {
   "cell_type": "code",
   "execution_count": null,
   "metadata": {
    "colab": {},
    "colab_type": "code",
    "executionInfo": {
     "elapsed": 2385,
     "status": "aborted",
     "timestamp": 1600085467078,
     "user": {
      "displayName": "indian ai production-editor",
      "photoUrl": "",
      "userId": "05336710603640792650"
     },
     "user_tz": -330
    },
    "id": "DO1Iu_wBicE5"
   },
   "outputs": [],
   "source": []
  },
  {
   "cell_type": "code",
   "execution_count": null,
   "metadata": {
    "colab": {},
    "colab_type": "code",
    "executionInfo": {
     "elapsed": 2383,
     "status": "aborted",
     "timestamp": 1600085467080,
     "user": {
      "displayName": "indian ai production-editor",
      "photoUrl": "",
      "userId": "05336710603640792650"
     },
     "user_tz": -330
    },
    "id": "kYosJJNIiqwG"
   },
   "outputs": [],
   "source": []
  },
  {
   "cell_type": "code",
   "execution_count": null,
   "metadata": {
    "colab": {},
    "colab_type": "code",
    "executionInfo": {
     "elapsed": 2377,
     "status": "aborted",
     "timestamp": 1600085467081,
     "user": {
      "displayName": "indian ai production-editor",
      "photoUrl": "",
      "userId": "05336710603640792650"
     },
     "user_tz": -330
    },
    "id": "5oM-5eyji5Yf"
   },
   "outputs": [],
   "source": []
  },
  {
   "cell_type": "code",
   "execution_count": null,
   "metadata": {
    "colab": {},
    "colab_type": "code",
    "executionInfo": {
     "elapsed": 2371,
     "status": "aborted",
     "timestamp": 1600085467083,
     "user": {
      "displayName": "indian ai production-editor",
      "photoUrl": "",
      "userId": "05336710603640792650"
     },
     "user_tz": -330
    },
    "id": "CO3SXI2fjIBY"
   },
   "outputs": [],
   "source": []
  },
  {
   "cell_type": "code",
   "execution_count": null,
   "metadata": {
    "colab": {},
    "colab_type": "code",
    "executionInfo": {
     "elapsed": 2370,
     "status": "aborted",
     "timestamp": 1600085467087,
     "user": {
      "displayName": "indian ai production-editor",
      "photoUrl": "",
      "userId": "05336710603640792650"
     },
     "user_tz": -330
    },
    "id": "sZU9q81YjWqt"
   },
   "outputs": [],
   "source": []
  },
  {
   "cell_type": "code",
   "execution_count": null,
   "metadata": {
    "colab": {},
    "colab_type": "code",
    "executionInfo": {
     "elapsed": 2364,
     "status": "aborted",
     "timestamp": 1600085467091,
     "user": {
      "displayName": "indian ai production-editor",
      "photoUrl": "",
      "userId": "05336710603640792650"
     },
     "user_tz": -330
    },
    "id": "tUPLUmNkjlT_"
   },
   "outputs": [],
   "source": []
  },
  {
   "cell_type": "code",
   "execution_count": null,
   "metadata": {
    "colab": {},
    "colab_type": "code",
    "executionInfo": {
     "elapsed": 2357,
     "status": "aborted",
     "timestamp": 1600085467093,
     "user": {
      "displayName": "indian ai production-editor",
      "photoUrl": "",
      "userId": "05336710603640792650"
     },
     "user_tz": -330
    },
    "id": "R0BKE_hBjz_R"
   },
   "outputs": [],
   "source": []
  },
  {
   "cell_type": "code",
   "execution_count": null,
   "metadata": {
    "colab": {},
    "colab_type": "code",
    "executionInfo": {
     "elapsed": 2357,
     "status": "aborted",
     "timestamp": 1600085467102,
     "user": {
      "displayName": "indian ai production-editor",
      "photoUrl": "",
      "userId": "05336710603640792650"
     },
     "user_tz": -330
    },
    "id": "kEJM-fVpkCnl"
   },
   "outputs": [],
   "source": []
  },
  {
   "cell_type": "code",
   "execution_count": null,
   "metadata": {
    "colab": {},
    "colab_type": "code",
    "executionInfo": {
     "elapsed": 2352,
     "status": "aborted",
     "timestamp": 1600085467104,
     "user": {
      "displayName": "indian ai production-editor",
      "photoUrl": "",
      "userId": "05336710603640792650"
     },
     "user_tz": -330
    },
    "id": "lX_NhzGBkRRE"
   },
   "outputs": [],
   "source": []
  },
  {
   "cell_type": "code",
   "execution_count": null,
   "metadata": {
    "colab": {},
    "colab_type": "code",
    "executionInfo": {
     "elapsed": 2346,
     "status": "aborted",
     "timestamp": 1600085467106,
     "user": {
      "displayName": "indian ai production-editor",
      "photoUrl": "",
      "userId": "05336710603640792650"
     },
     "user_tz": -330
    },
    "id": "TWGp7bEYkf7K"
   },
   "outputs": [],
   "source": []
  },
  {
   "cell_type": "code",
   "execution_count": null,
   "metadata": {
    "colab": {},
    "colab_type": "code",
    "executionInfo": {
     "elapsed": 2339,
     "status": "aborted",
     "timestamp": 1600085467107,
     "user": {
      "displayName": "indian ai production-editor",
      "photoUrl": "",
      "userId": "05336710603640792650"
     },
     "user_tz": -330
    },
    "id": "76bv490skukq"
   },
   "outputs": [],
   "source": []
  },
  {
   "cell_type": "code",
   "execution_count": null,
   "metadata": {
    "colab": {},
    "colab_type": "code",
    "executionInfo": {
     "elapsed": 2333,
     "status": "aborted",
     "timestamp": 1600085467109,
     "user": {
      "displayName": "indian ai production-editor",
      "photoUrl": "",
      "userId": "05336710603640792650"
     },
     "user_tz": -330
    },
    "id": "63IdtTt2k9N5"
   },
   "outputs": [],
   "source": []
  },
  {
   "cell_type": "code",
   "execution_count": null,
   "metadata": {
    "colab": {},
    "colab_type": "code",
    "executionInfo": {
     "elapsed": 2325,
     "status": "aborted",
     "timestamp": 1600085467110,
     "user": {
      "displayName": "indian ai production-editor",
      "photoUrl": "",
      "userId": "05336710603640792650"
     },
     "user_tz": -330
    },
    "id": "IeOaTdh_lL3s"
   },
   "outputs": [],
   "source": []
  },
  {
   "cell_type": "code",
   "execution_count": null,
   "metadata": {
    "colab": {},
    "colab_type": "code",
    "executionInfo": {
     "elapsed": 2316,
     "status": "aborted",
     "timestamp": 1600085467112,
     "user": {
      "displayName": "indian ai production-editor",
      "photoUrl": "",
      "userId": "05336710603640792650"
     },
     "user_tz": -330
    },
    "id": "AN5ZsViglah6"
   },
   "outputs": [],
   "source": []
  },
  {
   "cell_type": "code",
   "execution_count": null,
   "metadata": {
    "colab": {},
    "colab_type": "code",
    "executionInfo": {
     "elapsed": 2312,
     "status": "aborted",
     "timestamp": 1600085467114,
     "user": {
      "displayName": "indian ai production-editor",
      "photoUrl": "",
      "userId": "05336710603640792650"
     },
     "user_tz": -330
    },
    "id": "A28CZOxRlpKd"
   },
   "outputs": [],
   "source": []
  },
  {
   "cell_type": "code",
   "execution_count": null,
   "metadata": {
    "colab": {},
    "colab_type": "code",
    "executionInfo": {
     "elapsed": 2312,
     "status": "aborted",
     "timestamp": 1600085467120,
     "user": {
      "displayName": "indian ai production-editor",
      "photoUrl": "",
      "userId": "05336710603640792650"
     },
     "user_tz": -330
    },
    "id": "sFb5a03cl30X"
   },
   "outputs": [],
   "source": []
  },
  {
   "cell_type": "code",
   "execution_count": null,
   "metadata": {
    "colab": {},
    "colab_type": "code",
    "executionInfo": {
     "elapsed": 2309,
     "status": "aborted",
     "timestamp": 1600085467123,
     "user": {
      "displayName": "indian ai production-editor",
      "photoUrl": "",
      "userId": "05336710603640792650"
     },
     "user_tz": -330
    },
    "id": "FIR-TqTemGeY"
   },
   "outputs": [],
   "source": []
  },
  {
   "cell_type": "code",
   "execution_count": null,
   "metadata": {
    "colab": {},
    "colab_type": "code",
    "executionInfo": {
     "elapsed": 2307,
     "status": "aborted",
     "timestamp": 1600085467125,
     "user": {
      "displayName": "indian ai production-editor",
      "photoUrl": "",
      "userId": "05336710603640792650"
     },
     "user_tz": -330
    },
    "id": "bQ3aI5QLmVLx"
   },
   "outputs": [],
   "source": []
  },
  {
   "cell_type": "code",
   "execution_count": null,
   "metadata": {
    "colab": {},
    "colab_type": "code",
    "executionInfo": {
     "elapsed": 2302,
     "status": "aborted",
     "timestamp": 1600085467126,
     "user": {
      "displayName": "indian ai production-editor",
      "photoUrl": "",
      "userId": "05336710603640792650"
     },
     "user_tz": -330
    },
    "id": "jAYuMKMdmjwO"
   },
   "outputs": [],
   "source": []
  },
  {
   "cell_type": "code",
   "execution_count": null,
   "metadata": {
    "colab": {},
    "colab_type": "code",
    "executionInfo": {
     "elapsed": 2300,
     "status": "aborted",
     "timestamp": 1600085467129,
     "user": {
      "displayName": "indian ai production-editor",
      "photoUrl": "",
      "userId": "05336710603640792650"
     },
     "user_tz": -330
    },
    "id": "3VXsLztamyZc"
   },
   "outputs": [],
   "source": []
  },
  {
   "cell_type": "code",
   "execution_count": null,
   "metadata": {
    "colab": {},
    "colab_type": "code",
    "executionInfo": {
     "elapsed": 2296,
     "status": "aborted",
     "timestamp": 1600085467131,
     "user": {
      "displayName": "indian ai production-editor",
      "photoUrl": "",
      "userId": "05336710603640792650"
     },
     "user_tz": -330
    },
    "id": "UHH-aAq4nBDl"
   },
   "outputs": [],
   "source": []
  },
  {
   "cell_type": "code",
   "execution_count": null,
   "metadata": {
    "colab": {},
    "colab_type": "code",
    "executionInfo": {
     "elapsed": 2290,
     "status": "aborted",
     "timestamp": 1600085467133,
     "user": {
      "displayName": "indian ai production-editor",
      "photoUrl": "",
      "userId": "05336710603640792650"
     },
     "user_tz": -330
    },
    "id": "RNK0g1LCnPs9"
   },
   "outputs": [],
   "source": []
  },
  {
   "cell_type": "code",
   "execution_count": null,
   "metadata": {
    "colab": {},
    "colab_type": "code",
    "executionInfo": {
     "elapsed": 2285,
     "status": "aborted",
     "timestamp": 1600085467134,
     "user": {
      "displayName": "indian ai production-editor",
      "photoUrl": "",
      "userId": "05336710603640792650"
     },
     "user_tz": -330
    },
    "id": "iH65D8HlneW6"
   },
   "outputs": [],
   "source": []
  },
  {
   "cell_type": "code",
   "execution_count": null,
   "metadata": {
    "colab": {},
    "colab_type": "code",
    "executionInfo": {
     "elapsed": 2282,
     "status": "aborted",
     "timestamp": 1600085467135,
     "user": {
      "displayName": "indian ai production-editor",
      "photoUrl": "",
      "userId": "05336710603640792650"
     },
     "user_tz": -330
    },
    "id": "pcwRLHyons_8"
   },
   "outputs": [],
   "source": []
  },
  {
   "cell_type": "code",
   "execution_count": null,
   "metadata": {
    "colab": {},
    "colab_type": "code",
    "executionInfo": {
     "elapsed": 2276,
     "status": "aborted",
     "timestamp": 1600085467137,
     "user": {
      "displayName": "indian ai production-editor",
      "photoUrl": "",
      "userId": "05336710603640792650"
     },
     "user_tz": -330
    },
    "id": "m8CGk1wIn7pF"
   },
   "outputs": [],
   "source": []
  },
  {
   "cell_type": "code",
   "execution_count": null,
   "metadata": {
    "colab": {},
    "colab_type": "code",
    "executionInfo": {
     "elapsed": 2225,
     "status": "aborted",
     "timestamp": 1600085467139,
     "user": {
      "displayName": "indian ai production-editor",
      "photoUrl": "",
      "userId": "05336710603640792650"
     },
     "user_tz": -330
    },
    "id": "Aklm_ixxoKTD"
   },
   "outputs": [],
   "source": []
  },
  {
   "cell_type": "code",
   "execution_count": null,
   "metadata": {
    "colab": {},
    "colab_type": "code",
    "executionInfo": {
     "elapsed": 2193,
     "status": "aborted",
     "timestamp": 1600085467140,
     "user": {
      "displayName": "indian ai production-editor",
      "photoUrl": "",
      "userId": "05336710603640792650"
     },
     "user_tz": -330
    },
    "id": "Lbw4UVIGoY9H"
   },
   "outputs": [],
   "source": []
  },
  {
   "cell_type": "code",
   "execution_count": null,
   "metadata": {
    "colab": {},
    "colab_type": "code",
    "executionInfo": {
     "elapsed": 2182,
     "status": "aborted",
     "timestamp": 1600085467142,
     "user": {
      "displayName": "indian ai production-editor",
      "photoUrl": "",
      "userId": "05336710603640792650"
     },
     "user_tz": -330
    },
    "id": "YKN34BPxonlk"
   },
   "outputs": [],
   "source": []
  },
  {
   "cell_type": "code",
   "execution_count": null,
   "metadata": {
    "colab": {},
    "colab_type": "code",
    "executionInfo": {
     "elapsed": 2173,
     "status": "aborted",
     "timestamp": 1600085467143,
     "user": {
      "displayName": "indian ai production-editor",
      "photoUrl": "",
      "userId": "05336710603640792650"
     },
     "user_tz": -330
    },
    "id": "ky-DRou6o2Pc"
   },
   "outputs": [],
   "source": []
  },
  {
   "cell_type": "code",
   "execution_count": null,
   "metadata": {
    "colab": {},
    "colab_type": "code",
    "executionInfo": {
     "elapsed": 2153,
     "status": "aborted",
     "timestamp": 1600085467144,
     "user": {
      "displayName": "indian ai production-editor",
      "photoUrl": "",
      "userId": "05336710603640792650"
     },
     "user_tz": -330
    },
    "id": "6_OZPV_rpE5o"
   },
   "outputs": [],
   "source": []
  },
  {
   "cell_type": "code",
   "execution_count": null,
   "metadata": {
    "colab": {},
    "colab_type": "code",
    "executionInfo": {
     "elapsed": 2140,
     "status": "aborted",
     "timestamp": 1600085467146,
     "user": {
      "displayName": "indian ai production-editor",
      "photoUrl": "",
      "userId": "05336710603640792650"
     },
     "user_tz": -330
    },
    "id": "BeRLhszLpTpi"
   },
   "outputs": [],
   "source": []
  },
  {
   "cell_type": "code",
   "execution_count": null,
   "metadata": {
    "colab": {},
    "colab_type": "code",
    "executionInfo": {
     "elapsed": 2116,
     "status": "aborted",
     "timestamp": 1600085467147,
     "user": {
      "displayName": "indian ai production-editor",
      "photoUrl": "",
      "userId": "05336710603640792650"
     },
     "user_tz": -330
    },
    "id": "bwVldDfRpiL6"
   },
   "outputs": [],
   "source": []
  },
  {
   "cell_type": "code",
   "execution_count": null,
   "metadata": {
    "colab": {},
    "colab_type": "code",
    "executionInfo": {
     "elapsed": 2104,
     "status": "aborted",
     "timestamp": 1600085467148,
     "user": {
      "displayName": "indian ai production-editor",
      "photoUrl": "",
      "userId": "05336710603640792650"
     },
     "user_tz": -330
    },
    "id": "YKpko5tfpw1_"
   },
   "outputs": [],
   "source": []
  },
  {
   "cell_type": "code",
   "execution_count": null,
   "metadata": {
    "colab": {},
    "colab_type": "code",
    "executionInfo": {
     "elapsed": 2092,
     "status": "aborted",
     "timestamp": 1600085467149,
     "user": {
      "displayName": "indian ai production-editor",
      "photoUrl": "",
      "userId": "05336710603640792650"
     },
     "user_tz": -330
    },
    "id": "dSlXuAovp_n7"
   },
   "outputs": [],
   "source": []
  },
  {
   "cell_type": "code",
   "execution_count": null,
   "metadata": {
    "colab": {},
    "colab_type": "code",
    "executionInfo": {
     "elapsed": 2085,
     "status": "aborted",
     "timestamp": 1600085467151,
     "user": {
      "displayName": "indian ai production-editor",
      "photoUrl": "",
      "userId": "05336710603640792650"
     },
     "user_tz": -330
    },
    "id": "aHZ54W-oqOJ_"
   },
   "outputs": [],
   "source": []
  },
  {
   "cell_type": "code",
   "execution_count": null,
   "metadata": {
    "colab": {},
    "colab_type": "code",
    "executionInfo": {
     "elapsed": 2076,
     "status": "aborted",
     "timestamp": 1600085467153,
     "user": {
      "displayName": "indian ai production-editor",
      "photoUrl": "",
      "userId": "05336710603640792650"
     },
     "user_tz": -330
    },
    "id": "7OOdIfX-qcyj"
   },
   "outputs": [],
   "source": []
  },
  {
   "cell_type": "code",
   "execution_count": null,
   "metadata": {
    "colab": {},
    "colab_type": "code",
    "executionInfo": {
     "elapsed": 2064,
     "status": "aborted",
     "timestamp": 1600085467155,
     "user": {
      "displayName": "indian ai production-editor",
      "photoUrl": "",
      "userId": "05336710603640792650"
     },
     "user_tz": -330
    },
    "id": "j_gwRfSuqrcO"
   },
   "outputs": [],
   "source": []
  },
  {
   "cell_type": "code",
   "execution_count": null,
   "metadata": {
    "colab": {},
    "colab_type": "code",
    "executionInfo": {
     "elapsed": 2023,
     "status": "aborted",
     "timestamp": 1600085467156,
     "user": {
      "displayName": "indian ai production-editor",
      "photoUrl": "",
      "userId": "05336710603640792650"
     },
     "user_tz": -330
    },
    "id": "o3rJQmKPq6Em"
   },
   "outputs": [],
   "source": []
  },
  {
   "cell_type": "code",
   "execution_count": null,
   "metadata": {
    "colab": {},
    "colab_type": "code",
    "executionInfo": {
     "elapsed": 2013,
     "status": "aborted",
     "timestamp": 1600085467157,
     "user": {
      "displayName": "indian ai production-editor",
      "photoUrl": "",
      "userId": "05336710603640792650"
     },
     "user_tz": -330
    },
    "id": "-x6P66skrIu4"
   },
   "outputs": [],
   "source": []
  },
  {
   "cell_type": "code",
   "execution_count": null,
   "metadata": {
    "colab": {},
    "colab_type": "code",
    "executionInfo": {
     "elapsed": 2007,
     "status": "aborted",
     "timestamp": 1600085467161,
     "user": {
      "displayName": "indian ai production-editor",
      "photoUrl": "",
      "userId": "05336710603640792650"
     },
     "user_tz": -330
    },
    "id": "ISwpw9j7rXZD"
   },
   "outputs": [],
   "source": []
  },
  {
   "cell_type": "code",
   "execution_count": null,
   "metadata": {
    "colab": {},
    "colab_type": "code",
    "executionInfo": {
     "elapsed": 1997,
     "status": "aborted",
     "timestamp": 1600085467164,
     "user": {
      "displayName": "indian ai production-editor",
      "photoUrl": "",
      "userId": "05336710603640792650"
     },
     "user_tz": -330
    },
    "id": "K9LSX0mGrmBu"
   },
   "outputs": [],
   "source": []
  },
  {
   "cell_type": "code",
   "execution_count": null,
   "metadata": {
    "colab": {},
    "colab_type": "code",
    "executionInfo": {
     "elapsed": 1984,
     "status": "aborted",
     "timestamp": 1600085467166,
     "user": {
      "displayName": "indian ai production-editor",
      "photoUrl": "",
      "userId": "05336710603640792650"
     },
     "user_tz": -330
    },
    "id": "nGS29WY_r0r8"
   },
   "outputs": [],
   "source": []
  },
  {
   "cell_type": "code",
   "execution_count": null,
   "metadata": {
    "colab": {},
    "colab_type": "code",
    "executionInfo": {
     "elapsed": 1976,
     "status": "aborted",
     "timestamp": 1600085467167,
     "user": {
      "displayName": "indian ai production-editor",
      "photoUrl": "",
      "userId": "05336710603640792650"
     },
     "user_tz": -330
    },
    "id": "iZQ3K5NdsDV2"
   },
   "outputs": [],
   "source": []
  },
  {
   "cell_type": "code",
   "execution_count": null,
   "metadata": {
    "colab": {},
    "colab_type": "code",
    "executionInfo": {
     "elapsed": 1967,
     "status": "aborted",
     "timestamp": 1600085467169,
     "user": {
      "displayName": "indian ai production-editor",
      "photoUrl": "",
      "userId": "05336710603640792650"
     },
     "user_tz": -330
    },
    "id": "OTppi2MHsR-9"
   },
   "outputs": [],
   "source": []
  },
  {
   "cell_type": "code",
   "execution_count": null,
   "metadata": {
    "colab": {},
    "colab_type": "code",
    "executionInfo": {
     "elapsed": 1951,
     "status": "aborted",
     "timestamp": 1600085467170,
     "user": {
      "displayName": "indian ai production-editor",
      "photoUrl": "",
      "userId": "05336710603640792650"
     },
     "user_tz": -330
    },
    "id": "T_hWxWlhsgpn"
   },
   "outputs": [],
   "source": []
  },
  {
   "cell_type": "code",
   "execution_count": null,
   "metadata": {
    "colab": {},
    "colab_type": "code",
    "executionInfo": {
     "elapsed": 1945,
     "status": "aborted",
     "timestamp": 1600085467174,
     "user": {
      "displayName": "indian ai production-editor",
      "photoUrl": "",
      "userId": "05336710603640792650"
     },
     "user_tz": -330
    },
    "id": "NR1ZgYDEsvSI"
   },
   "outputs": [],
   "source": []
  },
  {
   "cell_type": "code",
   "execution_count": null,
   "metadata": {
    "colab": {},
    "colab_type": "code",
    "executionInfo": {
     "elapsed": 1934,
     "status": "aborted",
     "timestamp": 1600085467175,
     "user": {
      "displayName": "indian ai production-editor",
      "photoUrl": "",
      "userId": "05336710603640792650"
     },
     "user_tz": -330
    },
    "id": "5mj0Q0SIs975"
   },
   "outputs": [],
   "source": []
  },
  {
   "cell_type": "code",
   "execution_count": null,
   "metadata": {
    "colab": {},
    "colab_type": "code",
    "executionInfo": {
     "elapsed": 1925,
     "status": "aborted",
     "timestamp": 1600085467177,
     "user": {
      "displayName": "indian ai production-editor",
      "photoUrl": "",
      "userId": "05336710603640792650"
     },
     "user_tz": -330
    },
    "id": "BulDzEA5tMn_"
   },
   "outputs": [],
   "source": []
  },
  {
   "cell_type": "code",
   "execution_count": null,
   "metadata": {
    "colab": {},
    "colab_type": "code",
    "executionInfo": {
     "elapsed": 1916,
     "status": "aborted",
     "timestamp": 1600085467179,
     "user": {
      "displayName": "indian ai production-editor",
      "photoUrl": "",
      "userId": "05336710603640792650"
     },
     "user_tz": -330
    },
    "id": "EYN4rNYAtbOS"
   },
   "outputs": [],
   "source": []
  },
  {
   "cell_type": "code",
   "execution_count": null,
   "metadata": {
    "colab": {},
    "colab_type": "code",
    "executionInfo": {
     "elapsed": 1901,
     "status": "aborted",
     "timestamp": 1600085467180,
     "user": {
      "displayName": "indian ai production-editor",
      "photoUrl": "",
      "userId": "05336710603640792650"
     },
     "user_tz": -330
    },
    "id": "vbsKQgi7tp34"
   },
   "outputs": [],
   "source": []
  },
  {
   "cell_type": "code",
   "execution_count": null,
   "metadata": {
    "colab": {},
    "colab_type": "code",
    "executionInfo": {
     "elapsed": 1882,
     "status": "aborted",
     "timestamp": 1600085467181,
     "user": {
      "displayName": "indian ai production-editor",
      "photoUrl": "",
      "userId": "05336710603640792650"
     },
     "user_tz": -330
    },
    "id": "HZMXJgFct4he"
   },
   "outputs": [],
   "source": []
  },
  {
   "cell_type": "code",
   "execution_count": null,
   "metadata": {
    "colab": {},
    "colab_type": "code",
    "executionInfo": {
     "elapsed": 1870,
     "status": "aborted",
     "timestamp": 1600085467182,
     "user": {
      "displayName": "indian ai production-editor",
      "photoUrl": "",
      "userId": "05336710603640792650"
     },
     "user_tz": -330
    },
    "id": "bQ97J1N-uHKZ"
   },
   "outputs": [],
   "source": []
  },
  {
   "cell_type": "code",
   "execution_count": null,
   "metadata": {
    "colab": {},
    "colab_type": "code",
    "executionInfo": {
     "elapsed": 1855,
     "status": "aborted",
     "timestamp": 1600085467183,
     "user": {
      "displayName": "indian ai production-editor",
      "photoUrl": "",
      "userId": "05336710603640792650"
     },
     "user_tz": -330
    },
    "id": "_YUvVwJquVzd"
   },
   "outputs": [],
   "source": []
  },
  {
   "cell_type": "code",
   "execution_count": null,
   "metadata": {
    "colab": {},
    "colab_type": "code",
    "executionInfo": {
     "elapsed": 1827,
     "status": "aborted",
     "timestamp": 1600085467184,
     "user": {
      "displayName": "indian ai production-editor",
      "photoUrl": "",
      "userId": "05336710603640792650"
     },
     "user_tz": -330
    },
    "id": "5WJm8XpjukeO"
   },
   "outputs": [],
   "source": []
  },
  {
   "cell_type": "code",
   "execution_count": null,
   "metadata": {
    "colab": {},
    "colab_type": "code",
    "executionInfo": {
     "elapsed": 1819,
     "status": "aborted",
     "timestamp": 1600085467185,
     "user": {
      "displayName": "indian ai production-editor",
      "photoUrl": "",
      "userId": "05336710603640792650"
     },
     "user_tz": -330
    },
    "id": "bZZA50M_uzHR"
   },
   "outputs": [],
   "source": []
  },
  {
   "cell_type": "code",
   "execution_count": null,
   "metadata": {
    "colab": {},
    "colab_type": "code",
    "executionInfo": {
     "elapsed": 1809,
     "status": "aborted",
     "timestamp": 1600085467186,
     "user": {
      "displayName": "indian ai production-editor",
      "photoUrl": "",
      "userId": "05336710603640792650"
     },
     "user_tz": -330
    },
    "id": "tWCNTZgnvByY"
   },
   "outputs": [],
   "source": []
  },
  {
   "cell_type": "code",
   "execution_count": null,
   "metadata": {
    "colab": {},
    "colab_type": "code",
    "executionInfo": {
     "elapsed": 1798,
     "status": "aborted",
     "timestamp": 1600085467187,
     "user": {
      "displayName": "indian ai production-editor",
      "photoUrl": "",
      "userId": "05336710603640792650"
     },
     "user_tz": -330
    },
    "id": "rRZHKE0evQaH"
   },
   "outputs": [],
   "source": []
  },
  {
   "cell_type": "code",
   "execution_count": null,
   "metadata": {
    "colab": {},
    "colab_type": "code",
    "executionInfo": {
     "elapsed": 1790,
     "status": "aborted",
     "timestamp": 1600085467190,
     "user": {
      "displayName": "indian ai production-editor",
      "photoUrl": "",
      "userId": "05336710603640792650"
     },
     "user_tz": -330
    },
    "id": "1WYL423nvfEQ"
   },
   "outputs": [],
   "source": []
  },
  {
   "cell_type": "code",
   "execution_count": null,
   "metadata": {
    "colab": {},
    "colab_type": "code",
    "executionInfo": {
     "elapsed": 1781,
     "status": "aborted",
     "timestamp": 1600085467191,
     "user": {
      "displayName": "indian ai production-editor",
      "photoUrl": "",
      "userId": "05336710603640792650"
     },
     "user_tz": -330
    },
    "id": "P2P7hSfvvtu8"
   },
   "outputs": [],
   "source": []
  },
  {
   "cell_type": "code",
   "execution_count": null,
   "metadata": {
    "colab": {},
    "colab_type": "code",
    "executionInfo": {
     "elapsed": 1775,
     "status": "aborted",
     "timestamp": 1600085467193,
     "user": {
      "displayName": "indian ai production-editor",
      "photoUrl": "",
      "userId": "05336710603640792650"
     },
     "user_tz": -330
    },
    "id": "1KwrigKmv8W3"
   },
   "outputs": [],
   "source": []
  },
  {
   "cell_type": "code",
   "execution_count": null,
   "metadata": {
    "colab": {},
    "colab_type": "code",
    "executionInfo": {
     "elapsed": 1751,
     "status": "aborted",
     "timestamp": 1600085467194,
     "user": {
      "displayName": "indian ai production-editor",
      "photoUrl": "",
      "userId": "05336710603640792650"
     },
     "user_tz": -330
    },
    "id": "lJ1kB_5bwK_-"
   },
   "outputs": [],
   "source": []
  },
  {
   "cell_type": "code",
   "execution_count": null,
   "metadata": {
    "colab": {},
    "colab_type": "code",
    "executionInfo": {
     "elapsed": 1743,
     "status": "aborted",
     "timestamp": 1600085467195,
     "user": {
      "displayName": "indian ai production-editor",
      "photoUrl": "",
      "userId": "05336710603640792650"
     },
     "user_tz": -330
    },
    "id": "3kkBl-YmwZq3"
   },
   "outputs": [],
   "source": []
  },
  {
   "cell_type": "code",
   "execution_count": null,
   "metadata": {
    "colab": {},
    "colab_type": "code",
    "executionInfo": {
     "elapsed": 1734,
     "status": "aborted",
     "timestamp": 1600085467197,
     "user": {
      "displayName": "indian ai production-editor",
      "photoUrl": "",
      "userId": "05336710603640792650"
     },
     "user_tz": -330
    },
    "id": "pD9s65kHwoUt"
   },
   "outputs": [],
   "source": []
  },
  {
   "cell_type": "code",
   "execution_count": null,
   "metadata": {
    "colab": {},
    "colab_type": "code",
    "executionInfo": {
     "elapsed": 1717,
     "status": "aborted",
     "timestamp": 1600085467198,
     "user": {
      "displayName": "indian ai production-editor",
      "photoUrl": "",
      "userId": "05336710603640792650"
     },
     "user_tz": -330
    },
    "id": "D0ORVO72w28D"
   },
   "outputs": [],
   "source": []
  },
  {
   "cell_type": "code",
   "execution_count": null,
   "metadata": {
    "colab": {},
    "colab_type": "code",
    "executionInfo": {
     "elapsed": 1707,
     "status": "aborted",
     "timestamp": 1600085467199,
     "user": {
      "displayName": "indian ai production-editor",
      "photoUrl": "",
      "userId": "05336710603640792650"
     },
     "user_tz": -330
    },
    "id": "_iWD8qgXxFoE"
   },
   "outputs": [],
   "source": []
  },
  {
   "cell_type": "code",
   "execution_count": null,
   "metadata": {
    "colab": {},
    "colab_type": "code",
    "executionInfo": {
     "elapsed": 1692,
     "status": "aborted",
     "timestamp": 1600085467200,
     "user": {
      "displayName": "indian ai production-editor",
      "photoUrl": "",
      "userId": "05336710603640792650"
     },
     "user_tz": -330
    },
    "id": "C92ZfXHXxURe"
   },
   "outputs": [],
   "source": []
  },
  {
   "cell_type": "code",
   "execution_count": null,
   "metadata": {
    "colab": {},
    "colab_type": "code",
    "executionInfo": {
     "elapsed": 1684,
     "status": "aborted",
     "timestamp": 1600085467200,
     "user": {
      "displayName": "indian ai production-editor",
      "photoUrl": "",
      "userId": "05336710603640792650"
     },
     "user_tz": -330
    },
    "id": "fLggVNvgxi5q"
   },
   "outputs": [],
   "source": []
  },
  {
   "cell_type": "code",
   "execution_count": null,
   "metadata": {
    "colab": {},
    "colab_type": "code",
    "executionInfo": {
     "elapsed": 1670,
     "status": "aborted",
     "timestamp": 1600085467202,
     "user": {
      "displayName": "indian ai production-editor",
      "photoUrl": "",
      "userId": "05336710603640792650"
     },
     "user_tz": -330
    },
    "id": "0_b9k-hdxxj5"
   },
   "outputs": [],
   "source": []
  },
  {
   "cell_type": "code",
   "execution_count": null,
   "metadata": {
    "colab": {},
    "colab_type": "code",
    "executionInfo": {
     "elapsed": 1660,
     "status": "aborted",
     "timestamp": 1600085467203,
     "user": {
      "displayName": "indian ai production-editor",
      "photoUrl": "",
      "userId": "05336710603640792650"
     },
     "user_tz": -330
    },
    "id": "OaxzsI_UyATw"
   },
   "outputs": [],
   "source": []
  },
  {
   "cell_type": "code",
   "execution_count": null,
   "metadata": {
    "colab": {},
    "colab_type": "code",
    "executionInfo": {
     "elapsed": 1650,
     "status": "aborted",
     "timestamp": 1600085467203,
     "user": {
      "displayName": "indian ai production-editor",
      "photoUrl": "",
      "userId": "05336710603640792650"
     },
     "user_tz": -330
    },
    "id": "wGMvKXsmyO3P"
   },
   "outputs": [],
   "source": []
  },
  {
   "cell_type": "code",
   "execution_count": null,
   "metadata": {
    "colab": {},
    "colab_type": "code",
    "executionInfo": {
     "elapsed": 1639,
     "status": "aborted",
     "timestamp": 1600085467206,
     "user": {
      "displayName": "indian ai production-editor",
      "photoUrl": "",
      "userId": "05336710603640792650"
     },
     "user_tz": -330
    },
    "id": "3hUW-NwEydge"
   },
   "outputs": [],
   "source": []
  },
  {
   "cell_type": "code",
   "execution_count": null,
   "metadata": {
    "colab": {},
    "colab_type": "code",
    "executionInfo": {
     "elapsed": 1629,
     "status": "aborted",
     "timestamp": 1600085467208,
     "user": {
      "displayName": "indian ai production-editor",
      "photoUrl": "",
      "userId": "05336710603640792650"
     },
     "user_tz": -330
    },
    "id": "684mMLOnysJQ"
   },
   "outputs": [],
   "source": []
  },
  {
   "cell_type": "code",
   "execution_count": null,
   "metadata": {
    "colab": {},
    "colab_type": "code",
    "executionInfo": {
     "elapsed": 1603,
     "status": "aborted",
     "timestamp": 1600085467209,
     "user": {
      "displayName": "indian ai production-editor",
      "photoUrl": "",
      "userId": "05336710603640792650"
     },
     "user_tz": -330
    },
    "id": "b0yKyOH3y6zh"
   },
   "outputs": [],
   "source": []
  },
  {
   "cell_type": "code",
   "execution_count": null,
   "metadata": {
    "colab": {},
    "colab_type": "code",
    "executionInfo": {
     "elapsed": 1593,
     "status": "aborted",
     "timestamp": 1600085467210,
     "user": {
      "displayName": "indian ai production-editor",
      "photoUrl": "",
      "userId": "05336710603640792650"
     },
     "user_tz": -330
    },
    "id": "QCGbgdrtzJcJ"
   },
   "outputs": [],
   "source": []
  },
  {
   "cell_type": "code",
   "execution_count": null,
   "metadata": {
    "colab": {},
    "colab_type": "code",
    "executionInfo": {
     "elapsed": 1583,
     "status": "aborted",
     "timestamp": 1600085467211,
     "user": {
      "displayName": "indian ai production-editor",
      "photoUrl": "",
      "userId": "05336710603640792650"
     },
     "user_tz": -330
    },
    "id": "X65IR7aLzYGA"
   },
   "outputs": [],
   "source": []
  },
  {
   "cell_type": "code",
   "execution_count": null,
   "metadata": {
    "colab": {},
    "colab_type": "code",
    "executionInfo": {
     "elapsed": 1571,
     "status": "aborted",
     "timestamp": 1600085467213,
     "user": {
      "displayName": "indian ai production-editor",
      "photoUrl": "",
      "userId": "05336710603640792650"
     },
     "user_tz": -330
    },
    "id": "hQuclgPOzmwC"
   },
   "outputs": [],
   "source": []
  },
  {
   "cell_type": "code",
   "execution_count": null,
   "metadata": {
    "colab": {},
    "colab_type": "code",
    "executionInfo": {
     "elapsed": 1555,
     "status": "aborted",
     "timestamp": 1600085467216,
     "user": {
      "displayName": "indian ai production-editor",
      "photoUrl": "",
      "userId": "05336710603640792650"
     },
     "user_tz": -330
    },
    "id": "vIn0a3eiz1ZI"
   },
   "outputs": [],
   "source": []
  },
  {
   "cell_type": "code",
   "execution_count": null,
   "metadata": {
    "colab": {},
    "colab_type": "code",
    "executionInfo": {
     "elapsed": 1544,
     "status": "aborted",
     "timestamp": 1600085467217,
     "user": {
      "displayName": "indian ai production-editor",
      "photoUrl": "",
      "userId": "05336710603640792650"
     },
     "user_tz": -330
    },
    "id": "6bQu9eRV0EDh"
   },
   "outputs": [],
   "source": []
  },
  {
   "cell_type": "code",
   "execution_count": null,
   "metadata": {
    "colab": {},
    "colab_type": "code",
    "executionInfo": {
     "elapsed": 1523,
     "status": "aborted",
     "timestamp": 1600085467219,
     "user": {
      "displayName": "indian ai production-editor",
      "photoUrl": "",
      "userId": "05336710603640792650"
     },
     "user_tz": -330
    },
    "id": "nE0sVNyQ0SsT"
   },
   "outputs": [],
   "source": []
  },
  {
   "cell_type": "code",
   "execution_count": null,
   "metadata": {
    "colab": {},
    "colab_type": "code",
    "executionInfo": {
     "elapsed": 1508,
     "status": "aborted",
     "timestamp": 1600085467222,
     "user": {
      "displayName": "indian ai production-editor",
      "photoUrl": "",
      "userId": "05336710603640792650"
     },
     "user_tz": -330
    },
    "id": "qaidleCT0hWU"
   },
   "outputs": [],
   "source": []
  },
  {
   "cell_type": "code",
   "execution_count": null,
   "metadata": {
    "colab": {},
    "colab_type": "code",
    "executionInfo": {
     "elapsed": 1497,
     "status": "aborted",
     "timestamp": 1600085467223,
     "user": {
      "displayName": "indian ai production-editor",
      "photoUrl": "",
      "userId": "05336710603640792650"
     },
     "user_tz": -330
    },
    "id": "MkCF1Y1H0v_b"
   },
   "outputs": [],
   "source": []
  },
  {
   "cell_type": "code",
   "execution_count": null,
   "metadata": {
    "colab": {},
    "colab_type": "code",
    "executionInfo": {
     "elapsed": 1454,
     "status": "aborted",
     "timestamp": 1600085467224,
     "user": {
      "displayName": "indian ai production-editor",
      "photoUrl": "",
      "userId": "05336710603640792650"
     },
     "user_tz": -330
    },
    "id": "OeMrHKdi0-o_"
   },
   "outputs": [],
   "source": []
  },
  {
   "cell_type": "code",
   "execution_count": null,
   "metadata": {
    "colab": {},
    "colab_type": "code",
    "executionInfo": {
     "elapsed": 1440,
     "status": "aborted",
     "timestamp": 1600085467225,
     "user": {
      "displayName": "indian ai production-editor",
      "photoUrl": "",
      "userId": "05336710603640792650"
     },
     "user_tz": -330
    },
    "id": "wrRLjhek1NTb"
   },
   "outputs": [],
   "source": []
  },
  {
   "cell_type": "code",
   "execution_count": null,
   "metadata": {
    "colab": {},
    "colab_type": "code",
    "executionInfo": {
     "elapsed": 1426,
     "status": "aborted",
     "timestamp": 1600085467226,
     "user": {
      "displayName": "indian ai production-editor",
      "photoUrl": "",
      "userId": "05336710603640792650"
     },
     "user_tz": -330
    },
    "id": "mI9n8mE01b-p"
   },
   "outputs": [],
   "source": []
  },
  {
   "cell_type": "code",
   "execution_count": null,
   "metadata": {
    "colab": {},
    "colab_type": "code",
    "executionInfo": {
     "elapsed": 1409,
     "status": "aborted",
     "timestamp": 1600085467227,
     "user": {
      "displayName": "indian ai production-editor",
      "photoUrl": "",
      "userId": "05336710603640792650"
     },
     "user_tz": -330
    },
    "id": "4pRIBPc51ql-"
   },
   "outputs": [],
   "source": []
  },
  {
   "cell_type": "code",
   "execution_count": null,
   "metadata": {
    "colab": {},
    "colab_type": "code",
    "executionInfo": {
     "elapsed": 1394,
     "status": "aborted",
     "timestamp": 1600085467228,
     "user": {
      "displayName": "indian ai production-editor",
      "photoUrl": "",
      "userId": "05336710603640792650"
     },
     "user_tz": -330
    },
    "id": "k2hTKnNr15WM"
   },
   "outputs": [],
   "source": []
  },
  {
   "cell_type": "code",
   "execution_count": null,
   "metadata": {
    "colab": {},
    "colab_type": "code",
    "executionInfo": {
     "elapsed": 1378,
     "status": "aborted",
     "timestamp": 1600085467230,
     "user": {
      "displayName": "indian ai production-editor",
      "photoUrl": "",
      "userId": "05336710603640792650"
     },
     "user_tz": -330
    },
    "id": "JK5BKTjf2H4D"
   },
   "outputs": [],
   "source": []
  },
  {
   "cell_type": "code",
   "execution_count": null,
   "metadata": {
    "colab": {},
    "colab_type": "code",
    "executionInfo": {
     "elapsed": 1365,
     "status": "aborted",
     "timestamp": 1600085467231,
     "user": {
      "displayName": "indian ai production-editor",
      "photoUrl": "",
      "userId": "05336710603640792650"
     },
     "user_tz": -330
    },
    "id": "8EBoCFzN2Wlo"
   },
   "outputs": [],
   "source": []
  },
  {
   "cell_type": "code",
   "execution_count": null,
   "metadata": {
    "colab": {},
    "colab_type": "code",
    "executionInfo": {
     "elapsed": 1352,
     "status": "aborted",
     "timestamp": 1600085467232,
     "user": {
      "displayName": "indian ai production-editor",
      "photoUrl": "",
      "userId": "05336710603640792650"
     },
     "user_tz": -330
    },
    "id": "ELTYD7fx2lVY"
   },
   "outputs": [],
   "source": []
  },
  {
   "cell_type": "code",
   "execution_count": null,
   "metadata": {
    "colab": {},
    "colab_type": "code",
    "executionInfo": {
     "elapsed": 1342,
     "status": "aborted",
     "timestamp": 1600085467233,
     "user": {
      "displayName": "indian ai production-editor",
      "photoUrl": "",
      "userId": "05336710603640792650"
     },
     "user_tz": -330
    },
    "id": "tW8tpPCV2z9B"
   },
   "outputs": [],
   "source": []
  },
  {
   "cell_type": "code",
   "execution_count": null,
   "metadata": {
    "colab": {},
    "colab_type": "code",
    "executionInfo": {
     "elapsed": 1332,
     "status": "aborted",
     "timestamp": 1600085467234,
     "user": {
      "displayName": "indian ai production-editor",
      "photoUrl": "",
      "userId": "05336710603640792650"
     },
     "user_tz": -330
    },
    "id": "J2XDOUXU3CoJ"
   },
   "outputs": [],
   "source": []
  },
  {
   "cell_type": "code",
   "execution_count": null,
   "metadata": {
    "colab": {},
    "colab_type": "code",
    "executionInfo": {
     "elapsed": 1324,
     "status": "aborted",
     "timestamp": 1600085467236,
     "user": {
      "displayName": "indian ai production-editor",
      "photoUrl": "",
      "userId": "05336710603640792650"
     },
     "user_tz": -330
    },
    "id": "8oAMtsHX3RRW"
   },
   "outputs": [],
   "source": []
  },
  {
   "cell_type": "code",
   "execution_count": null,
   "metadata": {
    "colab": {},
    "colab_type": "code",
    "executionInfo": {
     "elapsed": 1317,
     "status": "aborted",
     "timestamp": 1600085467239,
     "user": {
      "displayName": "indian ai production-editor",
      "photoUrl": "",
      "userId": "05336710603640792650"
     },
     "user_tz": -330
    },
    "id": "8ihXlJhG3f6_"
   },
   "outputs": [],
   "source": []
  },
  {
   "cell_type": "code",
   "execution_count": null,
   "metadata": {
    "colab": {},
    "colab_type": "code",
    "executionInfo": {
     "elapsed": 1305,
     "status": "aborted",
     "timestamp": 1600085467240,
     "user": {
      "displayName": "indian ai production-editor",
      "photoUrl": "",
      "userId": "05336710603640792650"
     },
     "user_tz": -330
    },
    "id": "JoUyZHSD3ucI"
   },
   "outputs": [],
   "source": []
  },
  {
   "cell_type": "code",
   "execution_count": null,
   "metadata": {
    "colab": {},
    "colab_type": "code",
    "executionInfo": {
     "elapsed": 1297,
     "status": "aborted",
     "timestamp": 1600085467242,
     "user": {
      "displayName": "indian ai production-editor",
      "photoUrl": "",
      "userId": "05336710603640792650"
     },
     "user_tz": -330
    },
    "id": "plgISiM439IO"
   },
   "outputs": [],
   "source": []
  },
  {
   "cell_type": "code",
   "execution_count": null,
   "metadata": {
    "colab": {},
    "colab_type": "code",
    "executionInfo": {
     "elapsed": 1288,
     "status": "aborted",
     "timestamp": 1600085467243,
     "user": {
      "displayName": "indian ai production-editor",
      "photoUrl": "",
      "userId": "05336710603640792650"
     },
     "user_tz": -330
    },
    "id": "92Bpttic4L1B"
   },
   "outputs": [],
   "source": []
  },
  {
   "cell_type": "code",
   "execution_count": null,
   "metadata": {
    "colab": {},
    "colab_type": "code",
    "executionInfo": {
     "elapsed": 1270,
     "status": "aborted",
     "timestamp": 1600085467244,
     "user": {
      "displayName": "indian ai production-editor",
      "photoUrl": "",
      "userId": "05336710603640792650"
     },
     "user_tz": -330
    },
    "id": "_QUCYHYK4adX"
   },
   "outputs": [],
   "source": []
  },
  {
   "cell_type": "code",
   "execution_count": null,
   "metadata": {
    "colab": {},
    "colab_type": "code",
    "executionInfo": {
     "elapsed": 1258,
     "status": "aborted",
     "timestamp": 1600085467245,
     "user": {
      "displayName": "indian ai production-editor",
      "photoUrl": "",
      "userId": "05336710603640792650"
     },
     "user_tz": -330
    },
    "id": "lypSrNGK4pLf"
   },
   "outputs": [],
   "source": []
  },
  {
   "cell_type": "code",
   "execution_count": null,
   "metadata": {
    "colab": {},
    "colab_type": "code",
    "executionInfo": {
     "elapsed": 1249,
     "status": "aborted",
     "timestamp": 1600085467246,
     "user": {
      "displayName": "indian ai production-editor",
      "photoUrl": "",
      "userId": "05336710603640792650"
     },
     "user_tz": -330
    },
    "id": "iE63QuSf431c"
   },
   "outputs": [],
   "source": []
  },
  {
   "cell_type": "code",
   "execution_count": null,
   "metadata": {
    "colab": {},
    "colab_type": "code",
    "executionInfo": {
     "elapsed": 1242,
     "status": "aborted",
     "timestamp": 1600085467249,
     "user": {
      "displayName": "indian ai production-editor",
      "photoUrl": "",
      "userId": "05336710603640792650"
     },
     "user_tz": -330
    },
    "id": "83bTx0jQ5Ggn"
   },
   "outputs": [],
   "source": []
  },
  {
   "cell_type": "code",
   "execution_count": null,
   "metadata": {
    "colab": {},
    "colab_type": "code",
    "executionInfo": {
     "elapsed": 1234,
     "status": "aborted",
     "timestamp": 1600085467251,
     "user": {
      "displayName": "indian ai production-editor",
      "photoUrl": "",
      "userId": "05336710603640792650"
     },
     "user_tz": -330
    },
    "id": "p-sl94UF5VIR"
   },
   "outputs": [],
   "source": []
  },
  {
   "cell_type": "code",
   "execution_count": null,
   "metadata": {
    "colab": {},
    "colab_type": "code",
    "executionInfo": {
     "elapsed": 1226,
     "status": "aborted",
     "timestamp": 1600085467252,
     "user": {
      "displayName": "indian ai production-editor",
      "photoUrl": "",
      "userId": "05336710603640792650"
     },
     "user_tz": -330
    },
    "id": "pRm6dO435jwJ"
   },
   "outputs": [],
   "source": []
  },
  {
   "cell_type": "code",
   "execution_count": null,
   "metadata": {
    "colab": {},
    "colab_type": "code",
    "executionInfo": {
     "elapsed": 1218,
     "status": "aborted",
     "timestamp": 1600085467254,
     "user": {
      "displayName": "indian ai production-editor",
      "photoUrl": "",
      "userId": "05336710603640792650"
     },
     "user_tz": -330
    },
    "id": "1Yt37BZt5ybQ"
   },
   "outputs": [],
   "source": []
  },
  {
   "cell_type": "code",
   "execution_count": null,
   "metadata": {
    "colab": {},
    "colab_type": "code",
    "executionInfo": {
     "elapsed": 1210,
     "status": "aborted",
     "timestamp": 1600085467256,
     "user": {
      "displayName": "indian ai production-editor",
      "photoUrl": "",
      "userId": "05336710603640792650"
     },
     "user_tz": -330
    },
    "id": "-6Tabej_6BF5"
   },
   "outputs": [],
   "source": []
  },
  {
   "cell_type": "code",
   "execution_count": null,
   "metadata": {
    "colab": {},
    "colab_type": "code",
    "executionInfo": {
     "elapsed": 1202,
     "status": "aborted",
     "timestamp": 1600085467258,
     "user": {
      "displayName": "indian ai production-editor",
      "photoUrl": "",
      "userId": "05336710603640792650"
     },
     "user_tz": -330
    },
    "id": "Y21Rahm46Ps_"
   },
   "outputs": [],
   "source": []
  },
  {
   "cell_type": "code",
   "execution_count": null,
   "metadata": {
    "colab": {},
    "colab_type": "code",
    "executionInfo": {
     "elapsed": 1195,
     "status": "aborted",
     "timestamp": 1600085467259,
     "user": {
      "displayName": "indian ai production-editor",
      "photoUrl": "",
      "userId": "05336710603640792650"
     },
     "user_tz": -330
    },
    "id": "oe9OeZLP6eZL"
   },
   "outputs": [],
   "source": []
  },
  {
   "cell_type": "code",
   "execution_count": null,
   "metadata": {
    "colab": {},
    "colab_type": "code",
    "executionInfo": {
     "elapsed": 1187,
     "status": "aborted",
     "timestamp": 1600085467260,
     "user": {
      "displayName": "indian ai production-editor",
      "photoUrl": "",
      "userId": "05336710603640792650"
     },
     "user_tz": -330
    },
    "id": "BEBwo1BF6tAE"
   },
   "outputs": [],
   "source": []
  },
  {
   "cell_type": "code",
   "execution_count": null,
   "metadata": {
    "colab": {},
    "colab_type": "code",
    "executionInfo": {
     "elapsed": 1179,
     "status": "aborted",
     "timestamp": 1600085467261,
     "user": {
      "displayName": "indian ai production-editor",
      "photoUrl": "",
      "userId": "05336710603640792650"
     },
     "user_tz": -330
    },
    "id": "yc2TVJ4n67vz"
   },
   "outputs": [],
   "source": []
  },
  {
   "cell_type": "code",
   "execution_count": null,
   "metadata": {
    "colab": {},
    "colab_type": "code",
    "executionInfo": {
     "elapsed": 1168,
     "status": "aborted",
     "timestamp": 1600085467262,
     "user": {
      "displayName": "indian ai production-editor",
      "photoUrl": "",
      "userId": "05336710603640792650"
     },
     "user_tz": -330
    },
    "id": "tkSb1wuI7KNi"
   },
   "outputs": [],
   "source": []
  },
  {
   "cell_type": "code",
   "execution_count": null,
   "metadata": {
    "colab": {},
    "colab_type": "code",
    "executionInfo": {
     "elapsed": 1158,
     "status": "aborted",
     "timestamp": 1600085467263,
     "user": {
      "displayName": "indian ai production-editor",
      "photoUrl": "",
      "userId": "05336710603640792650"
     },
     "user_tz": -330
    },
    "id": "peWiBtWu7ZE5"
   },
   "outputs": [],
   "source": []
  },
  {
   "cell_type": "code",
   "execution_count": null,
   "metadata": {
    "colab": {},
    "colab_type": "code",
    "executionInfo": {
     "elapsed": 1146,
     "status": "aborted",
     "timestamp": 1600085467264,
     "user": {
      "displayName": "indian ai production-editor",
      "photoUrl": "",
      "userId": "05336710603640792650"
     },
     "user_tz": -330
    },
    "id": "8Ql4uT0Z7nmP"
   },
   "outputs": [],
   "source": []
  },
  {
   "cell_type": "code",
   "execution_count": null,
   "metadata": {
    "colab": {},
    "colab_type": "code",
    "executionInfo": {
     "elapsed": 1137,
     "status": "aborted",
     "timestamp": 1600085467265,
     "user": {
      "displayName": "indian ai production-editor",
      "photoUrl": "",
      "userId": "05336710603640792650"
     },
     "user_tz": -330
    },
    "id": "1ZLQV7oG8iKx"
   },
   "outputs": [],
   "source": []
  },
  {
   "cell_type": "code",
   "execution_count": null,
   "metadata": {
    "colab": {},
    "colab_type": "code",
    "executionInfo": {
     "elapsed": 1130,
     "status": "aborted",
     "timestamp": 1600085467266,
     "user": {
      "displayName": "indian ai production-editor",
      "photoUrl": "",
      "userId": "05336710603640792650"
     },
     "user_tz": -330
    },
    "id": "D6k-j-3L9cs1"
   },
   "outputs": [],
   "source": []
  },
  {
   "cell_type": "code",
   "execution_count": null,
   "metadata": {
    "colab": {},
    "colab_type": "code",
    "executionInfo": {
     "elapsed": 1123,
     "status": "aborted",
     "timestamp": 1600085467267,
     "user": {
      "displayName": "indian ai production-editor",
      "photoUrl": "",
      "userId": "05336710603640792650"
     },
     "user_tz": -330
    },
    "id": "tnt7Io1U8w5d"
   },
   "outputs": [],
   "source": []
  },
  {
   "cell_type": "code",
   "execution_count": null,
   "metadata": {
    "colab": {},
    "colab_type": "code",
    "executionInfo": {
     "elapsed": 1116,
     "status": "aborted",
     "timestamp": 1600085467269,
     "user": {
      "displayName": "indian ai production-editor",
      "photoUrl": "",
      "userId": "05336710603640792650"
     },
     "user_tz": -330
    },
    "id": "Y75j56IL8_Yi"
   },
   "outputs": [],
   "source": []
  },
  {
   "cell_type": "code",
   "execution_count": null,
   "metadata": {
    "colab": {},
    "colab_type": "code",
    "executionInfo": {
     "elapsed": 1107,
     "status": "aborted",
     "timestamp": 1600085467270,
     "user": {
      "displayName": "indian ai production-editor",
      "photoUrl": "",
      "userId": "05336710603640792650"
     },
     "user_tz": -330
    },
    "id": "kWlDLtHWCZR7"
   },
   "outputs": [],
   "source": []
  },
  {
   "cell_type": "code",
   "execution_count": null,
   "metadata": {
    "colab": {},
    "colab_type": "code",
    "executionInfo": {
     "elapsed": 1101,
     "status": "aborted",
     "timestamp": 1600085467273,
     "user": {
      "displayName": "indian ai production-editor",
      "photoUrl": "",
      "userId": "05336710603640792650"
     },
     "user_tz": -330
    },
    "id": "GmeEWTSqCn7a"
   },
   "outputs": [],
   "source": []
  },
  {
   "cell_type": "code",
   "execution_count": null,
   "metadata": {
    "colab": {},
    "colab_type": "code",
    "executionInfo": {
     "elapsed": 1094,
     "status": "aborted",
     "timestamp": 1600085467274,
     "user": {
      "displayName": "indian ai production-editor",
      "photoUrl": "",
      "userId": "05336710603640792650"
     },
     "user_tz": -330
    },
    "id": "IUvrZC_GC2k6"
   },
   "outputs": [],
   "source": []
  },
  {
   "cell_type": "code",
   "execution_count": null,
   "metadata": {
    "colab": {},
    "colab_type": "code",
    "executionInfo": {
     "elapsed": 1087,
     "status": "aborted",
     "timestamp": 1600085467275,
     "user": {
      "displayName": "indian ai production-editor",
      "photoUrl": "",
      "userId": "05336710603640792650"
     },
     "user_tz": -330
    },
    "id": "0Gf_y9tbDFOa"
   },
   "outputs": [],
   "source": []
  },
  {
   "cell_type": "code",
   "execution_count": null,
   "metadata": {
    "colab": {},
    "colab_type": "code",
    "executionInfo": {
     "elapsed": 1078,
     "status": "aborted",
     "timestamp": 1600085467275,
     "user": {
      "displayName": "indian ai production-editor",
      "photoUrl": "",
      "userId": "05336710603640792650"
     },
     "user_tz": -330
    },
    "id": "OG5J_dsmDT36"
   },
   "outputs": [],
   "source": []
  },
  {
   "cell_type": "code",
   "execution_count": null,
   "metadata": {
    "colab": {},
    "colab_type": "code",
    "executionInfo": {
     "elapsed": 1068,
     "status": "aborted",
     "timestamp": 1600085467276,
     "user": {
      "displayName": "indian ai production-editor",
      "photoUrl": "",
      "userId": "05336710603640792650"
     },
     "user_tz": -330
    },
    "id": "kDdj_sg8Dihe"
   },
   "outputs": [],
   "source": []
  },
  {
   "cell_type": "code",
   "execution_count": null,
   "metadata": {
    "colab": {},
    "colab_type": "code",
    "executionInfo": {
     "elapsed": 1058,
     "status": "aborted",
     "timestamp": 1600085467277,
     "user": {
      "displayName": "indian ai production-editor",
      "photoUrl": "",
      "userId": "05336710603640792650"
     },
     "user_tz": -330
    },
    "id": "2GtcUGTDDxK7"
   },
   "outputs": [],
   "source": []
  },
  {
   "cell_type": "code",
   "execution_count": null,
   "metadata": {
    "colab": {},
    "colab_type": "code",
    "executionInfo": {
     "elapsed": 1049,
     "status": "aborted",
     "timestamp": 1600085467278,
     "user": {
      "displayName": "indian ai production-editor",
      "photoUrl": "",
      "userId": "05336710603640792650"
     },
     "user_tz": -330
    },
    "id": "XkjvwyHID_0c"
   },
   "outputs": [],
   "source": []
  },
  {
   "cell_type": "code",
   "execution_count": null,
   "metadata": {
    "colab": {},
    "colab_type": "code",
    "executionInfo": {
     "elapsed": 1040,
     "status": "aborted",
     "timestamp": 1600085467279,
     "user": {
      "displayName": "indian ai production-editor",
      "photoUrl": "",
      "userId": "05336710603640792650"
     },
     "user_tz": -330
    },
    "id": "M7UhZRO7EOd6"
   },
   "outputs": [],
   "source": []
  },
  {
   "cell_type": "code",
   "execution_count": null,
   "metadata": {
    "colab": {},
    "colab_type": "code",
    "executionInfo": {
     "elapsed": 1027,
     "status": "aborted",
     "timestamp": 1600085467280,
     "user": {
      "displayName": "indian ai production-editor",
      "photoUrl": "",
      "userId": "05336710603640792650"
     },
     "user_tz": -330
    },
    "id": "WUAUkzXdEdHa"
   },
   "outputs": [],
   "source": []
  },
  {
   "cell_type": "code",
   "execution_count": null,
   "metadata": {
    "colab": {},
    "colab_type": "code",
    "executionInfo": {
     "elapsed": 1018,
     "status": "aborted",
     "timestamp": 1600085467281,
     "user": {
      "displayName": "indian ai production-editor",
      "photoUrl": "",
      "userId": "05336710603640792650"
     },
     "user_tz": -330
    },
    "id": "1koJRK-FErw8"
   },
   "outputs": [],
   "source": []
  },
  {
   "cell_type": "code",
   "execution_count": null,
   "metadata": {
    "colab": {},
    "colab_type": "code",
    "executionInfo": {
     "elapsed": 1012,
     "status": "aborted",
     "timestamp": 1600085467282,
     "user": {
      "displayName": "indian ai production-editor",
      "photoUrl": "",
      "userId": "05336710603640792650"
     },
     "user_tz": -330
    },
    "id": "hE4SYZniE6ac"
   },
   "outputs": [],
   "source": []
  },
  {
   "cell_type": "code",
   "execution_count": null,
   "metadata": {
    "colab": {},
    "colab_type": "code",
    "executionInfo": {
     "elapsed": 1006,
     "status": "aborted",
     "timestamp": 1600085467283,
     "user": {
      "displayName": "indian ai production-editor",
      "photoUrl": "",
      "userId": "05336710603640792650"
     },
     "user_tz": -330
    },
    "id": "cPqS9owcFJD7"
   },
   "outputs": [],
   "source": []
  },
  {
   "cell_type": "code",
   "execution_count": null,
   "metadata": {
    "colab": {},
    "colab_type": "code",
    "executionInfo": {
     "elapsed": 999,
     "status": "aborted",
     "timestamp": 1600085467284,
     "user": {
      "displayName": "indian ai production-editor",
      "photoUrl": "",
      "userId": "05336710603640792650"
     },
     "user_tz": -330
    },
    "id": "7yMZdt4UFXta"
   },
   "outputs": [],
   "source": []
  },
  {
   "cell_type": "code",
   "execution_count": null,
   "metadata": {
    "colab": {},
    "colab_type": "code",
    "executionInfo": {
     "elapsed": 992,
     "status": "aborted",
     "timestamp": 1600085467285,
     "user": {
      "displayName": "indian ai production-editor",
      "photoUrl": "",
      "userId": "05336710603640792650"
     },
     "user_tz": -330
    },
    "id": "cHN_zjv9FmW7"
   },
   "outputs": [],
   "source": []
  },
  {
   "cell_type": "code",
   "execution_count": null,
   "metadata": {
    "colab": {},
    "colab_type": "code",
    "executionInfo": {
     "elapsed": 985,
     "status": "aborted",
     "timestamp": 1600085467286,
     "user": {
      "displayName": "indian ai production-editor",
      "photoUrl": "",
      "userId": "05336710603640792650"
     },
     "user_tz": -330
    },
    "id": "0P3zUppPF1Ab"
   },
   "outputs": [],
   "source": []
  },
  {
   "cell_type": "code",
   "execution_count": null,
   "metadata": {
    "colab": {},
    "colab_type": "code",
    "executionInfo": {
     "elapsed": 976,
     "status": "aborted",
     "timestamp": 1600085467287,
     "user": {
      "displayName": "indian ai production-editor",
      "photoUrl": "",
      "userId": "05336710603640792650"
     },
     "user_tz": -330
    },
    "id": "uah2i7TQGDp8"
   },
   "outputs": [],
   "source": []
  },
  {
   "cell_type": "code",
   "execution_count": null,
   "metadata": {
    "colab": {},
    "colab_type": "code",
    "executionInfo": {
     "elapsed": 971,
     "status": "aborted",
     "timestamp": 1600085467289,
     "user": {
      "displayName": "indian ai production-editor",
      "photoUrl": "",
      "userId": "05336710603640792650"
     },
     "user_tz": -330
    },
    "id": "nfjvS4e8GSTb"
   },
   "outputs": [],
   "source": []
  },
  {
   "cell_type": "code",
   "execution_count": null,
   "metadata": {
    "colab": {},
    "colab_type": "code",
    "executionInfo": {
     "elapsed": 915,
     "status": "aborted",
     "timestamp": 1600085467290,
     "user": {
      "displayName": "indian ai production-editor",
      "photoUrl": "",
      "userId": "05336710603640792650"
     },
     "user_tz": -330
    },
    "id": "OL5362SPGg88"
   },
   "outputs": [],
   "source": []
  },
  {
   "cell_type": "code",
   "execution_count": null,
   "metadata": {
    "colab": {},
    "colab_type": "code",
    "executionInfo": {
     "elapsed": 908,
     "status": "aborted",
     "timestamp": 1600085467292,
     "user": {
      "displayName": "indian ai production-editor",
      "photoUrl": "",
      "userId": "05336710603640792650"
     },
     "user_tz": -330
    },
    "id": "ivyEpDXQGvmc"
   },
   "outputs": [],
   "source": []
  },
  {
   "cell_type": "code",
   "execution_count": null,
   "metadata": {
    "colab": {},
    "colab_type": "code",
    "executionInfo": {
     "elapsed": 881,
     "status": "aborted",
     "timestamp": 1600085467294,
     "user": {
      "displayName": "indian ai production-editor",
      "photoUrl": "",
      "userId": "05336710603640792650"
     },
     "user_tz": -330
    },
    "id": "pnRu1KCdG-P9"
   },
   "outputs": [],
   "source": []
  },
  {
   "cell_type": "code",
   "execution_count": null,
   "metadata": {
    "colab": {},
    "colab_type": "code",
    "executionInfo": {
     "elapsed": 875,
     "status": "aborted",
     "timestamp": 1600085467296,
     "user": {
      "displayName": "indian ai production-editor",
      "photoUrl": "",
      "userId": "05336710603640792650"
     },
     "user_tz": -330
    },
    "id": "qdHiVsjrHM5b"
   },
   "outputs": [],
   "source": []
  },
  {
   "cell_type": "code",
   "execution_count": null,
   "metadata": {
    "colab": {},
    "colab_type": "code",
    "executionInfo": {
     "elapsed": 867,
     "status": "aborted",
     "timestamp": 1600085467297,
     "user": {
      "displayName": "indian ai production-editor",
      "photoUrl": "",
      "userId": "05336710603640792650"
     },
     "user_tz": -330
    },
    "id": "Eba8zy1DHbi9"
   },
   "outputs": [],
   "source": []
  },
  {
   "cell_type": "code",
   "execution_count": null,
   "metadata": {
    "colab": {},
    "colab_type": "code",
    "executionInfo": {
     "elapsed": 861,
     "status": "aborted",
     "timestamp": 1600085467299,
     "user": {
      "displayName": "indian ai production-editor",
      "photoUrl": "",
      "userId": "05336710603640792650"
     },
     "user_tz": -330
    },
    "id": "3slsZ_lyHqMg"
   },
   "outputs": [],
   "source": []
  },
  {
   "cell_type": "code",
   "execution_count": null,
   "metadata": {
    "colab": {},
    "colab_type": "code",
    "executionInfo": {
     "elapsed": 846,
     "status": "aborted",
     "timestamp": 1600085467302,
     "user": {
      "displayName": "indian ai production-editor",
      "photoUrl": "",
      "userId": "05336710603640792650"
     },
     "user_tz": -330
    },
    "id": "RF2IJ3i0H42E"
   },
   "outputs": [],
   "source": []
  },
  {
   "cell_type": "code",
   "execution_count": null,
   "metadata": {
    "colab": {},
    "colab_type": "code",
    "executionInfo": {
     "elapsed": 841,
     "status": "aborted",
     "timestamp": 1600085467304,
     "user": {
      "displayName": "indian ai production-editor",
      "photoUrl": "",
      "userId": "05336710603640792650"
     },
     "user_tz": -330
    },
    "id": "HYlIa1xSIHfg"
   },
   "outputs": [],
   "source": []
  },
  {
   "cell_type": "code",
   "execution_count": null,
   "metadata": {
    "colab": {},
    "colab_type": "code",
    "executionInfo": {
     "elapsed": 834,
     "status": "aborted",
     "timestamp": 1600085467306,
     "user": {
      "displayName": "indian ai production-editor",
      "photoUrl": "",
      "userId": "05336710603640792650"
     },
     "user_tz": -330
    },
    "id": "ejAZGQHtIWJA"
   },
   "outputs": [],
   "source": []
  },
  {
   "cell_type": "code",
   "execution_count": null,
   "metadata": {
    "colab": {},
    "colab_type": "code",
    "executionInfo": {
     "elapsed": 828,
     "status": "aborted",
     "timestamp": 1600085467307,
     "user": {
      "displayName": "indian ai production-editor",
      "photoUrl": "",
      "userId": "05336710603640792650"
     },
     "user_tz": -330
    },
    "id": "A88rE0tQIkyc"
   },
   "outputs": [],
   "source": []
  },
  {
   "cell_type": "code",
   "execution_count": null,
   "metadata": {
    "colab": {},
    "colab_type": "code",
    "executionInfo": {
     "elapsed": 823,
     "status": "aborted",
     "timestamp": 1600085467309,
     "user": {
      "displayName": "indian ai production-editor",
      "photoUrl": "",
      "userId": "05336710603640792650"
     },
     "user_tz": -330
    },
    "id": "sGKOaTBNIzcv"
   },
   "outputs": [],
   "source": []
  },
  {
   "cell_type": "code",
   "execution_count": null,
   "metadata": {
    "colab": {},
    "colab_type": "code",
    "executionInfo": {
     "elapsed": 808,
     "status": "aborted",
     "timestamp": 1600085467310,
     "user": {
      "displayName": "indian ai production-editor",
      "photoUrl": "",
      "userId": "05336710603640792650"
     },
     "user_tz": -330
    },
    "id": "zKMsqrFjJCFd"
   },
   "outputs": [],
   "source": []
  },
  {
   "cell_type": "code",
   "execution_count": null,
   "metadata": {
    "colab": {},
    "colab_type": "code",
    "executionInfo": {
     "elapsed": 801,
     "status": "aborted",
     "timestamp": 1600085467311,
     "user": {
      "displayName": "indian ai production-editor",
      "photoUrl": "",
      "userId": "05336710603640792650"
     },
     "user_tz": -330
    },
    "id": "n4J1JKpVJQvy"
   },
   "outputs": [],
   "source": []
  },
  {
   "cell_type": "code",
   "execution_count": null,
   "metadata": {
    "colab": {},
    "colab_type": "code",
    "executionInfo": {
     "elapsed": 792,
     "status": "aborted",
     "timestamp": 1600085467312,
     "user": {
      "displayName": "indian ai production-editor",
      "photoUrl": "",
      "userId": "05336710603640792650"
     },
     "user_tz": -330
    },
    "id": "Xn7ZoDvbJfYk"
   },
   "outputs": [],
   "source": []
  },
  {
   "cell_type": "code",
   "execution_count": null,
   "metadata": {
    "colab": {},
    "colab_type": "code",
    "executionInfo": {
     "elapsed": 784,
     "status": "aborted",
     "timestamp": 1600085467313,
     "user": {
      "displayName": "indian ai production-editor",
      "photoUrl": "",
      "userId": "05336710603640792650"
     },
     "user_tz": -330
    },
    "id": "lj6Y9II1JuCH"
   },
   "outputs": [],
   "source": []
  },
  {
   "cell_type": "code",
   "execution_count": null,
   "metadata": {
    "colab": {},
    "colab_type": "code",
    "executionInfo": {
     "elapsed": 768,
     "status": "aborted",
     "timestamp": 1600085467314,
     "user": {
      "displayName": "indian ai production-editor",
      "photoUrl": "",
      "userId": "05336710603640792650"
     },
     "user_tz": -330
    },
    "id": "XGBkVgmWJ8rc"
   },
   "outputs": [],
   "source": []
  },
  {
   "cell_type": "code",
   "execution_count": null,
   "metadata": {
    "colab": {},
    "colab_type": "code",
    "executionInfo": {
     "elapsed": 760,
     "status": "aborted",
     "timestamp": 1600085467315,
     "user": {
      "displayName": "indian ai production-editor",
      "photoUrl": "",
      "userId": "05336710603640792650"
     },
     "user_tz": -330
    },
    "id": "S5EOBy5eKLVK"
   },
   "outputs": [],
   "source": []
  },
  {
   "cell_type": "code",
   "execution_count": null,
   "metadata": {
    "colab": {},
    "colab_type": "code",
    "executionInfo": {
     "elapsed": 746,
     "status": "aborted",
     "timestamp": 1600085467315,
     "user": {
      "displayName": "indian ai production-editor",
      "photoUrl": "",
      "userId": "05336710603640792650"
     },
     "user_tz": -330
    },
    "id": "JBz6kQ3TKZ-i"
   },
   "outputs": [],
   "source": []
  },
  {
   "cell_type": "code",
   "execution_count": null,
   "metadata": {
    "colab": {},
    "colab_type": "code",
    "executionInfo": {
     "elapsed": 739,
     "status": "aborted",
     "timestamp": 1600085467317,
     "user": {
      "displayName": "indian ai production-editor",
      "photoUrl": "",
      "userId": "05336710603640792650"
     },
     "user_tz": -330
    },
    "id": "hbfGpMHTKooC"
   },
   "outputs": [],
   "source": []
  },
  {
   "cell_type": "code",
   "execution_count": null,
   "metadata": {
    "colab": {},
    "colab_type": "code",
    "executionInfo": {
     "elapsed": 732,
     "status": "aborted",
     "timestamp": 1600085467318,
     "user": {
      "displayName": "indian ai production-editor",
      "photoUrl": "",
      "userId": "05336710603640792650"
     },
     "user_tz": -330
    },
    "id": "BFn-XFQ_K3Ri"
   },
   "outputs": [],
   "source": []
  },
  {
   "cell_type": "code",
   "execution_count": null,
   "metadata": {
    "colab": {},
    "colab_type": "code",
    "executionInfo": {
     "elapsed": 723,
     "status": "aborted",
     "timestamp": 1600085467319,
     "user": {
      "displayName": "indian ai production-editor",
      "photoUrl": "",
      "userId": "05336710603640792650"
     },
     "user_tz": -330
    },
    "id": "4Hmuen_8LF7E"
   },
   "outputs": [],
   "source": []
  },
  {
   "cell_type": "code",
   "execution_count": null,
   "metadata": {
    "colab": {},
    "colab_type": "code",
    "executionInfo": {
     "elapsed": 717,
     "status": "aborted",
     "timestamp": 1600085467320,
     "user": {
      "displayName": "indian ai production-editor",
      "photoUrl": "",
      "userId": "05336710603640792650"
     },
     "user_tz": -330
    },
    "id": "BSlp5NV7LUkn"
   },
   "outputs": [],
   "source": []
  },
  {
   "cell_type": "code",
   "execution_count": null,
   "metadata": {
    "colab": {},
    "colab_type": "code",
    "executionInfo": {
     "elapsed": 714,
     "status": "aborted",
     "timestamp": 1600085467323,
     "user": {
      "displayName": "indian ai production-editor",
      "photoUrl": "",
      "userId": "05336710603640792650"
     },
     "user_tz": -330
    },
    "id": "sWmc0uOWLjOS"
   },
   "outputs": [],
   "source": []
  },
  {
   "cell_type": "code",
   "execution_count": null,
   "metadata": {
    "colab": {},
    "colab_type": "code",
    "executionInfo": {
     "elapsed": 709,
     "status": "aborted",
     "timestamp": 1600085467324,
     "user": {
      "displayName": "indian ai production-editor",
      "photoUrl": "",
      "userId": "05336710603640792650"
     },
     "user_tz": -330
    },
    "id": "v3jpezwRLx3h"
   },
   "outputs": [],
   "source": []
  },
  {
   "cell_type": "code",
   "execution_count": null,
   "metadata": {
    "colab": {},
    "colab_type": "code",
    "executionInfo": {
     "elapsed": 705,
     "status": "aborted",
     "timestamp": 1600085467325,
     "user": {
      "displayName": "indian ai production-editor",
      "photoUrl": "",
      "userId": "05336710603640792650"
     },
     "user_tz": -330
    },
    "id": "BYFkDihIMAhE"
   },
   "outputs": [],
   "source": []
  },
  {
   "cell_type": "code",
   "execution_count": null,
   "metadata": {
    "colab": {},
    "colab_type": "code",
    "executionInfo": {
     "elapsed": 700,
     "status": "aborted",
     "timestamp": 1600085467326,
     "user": {
      "displayName": "indian ai production-editor",
      "photoUrl": "",
      "userId": "05336710603640792650"
     },
     "user_tz": -330
    },
    "id": "R8VmWtOiMPK-"
   },
   "outputs": [],
   "source": []
  },
  {
   "cell_type": "code",
   "execution_count": null,
   "metadata": {
    "colab": {},
    "colab_type": "code",
    "executionInfo": {
     "elapsed": 693,
     "status": "aborted",
     "timestamp": 1600085467327,
     "user": {
      "displayName": "indian ai production-editor",
      "photoUrl": "",
      "userId": "05336710603640792650"
     },
     "user_tz": -330
    },
    "id": "ckfOzM_2Md0v"
   },
   "outputs": [],
   "source": []
  },
  {
   "cell_type": "code",
   "execution_count": null,
   "metadata": {
    "colab": {},
    "colab_type": "code",
    "executionInfo": {
     "elapsed": 683,
     "status": "aborted",
     "timestamp": 1600085467328,
     "user": {
      "displayName": "indian ai production-editor",
      "photoUrl": "",
      "userId": "05336710603640792650"
     },
     "user_tz": -330
    },
    "id": "SVWJ9sAYMsdk"
   },
   "outputs": [],
   "source": []
  },
  {
   "cell_type": "code",
   "execution_count": null,
   "metadata": {
    "colab": {},
    "colab_type": "code",
    "executionInfo": {
     "elapsed": 673,
     "status": "aborted",
     "timestamp": 1600085467329,
     "user": {
      "displayName": "indian ai production-editor",
      "photoUrl": "",
      "userId": "05336710603640792650"
     },
     "user_tz": -330
    },
    "id": "ytpzqhdbM7HN"
   },
   "outputs": [],
   "source": []
  },
  {
   "cell_type": "code",
   "execution_count": null,
   "metadata": {
    "colab": {},
    "colab_type": "code",
    "executionInfo": {
     "elapsed": 667,
     "status": "aborted",
     "timestamp": 1600085467330,
     "user": {
      "displayName": "indian ai production-editor",
      "photoUrl": "",
      "userId": "05336710603640792650"
     },
     "user_tz": -330
    },
    "id": "d6aBEtOVNJwd"
   },
   "outputs": [],
   "source": []
  },
  {
   "cell_type": "code",
   "execution_count": null,
   "metadata": {
    "colab": {},
    "colab_type": "code",
    "executionInfo": {
     "elapsed": 659,
     "status": "aborted",
     "timestamp": 1600085467331,
     "user": {
      "displayName": "indian ai production-editor",
      "photoUrl": "",
      "userId": "05336710603640792650"
     },
     "user_tz": -330
    },
    "id": "DsUjxBqtNYaD"
   },
   "outputs": [],
   "source": []
  },
  {
   "cell_type": "code",
   "execution_count": null,
   "metadata": {
    "colab": {},
    "colab_type": "code",
    "executionInfo": {
     "elapsed": 648,
     "status": "aborted",
     "timestamp": 1600085467332,
     "user": {
      "displayName": "indian ai production-editor",
      "photoUrl": "",
      "userId": "05336710603640792650"
     },
     "user_tz": -330
    },
    "id": "LqO9GDtANnDj"
   },
   "outputs": [],
   "source": []
  },
  {
   "cell_type": "code",
   "execution_count": null,
   "metadata": {
    "colab": {},
    "colab_type": "code",
    "executionInfo": {
     "elapsed": 630,
     "status": "aborted",
     "timestamp": 1600085467333,
     "user": {
      "displayName": "indian ai production-editor",
      "photoUrl": "",
      "userId": "05336710603640792650"
     },
     "user_tz": -330
    },
    "id": "H73QQhcyN1tH"
   },
   "outputs": [],
   "source": []
  },
  {
   "cell_type": "code",
   "execution_count": null,
   "metadata": {
    "colab": {},
    "colab_type": "code",
    "executionInfo": {
     "elapsed": 621,
     "status": "aborted",
     "timestamp": 1600085467334,
     "user": {
      "displayName": "indian ai production-editor",
      "photoUrl": "",
      "userId": "05336710603640792650"
     },
     "user_tz": -330
    },
    "id": "y17J7-o9OEWr"
   },
   "outputs": [],
   "source": []
  },
  {
   "cell_type": "code",
   "execution_count": null,
   "metadata": {
    "colab": {},
    "colab_type": "code",
    "executionInfo": {
     "elapsed": 615,
     "status": "aborted",
     "timestamp": 1600085467335,
     "user": {
      "displayName": "indian ai production-editor",
      "photoUrl": "",
      "userId": "05336710603640792650"
     },
     "user_tz": -330
    },
    "id": "-zaTsbhVOTA5"
   },
   "outputs": [],
   "source": []
  },
  {
   "cell_type": "code",
   "execution_count": null,
   "metadata": {
    "colab": {},
    "colab_type": "code",
    "executionInfo": {
     "elapsed": 608,
     "status": "aborted",
     "timestamp": 1600085467336,
     "user": {
      "displayName": "indian ai production-editor",
      "photoUrl": "",
      "userId": "05336710603640792650"
     },
     "user_tz": -330
    },
    "id": "4jPkCfXPOhqe"
   },
   "outputs": [],
   "source": []
  },
  {
   "cell_type": "code",
   "execution_count": null,
   "metadata": {
    "colab": {},
    "colab_type": "code",
    "executionInfo": {
     "elapsed": 603,
     "status": "aborted",
     "timestamp": 1600085467337,
     "user": {
      "displayName": "indian ai production-editor",
      "photoUrl": "",
      "userId": "05336710603640792650"
     },
     "user_tz": -330
    },
    "id": "MdhFlno_OwTD"
   },
   "outputs": [],
   "source": []
  },
  {
   "cell_type": "code",
   "execution_count": null,
   "metadata": {
    "colab": {},
    "colab_type": "code",
    "executionInfo": {
     "elapsed": 598,
     "status": "aborted",
     "timestamp": 1600085467338,
     "user": {
      "displayName": "indian ai production-editor",
      "photoUrl": "",
      "userId": "05336710603640792650"
     },
     "user_tz": -330
    },
    "id": "dQuvy5wdO-8r"
   },
   "outputs": [],
   "source": []
  },
  {
   "cell_type": "code",
   "execution_count": null,
   "metadata": {
    "colab": {},
    "colab_type": "code",
    "executionInfo": {
     "elapsed": 593,
     "status": "aborted",
     "timestamp": 1600085467339,
     "user": {
      "displayName": "indian ai production-editor",
      "photoUrl": "",
      "userId": "05336710603640792650"
     },
     "user_tz": -330
    },
    "id": "OeSKHh5HPNmJ"
   },
   "outputs": [],
   "source": []
  },
  {
   "cell_type": "code",
   "execution_count": null,
   "metadata": {
    "colab": {},
    "colab_type": "code",
    "executionInfo": {
     "elapsed": 588,
     "status": "aborted",
     "timestamp": 1600085467341,
     "user": {
      "displayName": "indian ai production-editor",
      "photoUrl": "",
      "userId": "05336710603640792650"
     },
     "user_tz": -330
    },
    "id": "qmj8FPF2PcQ9"
   },
   "outputs": [],
   "source": []
  },
  {
   "cell_type": "code",
   "execution_count": null,
   "metadata": {
    "colab": {},
    "colab_type": "code",
    "executionInfo": {
     "elapsed": 582,
     "status": "aborted",
     "timestamp": 1600085467342,
     "user": {
      "displayName": "indian ai production-editor",
      "photoUrl": "",
      "userId": "05336710603640792650"
     },
     "user_tz": -330
    },
    "id": "e1fneKeuPq5Y"
   },
   "outputs": [],
   "source": []
  },
  {
   "cell_type": "code",
   "execution_count": null,
   "metadata": {
    "colab": {},
    "colab_type": "code",
    "executionInfo": {
     "elapsed": 575,
     "status": "aborted",
     "timestamp": 1600085467343,
     "user": {
      "displayName": "indian ai production-editor",
      "photoUrl": "",
      "userId": "05336710603640792650"
     },
     "user_tz": -330
    },
    "id": "mbenejfjP5ik"
   },
   "outputs": [],
   "source": []
  },
  {
   "cell_type": "code",
   "execution_count": null,
   "metadata": {
    "colab": {},
    "colab_type": "code",
    "executionInfo": {
     "elapsed": 569,
     "status": "aborted",
     "timestamp": 1600085467344,
     "user": {
      "displayName": "indian ai production-editor",
      "photoUrl": "",
      "userId": "05336710603640792650"
     },
     "user_tz": -330
    },
    "id": "OZIVSOOqQIMN"
   },
   "outputs": [],
   "source": []
  },
  {
   "cell_type": "code",
   "execution_count": null,
   "metadata": {
    "colab": {},
    "colab_type": "code",
    "executionInfo": {
     "elapsed": 564,
     "status": "aborted",
     "timestamp": 1600085467345,
     "user": {
      "displayName": "indian ai production-editor",
      "photoUrl": "",
      "userId": "05336710603640792650"
     },
     "user_tz": -330
    },
    "id": "swtqY7U4QW10"
   },
   "outputs": [],
   "source": []
  },
  {
   "cell_type": "code",
   "execution_count": null,
   "metadata": {
    "colab": {},
    "colab_type": "code",
    "executionInfo": {
     "elapsed": 560,
     "status": "aborted",
     "timestamp": 1600085467346,
     "user": {
      "displayName": "indian ai production-editor",
      "photoUrl": "",
      "userId": "05336710603640792650"
     },
     "user_tz": -330
    },
    "id": "0zOeu6tOQlfI"
   },
   "outputs": [],
   "source": []
  },
  {
   "cell_type": "code",
   "execution_count": null,
   "metadata": {
    "colab": {},
    "colab_type": "code",
    "executionInfo": {
     "elapsed": 552,
     "status": "aborted",
     "timestamp": 1600085467347,
     "user": {
      "displayName": "indian ai production-editor",
      "photoUrl": "",
      "userId": "05336710603640792650"
     },
     "user_tz": -330
    },
    "id": "EsIvgp0_Q0I5"
   },
   "outputs": [],
   "source": []
  }
 ],
 "metadata": {
  "accelerator": "GPU",
  "colab": {
   "authorship_tag": "ABX9TyO3rMFbJ9VdZpNAxv0LpFlL",
   "collapsed_sections": [],
   "mount_file_id": "1op5Ku6AkGdrdFsDPO0q34-5cLm_Cn5NW",
   "name": "mask detection CNN.ipynb",
   "provenance": []
  },
  "kernelspec": {
   "display_name": "Python 3",
   "language": "python",
   "name": "python3"
  },
  "language_info": {
   "codemirror_mode": {
    "name": "ipython",
    "version": 3
   },
   "file_extension": ".py",
   "mimetype": "text/x-python",
   "name": "python",
   "nbconvert_exporter": "python",
   "pygments_lexer": "ipython3",
   "version": "3.8.5"
  }
 },
 "nbformat": 4,
 "nbformat_minor": 1
}

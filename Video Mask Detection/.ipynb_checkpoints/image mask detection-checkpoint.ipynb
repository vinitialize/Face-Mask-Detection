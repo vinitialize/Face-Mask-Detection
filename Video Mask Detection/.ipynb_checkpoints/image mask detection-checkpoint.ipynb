{
 "cells": [
  {
   "cell_type": "markdown",
   "metadata": {},
   "source": [
    "## Import required packages"
   ]
  },
  {
   "cell_type": "code",
   "execution_count": 1,
   "metadata": {},
   "outputs": [],
   "source": [
    "import cv2\n",
    "import os\n",
    "from keras.models import load_model\n",
    "from keras.preprocessing.image import load_img, img_to_array\n",
    "import numpy as np"
   ]
  },
  {
   "cell_type": "markdown",
   "metadata": {},
   "source": [
    "## Loading CNN model"
   ]
  },
  {
   "cell_type": "code",
   "execution_count": 2,
   "metadata": {},
   "outputs": [],
   "source": [
    "model = load_model('model/model_acc_974_vacc_991.h5')\n",
    "\n",
    "# model accept below hight and width of the image\n",
    "img_width, img_hight = 200, 200"
   ]
  },
  {
   "cell_type": "markdown",
   "metadata": {},
   "source": [
    "## Read image from dataset"
   ]
  },
  {
   "cell_type": "code",
   "execution_count": null,
   "metadata": {},
   "outputs": [],
   "source": [
    "#read image from dataset\n",
    "color_img = cv2.imread('images/mask-5136259_1280.jpg')"
   ]
  },
  {
   "cell_type": "markdown",
   "metadata": {},
   "source": [
    "## Loading Cascade"
   ]
  },
  {
   "cell_type": "code",
   "execution_count": 3,
   "metadata": {},
   "outputs": [
    {
     "name": "stdout",
     "output_type": "stream",
     "text": [
      "User with mask - predic =  0.99991083\n"
     ]
    }
   ],
   "source": [
    "# Load the Cascade face Classifier\n",
    "face_cascade = cv2.CascadeClassifier(\"haarcascade_frontalface_default.xml\")\n",
    "\n",
    "#parameters for text\n",
    "# font \n",
    "font = cv2.FONT_HERSHEY_SIMPLEX \n",
    "# org \n",
    "org = (1, 1)\n",
    "class_lable=' '      \n",
    "# fontScale \n",
    "fontScale = 1 #0.5\n",
    "# Blue color in BGR \n",
    "color = (255, 0, 0) \n",
    "# Line thickness of 2 px \n",
    "thickness = 2 #1\n",
    "\n",
    "# Convert to grayscale\n",
    "gray_img = cv2.cvtColor(color_img, cv2.COLOR_BGR2GRAY)\n",
    "    \n",
    "# Detect the faces\n",
    "faces = face_cascade.detectMultiScale(gray_img, 1.1, 6) \n",
    "    \n",
    "#take face then predict class mask or not mask then draw recrangle and text then display image\n",
    "img_count = 0\n",
    "for (x, y, w, h) in faces:\n",
    "    org = (x-10,y-10)\n",
    "    img_count +=1 \n",
    "    color_face = color_img[y:y+h,x:x+w] # color face\n",
    "    cv2.imwrite('faces/input/%dface.jpg'%(img_count),color_face)\n",
    "    img = load_img('faces/input/%dface.jpg'%(img_count), target_size=(img_width,img_hight))\n",
    "        \n",
    "    img = img_to_array(img)/255\n",
    "    img = np.expand_dims(img,axis=0)\n",
    "    pred_prob = model.predict(img)\n",
    "    #print(pred_prob[0][0].round(2))\n",
    "    pred=np.argmax(pred_prob)\n",
    "            \n",
    "    if pred==0:\n",
    "        print(\"User with mask - predic = \",pred_prob[0][0])\n",
    "        class_lable = \"Mask\"\n",
    "        color = (255, 0, 0)\n",
    "        cv2.imwrite('faces/with_mask/%dface.jpg'%(img_count),color_face)\n",
    "        cv2.rectangle(color_img, (x, y), (x+w, y+h), (0, 0, 255), 3)\n",
    "        # Using cv2.putText() method \n",
    "        cv2.putText(color_img, class_lable, org, font,  \n",
    "                                   fontScale, color, thickness, cv2.LINE_AA) \n",
    "        cv2.imwrite('faces/with_mask/%dmask.jpg'%(img_count),color_img)\n",
    "\n",
    "    else:\n",
    "        print('user not wearing mask - prob = ',pred_prob[0][1])\n",
    "        class_lable = \"No Mask\"\n",
    "        color = (0, 255, 0)\n",
    "        cv2.imwrite('faces/without_mask/%dface.jpg'%(img_count),color_face)\n",
    "        cv2.rectangle(color_img, (x, y), (x+w, y+h), (0, 0, 255), 3)\n",
    "        # Using cv2.putText() method \n",
    "        cv2.putText(color_img, class_lable, org, font,  \n",
    "                                   fontScale, color, thickness, cv2.LINE_AA)         \n",
    "        cv2.imwrite('faces/with_mask/%dno_mask.jpg'%(img_count),color_img)\n",
    "                \n",
    "# display image\n",
    "cv2.imshow('LIVE face mask detection', color_img)\n",
    "    \n",
    "cv2.waitKey() \n",
    "\n",
    "#close all windows\n",
    "cv2.destroyAllWindows()"
   ]
  }
 ],
 "metadata": {
  "kernelspec": {
   "display_name": "Python 3",
   "language": "python",
   "name": "python3"
  },
  "language_info": {
   "codemirror_mode": {
    "name": "ipython",
    "version": 3
   },
   "file_extension": ".py",
   "mimetype": "text/x-python",
   "name": "python",
   "nbconvert_exporter": "python",
   "pygments_lexer": "ipython3",
   "version": "3.8.5"
  }
 },
 "nbformat": 4,
 "nbformat_minor": 4
}
